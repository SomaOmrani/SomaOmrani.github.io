{
  "cells": [
    {
      "cell_type": "markdown",
      "metadata": {
        "id": "X2o2LfkXUfBW"
      },
      "source": [
        "we will proceed to install all the necessary libraries:"
      ]
    },
    {
      "cell_type": "code",
      "execution_count": null,
      "metadata": {
        "id": "5pIWeQQaVtra"
      },
      "outputs": [],
      "source": [
        "!pip install -qqq transformers==4.27.2 --progress-bar off"
      ]
    },
    {
      "cell_type": "code",
      "execution_count": null,
      "metadata": {
        "id": "LKubJ4UmVvkv"
      },
      "outputs": [],
      "source": [
        "!pip install -qqq pytorch-lightning==1.9.4 --progress-bar off"
      ]
    },
    {
      "cell_type": "code",
      "execution_count": null,
      "metadata": {
        "id": "gdGivwJbV3oZ"
      },
      "outputs": [],
      "source": [
        "!pip install -qqq torchmetrics==0.11.4 --progress-bar off"
      ]
    },
    {
      "cell_type": "code",
      "execution_count": null,
      "metadata": {
        "id": "enYCuzQAV_1g"
      },
      "outputs": [],
      "source": [
        "!pip install -qqq imgkit==1.2.3 --progress-bar off"
      ]
    },
    {
      "cell_type": "code",
      "execution_count": null,
      "metadata": {
        "id": "Z6_fD8GkWCic"
      },
      "outputs": [],
      "source": [
        "!pip install -qqq easyocr==1.6.2 --progress-bar off"
      ]
    },
    {
      "cell_type": "code",
      "execution_count": null,
      "metadata": {
        "id": "-Zzhhp0YWEm4"
      },
      "outputs": [],
      "source": [
        "!pip install -qqq Pillow==9.5.0 --progress-bar off\n",
        "# !pip install --upgrade Pillow"
      ]
    },
    {
      "cell_type": "code",
      "execution_count": null,
      "metadata": {
        "id": "UU_2iYeVWHe0"
      },
      "outputs": [],
      "source": [
        "!pip install -qqq tensorboardX==2.5.1 --progress-bar off"
      ]
    },
    {
      "cell_type": "code",
      "execution_count": null,
      "metadata": {
        "id": "ZhNh0DmJWMZ5"
      },
      "outputs": [],
      "source": [
        "!pip install -qqq huggingface_hub==0.11.1 --progress-bar off"
      ]
    },
    {
      "cell_type": "code",
      "execution_count": null,
      "metadata": {
        "id": "0JsAsxtFWVSK"
      },
      "outputs": [],
      "source": [
        "!pip install -qqq --upgrade --no-cache-dir gdown"
      ]
    },
    {
      "cell_type": "code",
      "execution_count": null,
      "metadata": {
        "id": "J8qTAQ-TYRJu"
      },
      "outputs": [],
      "source": [
        "!pip install pdf2image"
      ]
    },
    {
      "cell_type": "code",
      "execution_count": null,
      "metadata": {
        "id": "8MBcNeEZb1_1"
      },
      "outputs": [],
      "source": [
        "!apt-get install poppler-utils"
      ]
    },
    {
      "cell_type": "code",
      "execution_count": null,
      "metadata": {
        "colab": {
          "base_uri": "https://localhost:8080/"
        },
        "id": "6LqR49mCcXDh",
        "outputId": "16a0cec2-fffc-4cf2-9317-eaf488c2951c"
      },
      "outputs": [
        {
          "output_type": "stream",
          "name": "stdout",
          "text": [
            "Mounted at /content/drive\n"
          ]
        }
      ],
      "source": [
        "from google.colab import drive\n",
        "drive.mount('/content/drive')"
      ]
    },
    {
      "cell_type": "markdown",
      "metadata": {
        "id": "STukO6I1Uult"
      },
      "source": [
        "Add all imports that we'll use"
      ]
    },
    {
      "cell_type": "code",
      "execution_count": null,
      "metadata": {
        "colab": {
          "base_uri": "https://localhost:8080/"
        },
        "id": "9T7bowO1WYlz",
        "outputId": "8d8dc4d6-1bdc-4a66-eef8-775f360d8959"
      },
      "outputs": [
        {
          "output_type": "stream",
          "name": "stderr",
          "text": [
            "INFO:lightning_fabric.utilities.seed:Global seed set to 42\n"
          ]
        },
        {
          "output_type": "execute_result",
          "data": {
            "text/plain": [
              "42"
            ]
          },
          "metadata": {},
          "execution_count": 10
        }
      ],
      "source": [
        "from transformers import LayoutLMv3FeatureExtractor, LayoutLMv3TokenizerFast, LayoutLMv3Processor, LayoutLMv3ForSequenceClassification\n",
        "from tqdm import tqdm\n",
        "import torch\n",
        "from torch.utils.data import Dataset, DataLoader\n",
        "import pytorch_lightning as pl\n",
        "from pytorch_lightning.callbacks import ModelCheckpoint, Callback\n",
        "from PIL import Image, ImageDraw, ImageFont\n",
        "import numpy as np\n",
        "from sklearn.model_selection import train_test_split\n",
        "from sklearn.metrics import accuracy_score, precision_score, recall_score, f1_score\n",
        "import shutil\n",
        "import glob\n",
        "import imgkit\n",
        "import easyocr\n",
        "import torchvision.transforms as T\n",
        "from pathlib import Path\n",
        "import matplotlib.pyplot as plt\n",
        "import os\n",
        "import cv2\n",
        "from typing import List\n",
        "import json\n",
        "from torchmetrics import Accuracy\n",
        "from huggingface_hub import notebook_login\n",
        "from sklearn.metrics import confusion_matrix, ConfusionMatrixDisplay\n",
        "from pdf2image import convert_from_path\n",
        "\n",
        "%matplotlib inline\n",
        "pl.seed_everything(42)"
      ]
    },
    {
      "cell_type": "markdown",
      "metadata": {
        "id": "OgB96WDebyME"
      },
      "source": [
        "convert PDF files to images"
      ]
    },
    {
      "cell_type": "code",
      "execution_count": null,
      "metadata": {
        "id": "4RzwM45FcKLC"
      },
      "outputs": [],
      "source": [
        "# Define a function to convert pdf files to images\n",
        "def convert_pdf_folder_to_images(input_folder, output_folder):\n",
        "    # Get the list of PDF files in the input folder\n",
        "    pdf_files = [f for f in os.listdir(input_folder) if f.endswith(\".pdf\")]\n",
        "\n",
        "    # Loop over each PDF file and convert it to images\n",
        "    for pdf_file in pdf_files:\n",
        "        pdf_path = os.path.join(input_folder, pdf_file)\n",
        "        images = convert_from_path(pdf_path)\n",
        "        os.makedirs(output_folder+'/'+pdf_file.split(\".\")[0], exist_ok=True)\n",
        "        # Save each page of the PDF file as a separate image\n",
        "        for i, image in enumerate(images):\n",
        "            image_path = os.path.join(output_folder+'/'+pdf_file.split(\".\")[0], f\"{pdf_file.replace('.pdf', '')}_{i+1}.jpg\") # Change this based on the name of pdf files\n",
        "            image.save(image_path, \"JPEG\")\n"
      ]
    },
    {
      "cell_type": "code",
      "execution_count": null,
      "metadata": {
        "id": "aMx91mamdIAw"
      },
      "outputs": [],
      "source": [
        "# Define input and output folders as the arguments of the created 'convert_pdf_folder_to_images function\n",
        "pdf_path = '/content/drive/MyDrive/new_nursing_docs/'\n",
        "output_dir = '/content/drive/MyDrive/converted_images'"
      ]
    },
    {
      "cell_type": "code",
      "execution_count": null,
      "metadata": {
        "id": "thKMAdW6dLof"
      },
      "outputs": [],
      "source": [
        "# Convert pdf files to images\n",
        "convert_pdf_folder_to_images(pdf_path, output_dir)"
      ]
    },
    {
      "cell_type": "code",
      "source": [
        "import matplotlib.pyplot as plt\n",
        "import os\n",
        "\n",
        "# Get the list of class folders\n",
        "class_folders = os.listdir(output_dir)\n",
        "\n",
        "# Initialize empty lists to store class names and sample counts\n",
        "class_names = []\n",
        "sample_counts = []\n",
        "\n",
        "# Iterate over each class folder\n",
        "for class_folder in class_folders:\n",
        "    class_dir = os.path.join(output_dir, class_folder)\n",
        "\n",
        "    # Count the number of image files in the class folder\n",
        "    num_samples = len([file for file in os.listdir(class_dir) if file.endswith(\".jpg\")])\n",
        "\n",
        "    # Append the class name and sample count to the lists\n",
        "    class_names.append(class_folder)\n",
        "    sample_counts.append(num_samples)\n",
        "\n",
        "# Plot the bar chart\n",
        "plt.bar(class_names, sample_counts)\n",
        "plt.xlabel(\"Class\")\n",
        "plt.ylabel(\"Number of Samples\")\n",
        "plt.title(\"Sample Distribution per Class\")\n",
        "plt.xticks(rotation=90)\n",
        "\n",
        "# Display the chart\n",
        "plt.show()\n"
      ],
      "metadata": {
        "colab": {
          "base_uri": "https://localhost:8080/",
          "height": 636
        },
        "id": "PUlKn8X90_FG",
        "outputId": "950137e6-7090-4601-a418-e03463f43ca1"
      },
      "execution_count": null,
      "outputs": [
        {
          "output_type": "display_data",
          "data": {
            "text/plain": [
              "<Figure size 640x480 with 1 Axes>"
            ],
            "image/png": "[encoded data removed]"
          },
          "metadata": {}
        }
      ]
    },
    {
      "cell_type": "markdown",
      "metadata": {
        "id": "x_-xpsoRXFJS"
      },
      "source": [
        "# EasyOCR\n",
        "EasyOCR is a Python library for optical character recognition (OCR), which is the process of extracting text from images. EasyOCR uses deep learning models to recognize text and can handle a wide range of font styles, sizes, and orientations."
      ]
    },
    {
      "cell_type": "code",
      "execution_count": null,
      "metadata": {
        "colab": {
          "base_uri": "https://localhost:8080/"
        },
        "id": "M-frjrangotl",
        "outputId": "2a0151fc-7713-4d8f-ee6f-c65cd8deea35"
      },
      "outputs": [
        {
          "output_type": "stream",
          "name": "stderr",
          "text": [
            "WARNING:easyocr.easyocr:Downloading detection model, please wait. This may take several minutes depending upon your network connection.\n"
          ]
        },
        {
          "output_type": "stream",
          "name": "stdout",
          "text": [
            "Progress: |██████████████████████████████████████████████████| 100.0% Complete"
          ]
        },
        {
          "output_type": "stream",
          "name": "stderr",
          "text": [
            "WARNING:easyocr.easyocr:Downloading recognition model, please wait. This may take several minutes depending upon your network connection.\n"
          ]
        },
        {
          "output_type": "stream",
          "name": "stdout",
          "text": [
            "Progress: |██████████████████████████████████████████████████| 100.0% Complete"
          ]
        }
      ],
      "source": [
        "# Initialize the EasyOCR reader\n",
        "reader = easyocr.Reader(['en'])"
      ]
    },
    {
      "cell_type": "code",
      "execution_count": null,
      "metadata": {
        "id": "6S1xVyZZYoKF"
      },
      "outputs": [],
      "source": [
        "# Feed a sample image into the EasyOCR reader\n",
        "image_path = '/content/drive/MyDrive/converted_images/Cannula/Cannula_10.jpg'\n",
        "\n",
        "ocr_result = reader.readtext(str(image_path))\n",
        "ocr_result[0]"
      ]
    },
    {
      "cell_type": "code",
      "execution_count": null,
      "metadata": {
        "id": "rX3J8zkctVQ3"
      },
      "outputs": [],
      "source": [
        "# Define a function to create bounding boxes based on the text box coordinates\n",
        "def create_bounding_box(bbox_data):\n",
        "    xs = []\n",
        "    ys = []\n",
        "    for x, y in bbox_data:\n",
        "        xs.append(x)\n",
        "        ys.append(y)\n",
        "\n",
        "    left = int(min(xs))\n",
        "    top = int(min(ys))\n",
        "    right = int(max(xs))\n",
        "    bottom = int(max(ys))\n",
        "\n",
        "    return [left, top, right, bottom]\n",
        "\n",
        "# def create_bounding_box(bbox_data):\n",
        "#     left, top, right, bottom = bbox_data\n",
        "#     return [left, top, right, bottom]\n"
      ]
    },
    {
      "cell_type": "code",
      "execution_count": null,
      "metadata": {
        "colab": {
          "base_uri": "https://localhost:8080/"
        },
        "id": "MlXlvLMgsV3r",
        "outputId": "8bd48c21-802a-48f5-d237-baf500780a57"
      },
      "outputs": [
        {
          "name": "stderr",
          "output_type": "stream",
          "text": [
            "91it [03:12,  2.11s/it]\n",
            "96it [06:15,  3.91s/it]\n",
            "300it [14:34,  2.91s/it]\n",
            "12it [00:25,  2.10s/it]\n",
            "18it [01:02,  3.45s/it]\n",
            "141it [06:16,  2.67s/it]\n",
            "18it [01:05,  3.64s/it]\n",
            "19it [00:57,  3.05s/it]\n",
            "53it [02:44,  3.10s/it]\n",
            "17it [01:01,  3.61s/it]\n"
          ]
        }
      ],
      "source": [
        "# Iterate over each image, and pass it to the EasyOCR reader to obtain the OCR results\n",
        "for folder in Path(output_dir).glob(\"*\"):\n",
        "  for image_path in tqdm(Path(folder).glob(\"*.jpg\")):\n",
        "    image = Image.open(image_path).convert(\"RGB\")\n",
        "    ocr_result = reader.readtext(np.array(image))\n",
        "\n",
        "    ocr_page = []\n",
        "    for bbox, word, confidence in ocr_result:\n",
        "        ocr_page.append({\n",
        "            \"word\": word,\n",
        "            \"bounding_box\": create_bounding_box(bbox)\n",
        "        })\n",
        "\n",
        "    # Save the OCR results as JSON files using the same filename as the images\n",
        "    json_path = image_path.with_suffix(\".json\")\n",
        "    with json_path.open(\"w\") as f:\n",
        "        json.dump(ocr_page, f)\n"
      ]
    },
    {
      "cell_type": "markdown",
      "metadata": {
        "id": "9gHfAz3MbPvx"
      },
      "source": [
        "Examine the OCR output overlaid on top of the document image"
      ]
    },
    {
      "cell_type": "code",
      "execution_count": null,
      "metadata": {
        "colab": {
          "base_uri": "https://localhost:8080/",
          "height": 499
        },
        "id": "GocbEshxnhAt",
        "outputId": "725bed7c-f0fe-45f4-a358-84b3557d87cc"
      },
      "outputs": [
        {
          "data": {
            "image/png": "[encoded data removed]",
            "text/plain": [
              "<Figure size 1200x600 with 2 Axes>"
            ]
          },
          "metadata": {},
          "output_type": "display_data"
        }
      ],
      "source": [
        "import matplotlib.pyplot as plt\n",
        "from PIL import Image, ImageDraw, ImageFont\n",
        "import json\n",
        "\n",
        "# Replace 'image_path' with the path to your chosen image\n",
        "image_path = '/content/drive/MyDrive/converted_images/Cannula/Cannula_10.jpg'\n",
        "json_path = '/content/drive/MyDrive/converted_images/Cannula/Cannula_10.json'\n",
        "\n",
        "# Load the image\n",
        "left_image = Image.open(image_path).convert(\"RGB\")\n",
        "right_image = Image.new(\"RGB\", left_image.size, (255, 255, 255))\n",
        "\n",
        "# Load the JSON file\n",
        "with open(json_path, 'r') as f:\n",
        "    ocr_result = json.load(f)\n",
        "\n",
        "# Set up the figure\n",
        "fig, (ax1, ax2) = plt.subplots(1, 2, figsize=(28, 28))\n",
        "\n",
        "left_draw = ImageDraw.Draw(left_image)\n",
        "right_draw = ImageDraw.Draw(right_image)\n",
        "\n",
        "# Iterate over OCR results and draw bounding boxes\n",
        "for i, (row) in enumerate(ocr_result):\n",
        "    bbox = row['bounding_box']\n",
        "    word = row['word']\n",
        "\n",
        "    box = create_bousnding_box(bbox)\n",
        "\n",
        "    left_draw.rectangle(box, outline=\"blue\", width=2)\n",
        "    left, top, right, bottom = box\n",
        "\n",
        "    left_draw.text((right + 5, top), text=str(i + 1), fill=\"red\")\n",
        "    right_draw.text((left, top), text=word, fill=\"black\")\n",
        "\n",
        "# Show the images\n",
        "ax1.imshow(left_image)\n",
        "ax2.imshow(right_image)\n",
        "ax1.axis(\"off\")\n",
        "ax2.axis(\"off\")\n",
        "\n",
        "plt.show()"
      ]
    },
    {
      "cell_type": "markdown",
      "metadata": {
        "id": "qpaTNryYbunc"
      },
      "source": [
        "# LayoutLMv3\n",
        "## Preprocessing"
      ]
    },
    {
      "cell_type": "code",
      "execution_count": null,
      "metadata": {
        "colab": {
          "base_uri": "https://localhost:8080/",
          "height": 168,
          "referenced_widgets": [
            "ff064dae70ea431aa7f9c97f04f96e6c",
            "cd73ed8fa100429c9b7013a5dda72042",
            "2c279395f0fb4f67908e5e69b03449a1",
            "bc11f8e9a9b24a4ab094dcdb8e744f24",
            "c9bb10bb35404ba58bd830e05b3d1f78",
            "9f3d220ab0f54b5f9c0ba0f774f082de",
            "91ec7d4301a84d82a0cca4448c24711a",
            "6c84889b1c524bfbac152bec0a6e1308",
            "7d05fc106ee440a596167beca4ab450b",
            "a48bfc6ebad74012a971fa344f53bc15",
            "3b997dbbcd7245fdbfc45005821a496e",
            "c03661a37c2548269e30dce8793f1b02",
            "5f60972b14394633b537525d919d0e83",
            "016d5e01112543a497641e7ef7218d10",
            "1062254dfb3044ee86d5a9052df025a5",
            "f112b3abf3fe4e499709f48295290c5e",
            "2c97ec320b3c460fb51cb1fb10a91757",
            "fedb707ee5aa4a879ad47c08d1a434f9",
            "fe20e13be6d84b329563015540afac88",
            "f0506f488faa4601bd05bc87f68e69e5",
            "df8e1a17f2204e7780bff845d5d4905a",
            "4d94fa1abc874e26a189ca7987bf1cf9",
            "292eca7441bb490b813b8997445c7f9c",
            "470892ae07d34c7f94f614f4de947d2c",
            "52ee836f932e47f5861e5d2a7228b7a5",
            "085dc494df604723ab8c700f33d97763",
            "d3dac0b74e944158a861dd9a2716c9b0",
            "2e25e2f2b8f545d4b851c4474ade2e08",
            "90cd40c6ebf445669a42896d5f9d0d19",
            "c5fe0b437b5240dd91a2184407d81290",
            "43c5b95e070045bab9ad29f069a89431",
            "4facd8ca1e7c4400aaf4b9074a0cf2ad",
            "35bd2dad16b746639ecf14dec48dd93f"
          ]
        },
        "id": "zjx8xEul0BPL",
        "outputId": "5161d897-772a-405d-de16-6e2375e5e22b"
      },
      "outputs": [
        {
          "output_type": "stream",
          "name": "stderr",
          "text": [
            "/usr/local/lib/python3.10/dist-packages/transformers/models/layoutlmv3/feature_extraction_layoutlmv3.py:30: FutureWarning: The class LayoutLMv3FeatureExtractor is deprecated and will be removed in version 5 of Transformers. Please use LayoutLMv3ImageProcessor instead.\n",
            "  warnings.warn(\n"
          ]
        },
        {
          "output_type": "display_data",
          "data": {
            "text/plain": [
              "Downloading:   0%|          | 0.00/1.14k [00:00<?, ?B/s]"
            ],
            "application/vnd.jupyter.widget-view+json": {
              "version_major": 2,
              "version_minor": 0,
              "model_id": "ff064dae70ea431aa7f9c97f04f96e6c"
            }
          },
          "metadata": {}
        },
        {
          "output_type": "display_data",
          "data": {
            "text/plain": [
              "Downloading:   0%|          | 0.00/899k [00:00<?, ?B/s]"
            ],
            "application/vnd.jupyter.widget-view+json": {
              "version_major": 2,
              "version_minor": 0,
              "model_id": "c03661a37c2548269e30dce8793f1b02"
            }
          },
          "metadata": {}
        },
        {
          "output_type": "display_data",
          "data": {
            "text/plain": [
              "Downloading:   0%|          | 0.00/456k [00:00<?, ?B/s]"
            ],
            "application/vnd.jupyter.widget-view+json": {
              "version_major": 2,
              "version_minor": 0,
              "model_id": "292eca7441bb490b813b8997445c7f9c"
            }
          },
          "metadata": {}
        }
      ],
      "source": [
        "# Create the feature extractor, tokenizer, and processor\n",
        "feature_extractor = LayoutLMv3FeatureExtractor(apply_ocr=False)\n",
        "tokenizer = LayoutLMv3TokenizerFast.from_pretrained(\"microsoft/layoutlmv3-base\")\n",
        "processor = LayoutLMv3Processor(feature_extractor, tokenizer)"
      ]
    },
    {
      "cell_type": "code",
      "execution_count": null,
      "metadata": {
        "id": "xEGIC5JP4j8q"
      },
      "outputs": [],
      "source": [
        "def scale_bounding_box(box: List[int], width_scale: float = 1.0, height_scale: float = 1.0) -> List[int]:\n",
        "    return [\n",
        "        int(box[0] * width_scale),\n",
        "        int(box[1] * height_scale),\n",
        "        int(box[2] * width_scale),\n",
        "        int(box[3] * height_scale)\n",
        "    ]"
      ]
    },
    {
      "cell_type": "code",
      "execution_count": null,
      "metadata": {
        "id": "yVMD4vLg0BLm"
      },
      "outputs": [],
      "source": [
        "# Iterate over the images in the folder\n",
        "for folder in Path(output_dir).glob(\"*\"):\n",
        "\n",
        "  for image_file in os.listdir(folder):\n",
        "      # Check if the file is an image file\n",
        "      if image_file.endswith('.jpg') or image_file.endswith('.png'):\n",
        "          # Get the image path\n",
        "          image_path = os.path.join(folder, image_file)\n",
        "\n",
        "          # Load the image\n",
        "          image = Image.open(image_path).convert(\"RGB\")\n",
        "          width, height = image.size\n",
        "\n",
        "          # Calculate the width and height scale\n",
        "          width_scale = 1000 / width\n",
        "          height_scale = 1000 / height\n",
        "\n",
        "          # Load the OCR results from the JSON file\n",
        "          json_path = Path(image_path).with_suffix(\".json\")\n",
        "          with open(json_path, 'r') as f:\n",
        "              ocr_result = json.load(f)\n",
        "\n",
        "          # Extract words and bounding boxes\n",
        "          words = []\n",
        "          boxes = []\n",
        "          for row in ocr_result:\n",
        "              boxes.append(scale_bounding_box(row[\"bounding_box\"], width_scale, height_scale))\n",
        "              words.append(row[\"word\"])\n",
        "\n",
        "          # Encode the image, words, and boxes\n",
        "          encoding = processor(\n",
        "              image,\n",
        "              words,\n",
        "              boxes=boxes,\n",
        "              max_length=512,\n",
        "              padding=\"max_length\",\n",
        "              truncation=True,\n",
        "              return_tensors=\"pt\"\n",
        "          )\n",
        "\n",
        "          # Convert the image tensor to PIL image\n",
        "          image_data = encoding[\"pixel_values\"][0]\n",
        "          transform = T.ToPILImage()\n",
        "          transformed_image = transform(image_data)\n",
        "          transformed_image.show()"
      ]
    },
    {
      "cell_type": "code",
      "execution_count": null,
      "metadata": {
        "colab": {
          "base_uri": "https://localhost:8080/"
        },
        "id": "qf6Jw0kt4bxH",
        "outputId": "a639edfa-11ab-4313-e2dc-cb08910617c2"
      },
      "outputs": [
        {
          "name": "stdout",
          "output_type": "stream",
          "text": [
            "1682\n",
            "2366\n"
          ]
        }
      ],
      "source": [
        "width, height = image.size\n",
        "print(width)\n",
        "print(height)"
      ]
    },
    {
      "cell_type": "code",
      "execution_count": null,
      "metadata": {
        "colab": {
          "base_uri": "https://localhost:8080/"
        },
        "id": "ocHXbAdp61VG",
        "outputId": "99b00f3f-6da6-4f0b-81da-ff0f44a6c9c0"
      },
      "outputs": [
        {
          "data": {
            "text/plain": [
              "(128, 128)"
            ]
          },
          "execution_count": 44,
          "metadata": {},
          "output_type": "execute_result"
        }
      ],
      "source": [
        "len(words), len(boxes)"
      ]
    },
    {
      "cell_type": "code",
      "execution_count": null,
      "metadata": {
        "colab": {
          "base_uri": "https://localhost:8080/"
        },
        "id": "Ka0v_IpgAHJh",
        "outputId": "c545e3f7-2264-4b66-98a9-67bc6a7804dc"
      },
      "outputs": [
        {
          "name": "stdout",
          "output_type": "stream",
          "text": [
            "\n",
            "input_ids:  [512]\n",
            "word boxes: [512, 4]\n",
            "image data: [3, 224, 224]\n",
            "image size: (1670, 2330)\n",
            "\n"
          ]
        }
      ],
      "source": [
        "# Print the encoding information\n",
        "print(f\"\"\"\n",
        "input_ids:  {list(encoding[\"input_ids\"].squeeze().shape)}\n",
        "word boxes: {list(encoding[\"bbox\"].squeeze().shape)}\n",
        "image data: {list(encoding[\"pixel_values\"].squeeze().shape)}\n",
        "image size: {image.size}\n",
        "\"\"\")"
      ]
    },
    {
      "cell_type": "code",
      "execution_count": null,
      "metadata": {
        "colab": {
          "base_uri": "https://localhost:8080/",
          "height": 241
        },
        "id": "xNuiPtelDVJD",
        "outputId": "84420184-3a66-4353-c624-563679118e72"
      },
      "outputs": [
        {
          "data": {
            "image/png": "[encoded data removed]",
            "text/plain": [
              "<PIL.Image.Image image mode=RGB size=224x224>"
            ]
          },
          "execution_count": 21,
          "metadata": {},
          "output_type": "execute_result"
        }
      ],
      "source": [
        "image_data = encoding[\"pixel_values\"][0]\n",
        "transform = T.ToPILImage()\n",
        "transform(image_data)"
      ]
    },
    {
      "cell_type": "markdown",
      "metadata": {
        "id": "w4HpZIcP8L1d"
      },
      "source": [
        "# Traning the model"
      ]
    },
    {
      "cell_type": "code",
      "execution_count": null,
      "metadata": {
        "id": "lcWbPbvLhA55"
      },
      "outputs": [],
      "source": [
        "def scale_and_clip_bounding_box(bbox, width, height):\n",
        "    # Scale bounding box coordinates based on image size\n",
        "    scaled_bbox = bbox.clone()\n",
        "    scaled_bbox[:, :, 0] *= width\n",
        "    scaled_bbox[:, :, 1] *= height\n",
        "    scaled_bbox[:, :, 2] *= width\n",
        "    scaled_bbox[:, :, 3] *= height\n",
        "\n",
        "    # Clip bounding box coordinates to the range of 0 to 1000\n",
        "    scaled_bbox.clamp_(min=0, max=1000)\n",
        "\n",
        "    return scaled_bbox\n"
      ]
    },
    {
      "cell_type": "code",
      "execution_count": null,
      "metadata": {
        "colab": {
          "base_uri": "https://localhost:8080/",
          "height": 136,
          "referenced_widgets": [
            "8fe6bfa28a474e59ac205231adb54813",
            "f7d38bf878774d1c8d2a03ccb373c101",
            "7fd757bc70e3443983e4cda3fb175510",
            "5caabd6c4c684b2d9e578f4bfa7a4008",
            "175d7d69af134ba2a06cc986e96ddefe",
            "ec8ace0357b14b3ca2f33282924e55f7",
            "18f11484939c4269bda9e2a5540c517d",
            "b32e10d781104628bdc8c116123bf3c0",
            "30f902b72175441989be2873a616c338",
            "232ee595cbe5405397fca40ee858bf7e",
            "e6d53ef07b48499490bf4dd1c66681d5",
            "f59bf79f5d414fe7b6c2efb42dede674",
            "04c28746c8eb4dd9880386215c1d5b09",
            "c864e88bebb34de585d88773915bcf2c",
            "421d1c69accf44beb7b4f9da924f024b",
            "13ea5536b1f0499395cfdb7608157058",
            "103466bcdb2f40f487fce989024192a1",
            "9c80295840c6418385667ef9dbbcfa51",
            "e44693771bf346a2821c6c17bf8e46e1",
            "8ce7338c1ae14918be5cb259c385f28f",
            "27c304db254549b0abe276395e41a518",
            "bef851a75bee47ada87bf65e967196b9"
          ]
        },
        "id": "Ij2pVxwC5sGL",
        "outputId": "8b8d9beb-b4af-4a30-c25c-f4f8a6da2d7b"
      },
      "outputs": [
        {
          "output_type": "display_data",
          "data": {
            "text/plain": [
              "Downloading:   0%|          | 0.00/856 [00:00<?, ?B/s]"
            ],
            "application/vnd.jupyter.widget-view+json": {
              "version_major": 2,
              "version_minor": 0,
              "model_id": "8fe6bfa28a474e59ac205231adb54813"
            }
          },
          "metadata": {}
        },
        {
          "output_type": "display_data",
          "data": {
            "text/plain": [
              "Downloading:   0%|          | 0.00/501M [00:00<?, ?B/s]"
            ],
            "application/vnd.jupyter.widget-view+json": {
              "version_major": 2,
              "version_minor": 0,
              "model_id": "f59bf79f5d414fe7b6c2efb42dede674"
            }
          },
          "metadata": {}
        },
        {
          "output_type": "stream",
          "name": "stderr",
          "text": [
            "Some weights of LayoutLMv3ForSequenceClassification were not initialized from the model checkpoint at microsoft/layoutlmv3-base and are newly initialized: ['classifier.out_proj.weight', 'classifier.out_proj.bias', 'classifier.dense.bias', 'classifier.dense.weight']\n",
            "You should probably TRAIN this model on a down-stream task to be able to use it for predictions and inference.\n"
          ]
        }
      ],
      "source": [
        "model = LayoutLMv3ForSequenceClassification.from_pretrained(\n",
        "    \"microsoft/layoutlmv3-base\", num_labels=10) # Change the number of labels (num_labels) based on the new dataset"
      ]
    },
    {
      "cell_type": "code",
      "execution_count": null,
      "metadata": {
        "colab": {
          "base_uri": "https://localhost:8080/"
        },
        "id": "BW_4mbX-hdco",
        "outputId": "50049070-ddd5-4836-ee10-317d7c159554"
      },
      "outputs": [
        {
          "output_type": "stream",
          "name": "stdout",
          "text": [
            "['Cannula', 'Daily Record Sheets', 'Fluid Balance', 'Nursing Care Forms', 'Prescriptions', 'Pressure Ulcer Prevention', 'Repositioning Charts', 'Risk Assessments', 'Stool Charts', 'Vital Signs']\n"
          ]
        }
      ],
      "source": [
        "# Extract the document classes\n",
        "DOCUMENT_CLASSES = sorted(list(map(lambda p: p.name, Path(output_dir).glob(\"*\"))))\n",
        "\n",
        "print(DOCUMENT_CLASSES)"
      ]
    },
    {
      "cell_type": "code",
      "execution_count": null,
      "metadata": {
        "colab": {
          "base_uri": "https://localhost:8080/"
        },
        "id": "6TeXuK0zykK_",
        "outputId": "70731de3-30b3-46fd-faeb-b7828497a3bf"
      },
      "outputs": [
        {
          "output_type": "stream",
          "name": "stdout",
          "text": [
            "2400\n",
            "158\n"
          ]
        }
      ],
      "source": [
        "from imblearn.over_sampling import RandomOverSampler\n",
        "import uuid\n",
        "#### Split the data into train and test\n",
        "# Get the list of class folders\n",
        "class_folders = os.listdir(output_dir)\n",
        "\n",
        "# Initialize empty lists to store train and test file paths\n",
        "train_files = []\n",
        "test_files = []\n",
        "\n",
        "# Create an empty list to store the labels\n",
        "labels = []\n",
        "\n",
        "# Iterate over each class folder\n",
        "for class_folder in class_folders:\n",
        "    class_dir = os.path.join(output_dir, class_folder)\n",
        "\n",
        "    # Get the list of image and JSON file paths in the class folder\n",
        "    image_files = [file for file in os.listdir(class_dir) if file.endswith(\".jpg\")]\n",
        "    json_files = [file for file in os.listdir(class_dir) if file.endswith(\".json\")]\n",
        "\n",
        "    # Split the image and JSON file paths into train and test sets\n",
        "    train_images, test_images, train_json, test_json = train_test_split(image_files, json_files, test_size=0.2)\n",
        "\n",
        "    # Move the train files to the train folder\n",
        "    for train_image, train_json_file in zip(train_images, train_json):\n",
        "        train_image_path = os.path.join(class_dir, train_image)\n",
        "        train_json_path = os.path.join(class_dir, train_json_file)\n",
        "        train_files.append((train_image_path, train_json_path))\n",
        "        labels.append(class_folder)  # Append the class folder name as the label\n",
        "\n",
        "    # Move the test files to the test folder\n",
        "    for test_image, test_json_file in zip(test_images, test_json):\n",
        "        test_image_path = os.path.join(class_dir, test_image)\n",
        "        test_json_path = os.path.join(class_dir, test_json_file)\n",
        "        test_files.append((test_image_path, test_json_path))\n",
        "\n",
        "# Apply oversampling to the training data\n",
        "ros = RandomOverSampler(random_state=42)\n",
        "train_files, labels = ros.fit_resample(train_files, labels)\n",
        "\n",
        "# Print the number os train and test set after oversampling\n",
        "print(len(train_files))\n",
        "print(len(test_files))"
      ]
    },
    {
      "cell_type": "code",
      "source": [
        "# Create the train and test directories\n",
        "train_dir = '/content/drive/MyDrive/new_train_files'  # Change the directory\n",
        "test_dir = '/content/drive/MyDrive/new_test_files'  # Change the directory\n",
        "\n",
        "os.makedirs(train_dir, exist_ok=True)\n",
        "os.makedirs(test_dir, exist_ok=True)\n",
        "\n",
        "# Move the train files to the train directory\n",
        "for i, (train_image_path, train_json_path) in enumerate(train_files):\n",
        "    class_folder = os.path.basename(os.path.dirname(train_image_path))\n",
        "    unique_identifier = str(uuid.uuid4())  # Generate a unique identifier for each file\n",
        "    target_image_path = os.path.join(train_dir, class_folder, f\"{unique_identifier}.jpg\")\n",
        "    target_json_path = os.path.join(train_dir, class_folder, f\"{unique_identifier}.json\")\n",
        "    os.makedirs(os.path.dirname(target_image_path), exist_ok=True)\n",
        "    os.makedirs(os.path.dirname(target_json_path), exist_ok=True)\n",
        "    shutil.copy(train_image_path, target_image_path)\n",
        "    shutil.copy(train_json_path, target_json_path)\n",
        "\n",
        "# Move the test files to the test directory\n",
        "for test_image_path, test_json_path in test_files:\n",
        "    class_folder = os.path.basename(os.path.dirname(test_image_path))\n",
        "    target_image_path = os.path.join(test_dir, class_folder, os.path.basename(test_image_path))\n",
        "    target_json_path = os.path.join(test_dir, class_folder, os.path.basename(test_json_path))\n",
        "    os.makedirs(os.path.dirname(target_image_path), exist_ok=True)\n",
        "    os.makedirs(os.path.dirname(target_json_path), exist_ok=True)\n",
        "    shutil.copy(test_image_path, target_image_path)\n",
        "    shutil.copy(test_json_path, target_json_path)"
      ],
      "metadata": {
        "id": "gNVA2yH0lwhB"
      },
      "execution_count": null,
      "outputs": []
    },
    {
      "cell_type": "code",
      "execution_count": null,
      "metadata": {
        "id": "eYmtyoT1H-bE"
      },
      "outputs": [],
      "source": [
        "import random\n",
        "from torchvision.transforms import functional as F\n",
        "import math\n",
        "\n",
        "def apply_rotation(image, json_data, rotation_angle):\n",
        "    # Apply rotation to the image\n",
        "    rotated_image = F.rotate(image, rotation_angle)\n",
        "\n",
        "    # Update the bounding box coordinates in the JSON file\n",
        "    for bbox_data in json_data:\n",
        "        bbox = bbox_data[\"bounding_box\"]\n",
        "        # Rotate the bounding box coordinates\n",
        "        rotated_bbox = [\n",
        "            rotate_point(bbox[0], bbox[1], rotation_angle, rotated_image.width, rotated_image.height),\n",
        "            rotate_point(bbox[2], bbox[1], rotation_angle, rotated_image.width, rotated_image.height),\n",
        "            rotate_point(bbox[2], bbox[3], rotation_angle, rotated_image.width, rotated_image.height),\n",
        "            rotate_point(bbox[0], bbox[3], rotation_angle, rotated_image.width, rotated_image.height)\n",
        "        ]\n",
        "        # Update the rotated bounding box coordinates in the JSON file\n",
        "        bbox_data[\"bounding_box\"] = rotated_bbox\n",
        "\n",
        "    return rotated_image, json_data\n",
        "\n",
        "def rotate_point(x, y, angle, width, height):\n",
        "    # Rotate a point (x, y) around the center of the image\n",
        "    cx = width / 2\n",
        "    cy = height / 2\n",
        "    rad = math.radians(angle)\n",
        "    cos_rad = math.cos(rad)\n",
        "    sin_rad = math.sin(rad)\n",
        "    nx = cos_rad * (x - cx) - sin_rad * (y - cy) + cx\n",
        "    ny = sin_rad * (x - cx) + cos_rad * (y - cy) + cy\n",
        "    return int(nx), int(ny)\n"
      ]
    },
    {
      "cell_type": "code",
      "execution_count": null,
      "metadata": {
        "id": "aZEglhFcLDOD"
      },
      "outputs": [],
      "source": [
        "class DocumentClassificationDataset(Dataset):\n",
        "\n",
        "    def __init__(self, image_dir, processor):\n",
        "        self.image_dir = image_dir\n",
        "        self.processor = processor\n",
        "        self.image_paths = self.get_image_paths()\n",
        "\n",
        "    def get_image_paths(self):\n",
        "      image_paths = []\n",
        "      for class_name in os.listdir(self.image_dir):\n",
        "          class_dir = os.path.join(self.image_dir, class_name)\n",
        "          if os.path.isdir(class_dir):\n",
        "              for filename in os.listdir(class_dir):\n",
        "                  if filename.endswith(\".jpg\"):\n",
        "                      image_paths.append(os.path.join(class_dir, filename))\n",
        "      return image_paths\n",
        "\n",
        "\n",
        "    def __len__(self):\n",
        "        return len(self.image_paths)\n",
        "\n",
        "    def __getitem__(self, item):\n",
        "      image_path = self.image_paths[item]\n",
        "      label = self.extract_label(image_path)\n",
        "      encoding = self.process_image(image_path, label)\n",
        "\n",
        "      return {\n",
        "          \"input_ids\": encoding[\"input_ids\"].flatten(),\n",
        "          \"attention_mask\": encoding[\"attention_mask\"].flatten(),\n",
        "          \"bbox\": encoding[\"bbox\"].flatten(end_dim=1),\n",
        "          \"pixel_values\": encoding[\"pixel_values\"].flatten(end_dim=1),\n",
        "          \"labels\": torch.tensor(label, dtype=torch.long)\n",
        "      }\n",
        "\n",
        "\n",
        "    def extract_label(self, image_path):\n",
        "      class_name = os.path.basename(os.path.dirname(image_path))\n",
        "      label = DOCUMENT_CLASSES.index(class_name)\n",
        "      return torch.tensor(label, dtype=torch.long)\n",
        "\n",
        "\n",
        "    def process_image(self, image_path, label):\n",
        "      with Image.open(image_path).convert(\"RGB\") as image:\n",
        "          # Preprocess the image and OCR results here\n",
        "          # Modify the code to fit your specific preprocessing steps\n",
        "          width, height = image.size\n",
        "          width_scale = 1000 / width\n",
        "          height_scale = 1000 / height\n",
        "\n",
        "          words = []\n",
        "          boxes = []\n",
        "          # Process OCR results\n",
        "\n",
        "          encoding = self.processor(\n",
        "              image,\n",
        "              words,\n",
        "              boxes=boxes,\n",
        "              max_length=512,\n",
        "              padding=\"max_length\",\n",
        "              truncation=True,\n",
        "              return_tensors=\"pt\"\n",
        "          )\n",
        "\n",
        "      encoding[\"labels\"] = label\n",
        "      return encoding\n"
      ]
    },
    {
      "cell_type": "markdown",
      "metadata": {
        "id": "jTJSqWYGiHUU"
      },
      "source": [
        "Create datasets and data loaders for the train and test documents"
      ]
    },
    {
      "cell_type": "code",
      "execution_count": null,
      "metadata": {
        "id": "_ivPLDfGtp1k"
      },
      "outputs": [],
      "source": [
        "train_save_dir = '/content/drive/MyDrive/new_train_files'\n",
        "test_save_dir = '/content/drive/MyDrive/new_test_files'"
      ]
    },
    {
      "cell_type": "code",
      "execution_count": null,
      "metadata": {
        "id": "au5PM3xZz5D-"
      },
      "outputs": [],
      "source": [
        "# Create the train dataset\n",
        "train_dataset = DocumentClassificationDataset(train_save_dir, processor)\n",
        "\n",
        "# Create the test dataset\n",
        "test_dataset = DocumentClassificationDataset(test_save_dir, processor)\n",
        "\n",
        "# Create the data loaders\n",
        "train_data_loader = DataLoader(\n",
        "    train_dataset,\n",
        "    # batch_size=8,\n",
        "    batch_size=4,\n",
        "    shuffle=True,\n",
        "    num_workers=2)\n",
        "\n",
        "test_data_loader = DataLoader(\n",
        "    test_dataset,\n",
        "    # batch_size=8,\n",
        "    batch_size=4,\n",
        "    shuffle=False,\n",
        "    num_workers=2)"
      ]
    },
    {
      "cell_type": "code",
      "execution_count": null,
      "metadata": {
        "colab": {
          "base_uri": "https://localhost:8080/"
        },
        "id": "fkVP73wzKyDH",
        "outputId": "c990dbac-534a-4582-9720-15cd804ddf18"
      },
      "outputs": [
        {
          "output_type": "execute_result",
          "data": {
            "text/plain": [
              "2400"
            ]
          },
          "metadata": {},
          "execution_count": 26
        }
      ],
      "source": [
        "len(train_dataset)"
      ]
    },
    {
      "cell_type": "code",
      "execution_count": null,
      "metadata": {
        "colab": {
          "base_uri": "https://localhost:8080/"
        },
        "id": "eJ4bhhRem3Qt",
        "outputId": "b676e02e-0aae-4247-ba1a-da2c053b92e6"
      },
      "outputs": [
        {
          "output_type": "execute_result",
          "data": {
            "text/plain": [
              "158"
            ]
          },
          "metadata": {},
          "execution_count": 27
        }
      ],
      "source": [
        "len(test_dataset)"
      ]
    },
    {
      "cell_type": "code",
      "execution_count": null,
      "metadata": {
        "id": "27Ojf1bWkl0Q"
      },
      "outputs": [],
      "source": [
        "### Implementing a LightningModule using PyTorch Lightning. This will wrap all the components and allow us to train our model\n",
        "\n",
        "class ModelModule(pl.LightningModule):\n",
        "    def __init__(self, n_classes: int):\n",
        "        super().__init__()\n",
        "        self.model = LayoutLMv3ForSequenceClassification.from_pretrained(\n",
        "            \"microsoft/layoutlmv3-base\",\n",
        "            num_labels=n_classes\n",
        "        )\n",
        "        self.model.config.id2label = {k: v for k, v in enumerate(DOCUMENT_CLASSES)}\n",
        "        self.model.config.label2id = {v: k for k, v in enumerate(DOCUMENT_CLASSES)}\n",
        "        self.train_accuracy = Accuracy(task=\"multiclass\", num_classes=n_classes)\n",
        "        self.val_accuracy = Accuracy(task=\"multiclass\", num_classes=n_classes)\n",
        "\n",
        "    def forward(self, input_ids, attention_mask, bbox, pixel_values, labels=None):\n",
        "        return self.model(\n",
        "            input_ids,\n",
        "            attention_mask=attention_mask,\n",
        "            bbox=bbox,\n",
        "            pixel_values=pixel_values,\n",
        "            labels=labels\n",
        "        )\n",
        "\n",
        "    def training_step(self, batch, batch_idx):\n",
        "        input_ids = batch[\"input_ids\"]\n",
        "        attention_mask = batch[\"attention_mask\"]\n",
        "        bbox = batch[\"bbox\"]\n",
        "        pixel_values = batch[\"pixel_values\"]\n",
        "        labels = batch[\"labels\"]\n",
        "        output = self(input_ids, attention_mask, bbox, pixel_values, labels)\n",
        "        self.log(\"train_loss\", output.loss)\n",
        "        self.log(\n",
        "            \"train_acc\",\n",
        "            self.train_accuracy(output.logits, labels),\n",
        "            on_step=True,\n",
        "            on_epoch=True\n",
        "        )\n",
        "        return output.loss\n",
        "\n",
        "    def validation_step(self, batch, batch_idx):\n",
        "        input_ids = batch[\"input_ids\"]\n",
        "        attention_mask = batch[\"attention_mask\"]\n",
        "        bbox = batch[\"bbox\"]\n",
        "        pixel_values = batch[\"pixel_values\"]\n",
        "        labels = batch[\"labels\"]\n",
        "        output = self(input_ids, attention_mask, bbox, pixel_values, labels)\n",
        "        self.log(\"val_loss\", output.loss)\n",
        "        self.log(\n",
        "            \"val_acc\",\n",
        "            self.val_accuracy(output.logits, labels),\n",
        "            on_step=False,\n",
        "            on_epoch=True\n",
        "        )\n",
        "\n",
        "    def configure_optimizers(self):\n",
        "        # Modify the optimizer and learning rate as needed\n",
        "        optimizer = torch.optim.Adam(self.model.parameters(), lr=0.00001) # 1e-5\n",
        "        return optimizer\n"
      ]
    },
    {
      "cell_type": "code",
      "execution_count": null,
      "metadata": {
        "id": "j2RGmwD6jY83"
      },
      "outputs": [],
      "source": [
        "#reate an instance of our ModelModule\n",
        "model_module = ModelModule(n_classes=len(DOCUMENT_CLASSES))"
      ]
    },
    {
      "cell_type": "code",
      "execution_count": null,
      "metadata": {
        "colab": {
          "base_uri": "https://localhost:8080/"
        },
        "id": "_bQp1LZQlIBa",
        "outputId": "a579dcbd-8a80-4b53-a5d0-e5e987eebced"
      },
      "outputs": [
        {
          "output_type": "stream",
          "name": "stdout",
          "text": [
            "GPU: Tesla V100-SXM2-16GB\n"
          ]
        }
      ],
      "source": [
        "import torch\n",
        "\n",
        "if torch.cuda.is_available():\n",
        "    device = torch.cuda.get_device_name(0)\n",
        "    print(f\"GPU: {device}\")\n",
        "else:\n",
        "    print(\"No GPU available\")\n"
      ]
    },
    {
      "cell_type": "code",
      "execution_count": null,
      "metadata": {
        "colab": {
          "base_uri": "https://localhost:8080/"
        },
        "id": "t7vXDKMep95N",
        "outputId": "1acef42e-1533-40b9-e8d5-d220bd5fc9f9"
      },
      "outputs": [
        {
          "output_type": "stream",
          "name": "stderr",
          "text": [
            "INFO:pytorch_lightning.utilities.rank_zero:Using 16bit None Automatic Mixed Precision (AMP)\n",
            "INFO:pytorch_lightning.utilities.rank_zero:GPU available: True (cuda), used: True\n",
            "INFO:pytorch_lightning.utilities.rank_zero:TPU available: False, using: 0 TPU cores\n",
            "INFO:pytorch_lightning.utilities.rank_zero:IPU available: False, using: 0 IPUs\n",
            "INFO:pytorch_lightning.utilities.rank_zero:HPU available: False, using: 0 HPUs\n"
          ]
        }
      ],
      "source": [
        "class ValidationAccuracyCallback(Callback):\n",
        "    def on_validation_epoch_end(self, trainer, pl_module):\n",
        "        val_acc = trainer.callback_metrics['val_acc']\n",
        "        print(f'Validation Accuracy: {val_acc:.4f}')\n",
        "\n",
        "# Create an instance of the callback\n",
        "val_acc_callback = ValidationAccuracyCallback()\n",
        "\n",
        "# Create an instance of the ModelCheckpoint callback\n",
        "# checkpoint_dir = \"./checkpoints\"\n",
        "\n",
        "model_checkpoint = ModelCheckpoint(\n",
        "    # dirpath=checkpoint_dir,\n",
        "    filename=\"{epoch}-{step}-{val_loss:.4f}\",\n",
        "    save_last=True,\n",
        "    save_top_k=3,\n",
        "    monitor=\"val_loss\",\n",
        "    mode=\"min\"\n",
        ")\n",
        "\n",
        "trainer = pl.Trainer(\n",
        "    accelerator=\"gpu\",\n",
        "    precision=16,\n",
        "    devices=1,\n",
        "    max_epochs=5,\n",
        "    callbacks=[model_checkpoint, val_acc_callback]\n",
        ")\n"
      ]
    },
    {
      "cell_type": "code",
      "execution_count": null,
      "metadata": {
        "colab": {
          "base_uri": "https://localhost:8080/",
          "height": 1000,
          "referenced_widgets": [
            "32aac1ec0c1347c0a7356b8308057b35",
            "48bfb96ed0ad441092125f9d7764f329",
            "5e00c3398b7344058b664463547657c8",
            "4821cc1e5d224d0698299d1f352b448c",
            "f9faa5896a9c49d38f47c649fa6e3bf2",
            "aceccdfa4628437ab03d4b77a258b17b",
            "7f463fe80cc143129a0a56bbb4c9b468",
            "3955fe670aaf4774a1470cff611646d9",
            "5b81558c64ab48f684f44dfa4a5df765",
            "27ca7d4d24f5402b8a134876a4f189e7",
            "8109b758b317412fa51a31e32bc1dc4c",
            "5d763c66745f4517b80be933cf83b262",
            "8be0d798059840b0b4f6240161a32343",
            "aa3e52ca73f44fb4bc4607addd81f3ae",
            "9ba52db6a29d4963ab64606154a6cb95",
            "384d127d1a994ad5a7cd5f7f059a0a70",
            "3ee4a8c8b0c445cb880ec21d75b40c87",
            "a0eabea8a94247d991d6c17ff6bce79f",
            "072fa60139744c3db76e428cdbd70e75",
            "aeef713a622146efaa692d8bb58d8f74",
            "2987316141934d39af51cf532b3e5322",
            "b172f7766c304f648eccc89a0d3e696b",
            "e0cb5f6bc3ca4a6baa811fcd30a1fdd6",
            "f468741c26474cdab46946dd3c15e75e",
            "c0af3b8d9d294e8e9041506c8a88b47b",
            "bc0494b326f94efaad0df93b434a991b",
            "3711687317bb459fa6f8ab4d6d14be78",
            "2ca250c084904734a9f611790f1b005d",
            "e301a90f6094412ebe6ea3c690e6ac36",
            "dab6e1bfd45740fd987aedbffcec0cb2",
            "7a527aa1fe38467b997f272e3d78c199",
            "37cedb543ed84c48b7111af0a64d2904",
            "f1e41cd7442f41d8ae86e7a577b37c8a",
            "29658a9508a64922a5d94cf8ad4dcf02",
            "7986d666638543b18fa2b3ac6b91d31b",
            "6990da3f9b3e446b8a75ace3895e43af",
            "54041dc7c53c41ba9281a12ed118597c",
            "4956e711e2384390a9a61de3c3f1337e",
            "ed414105a9cd4361b0ce5dd0ac434836",
            "11e233ba031f4b4dbf03d40588f2b22f",
            "ff79b97c5b044868b3d6e81b1e6eb98c",
            "186d7d47f9344ed1a2b9a634fd181f12",
            "639c7217d823464eaffb1bd5f8e356d9",
            "32fad92974714903aa4ce5d83f7b8186",
            "c9df89c45141480681a5476bdb5d4896",
            "797e962fd94d4fdb921fefe7284e501f",
            "f73da8a6433c4a63abecbbdccf145b2c",
            "92a22fb9ced4459aa8cdbd74966308b0",
            "4f18d7090e1b4ab09e6dc7e038f17108",
            "57761d842e3241119f20de91ac48a64a",
            "d205c8b649d44a179cdf99df6708e571",
            "07bbe41bcfcb4147bc5b8eac123c88d3",
            "f78464de64a640fab24e3170007d742b",
            "74506c18610c49b69113b55747a6bb60",
            "1e51750bf14e4870a332ed9157c4d53b",
            "fa2d2047d22f4bf78bc3239a280915df",
            "f223c317dd144a19bfe43f6074e67614",
            "16739eabb21e4b12b4482cfd101bce85",
            "4848e8cf8b474a508d261ec3734d268f",
            "3c2444ea700447d3acf55f431b5e34ed",
            "c1450eae8f6f4385a0ef087924faa7db",
            "daae6575824b4019a8a5fb22b98d20a0",
            "cb703cfd707d47689eaaf279ad972335",
            "562392e271ee4a81a0f5b978f0c78c7d",
            "21d2503035604b84ae6a91bf0cc89a47",
            "4db88d69637b4fa7b136186b025ba5df",
            "7db1034dd0f84c1da0aa32283ebe9fb8",
            "c5d3767f3ab144e5bd38665267acf920",
            "cde6543a6f974309b00744b4ed52f056",
            "38623be8e35c4046933b209f710fbd77",
            "dfcc0a89b162477d9e8635b15d68da43",
            "a79f0cde40c644ff8195d68362987f45",
            "b0225a0e540b4e6b914ecf786fcc52b5",
            "3dbc40039701445b939dedbf7001921e",
            "186df1c78c9e467ebe76fe019f5e9901",
            "b3042ebbdab741419228ebe3b3e74366",
            "58ac90f510db45388d45afdfa57a6c82"
          ]
        },
        "id": "cEvMdP27tUS_",
        "outputId": "01a9c106-aead-487d-b826-b606d2cf2793"
      },
      "outputs": [
        {
          "name": "stderr",
          "output_type": "stream",
          "text": [
            "INFO:pytorch_lightning.accelerators.cuda:LOCAL_RANK: 0 - CUDA_VISIBLE_DEVICES: [0]\n",
            "INFO:pytorch_lightning.callbacks.model_summary:\n",
            "  | Name           | Type                                | Params\n",
            "-----------------------------------------------------------------------\n",
            "0 | model          | LayoutLMv3ForSequenceClassification | 125 M \n",
            "1 | train_accuracy | MulticlassAccuracy                  | 0     \n",
            "2 | val_accuracy   | MulticlassAccuracy                  | 0     \n",
            "-----------------------------------------------------------------------\n",
            "125 M     Trainable params\n",
            "0         Non-trainable params\n",
            "125 M     Total params\n",
            "251.851   Total estimated model params size (MB)\n"
          ]
        },
        {
          "data": {
            "application/vnd.jupyter.widget-view+json": {
              "model_id": "32aac1ec0c1347c0a7356b8308057b35",
              "version_major": 2,
              "version_minor": 0
            },
            "text/plain": [
              "Sanity Checking: 0it [00:00, ?it/s]"
            ]
          },
          "metadata": {},
          "output_type": "display_data"
        },
        {
          "name": "stderr",
          "output_type": "stream",
          "text": [
            "/usr/local/lib/python3.10/dist-packages/pytorch_lightning/trainer/connectors/data_connector.py:224: PossibleUserWarning: The dataloader, val_dataloader 0, does not have many workers which may be a bottleneck. Consider increasing the value of the `num_workers` argument` (try 8 which is the number of cpus on this machine) in the `DataLoader` init to improve performance.\n",
            "  rank_zero_warn(\n",
            "<ipython-input-75-430e4c51e82a>:39: UserWarning: To copy construct from a tensor, it is recommended to use sourceTensor.clone().detach() or sourceTensor.clone().detach().requires_grad_(True), rather than torch.tensor(sourceTensor).\n",
            "  \"labels\": torch.tensor(label, dtype=torch.long)\n",
            "<ipython-input-75-430e4c51e82a>:39: UserWarning: To copy construct from a tensor, it is recommended to use sourceTensor.clone().detach() or sourceTensor.clone().detach().requires_grad_(True), rather than torch.tensor(sourceTensor).\n",
            "  \"labels\": torch.tensor(label, dtype=torch.long)\n"
          ]
        },
        {
          "name": "stdout",
          "output_type": "stream",
          "text": [
            "Validation Accuracy: 0.0000\n"
          ]
        },
        {
          "name": "stderr",
          "output_type": "stream",
          "text": [
            "/usr/local/lib/python3.10/dist-packages/transformers/modeling_utils.py:830: FutureWarning: The `device` argument is deprecated and will be removed in v5 of Transformers.\n",
            "  warnings.warn(\n",
            "/usr/local/lib/python3.10/dist-packages/pytorch_lightning/trainer/connectors/data_connector.py:224: PossibleUserWarning: The dataloader, train_dataloader, does not have many workers which may be a bottleneck. Consider increasing the value of the `num_workers` argument` (try 8 which is the number of cpus on this machine) in the `DataLoader` init to improve performance.\n",
            "  rank_zero_warn(\n"
          ]
        },
        {
          "data": {
            "application/vnd.jupyter.widget-view+json": {
              "model_id": "5d763c66745f4517b80be933cf83b262",
              "version_major": 2,
              "version_minor": 0
            },
            "text/plain": [
              "Training: 0it [00:00, ?it/s]"
            ]
          },
          "metadata": {},
          "output_type": "display_data"
        },
        {
          "name": "stderr",
          "output_type": "stream",
          "text": [
            "<ipython-input-75-430e4c51e82a>:39: UserWarning: To copy construct from a tensor, it is recommended to use sourceTensor.clone().detach() or sourceTensor.clone().detach().requires_grad_(True), rather than torch.tensor(sourceTensor).\n",
            "  \"labels\": torch.tensor(label, dtype=torch.long)\n",
            "<ipython-input-75-430e4c51e82a>:39: UserWarning: To copy construct from a tensor, it is recommended to use sourceTensor.clone().detach() or sourceTensor.clone().detach().requires_grad_(True), rather than torch.tensor(sourceTensor).\n",
            "  \"labels\": torch.tensor(label, dtype=torch.long)\n"
          ]
        },
        {
          "data": {
            "application/vnd.jupyter.widget-view+json": {
              "model_id": "e0cb5f6bc3ca4a6baa811fcd30a1fdd6",
              "version_major": 2,
              "version_minor": 0
            },
            "text/plain": [
              "Validation: 0it [00:00, ?it/s]"
            ]
          },
          "metadata": {},
          "output_type": "display_data"
        },
        {
          "name": "stderr",
          "output_type": "stream",
          "text": [
            "<ipython-input-75-430e4c51e82a>:39: UserWarning: To copy construct from a tensor, it is recommended to use sourceTensor.clone().detach() or sourceTensor.clone().detach().requires_grad_(True), rather than torch.tensor(sourceTensor).\n",
            "  \"labels\": torch.tensor(label, dtype=torch.long)\n",
            "<ipython-input-75-430e4c51e82a>:39: UserWarning: To copy construct from a tensor, it is recommended to use sourceTensor.clone().detach() or sourceTensor.clone().detach().requires_grad_(True), rather than torch.tensor(sourceTensor).\n",
            "  \"labels\": torch.tensor(label, dtype=torch.long)\n"
          ]
        },
        {
          "name": "stdout",
          "output_type": "stream",
          "text": [
            "Validation Accuracy: 0.7152\n"
          ]
        },
        {
          "name": "stderr",
          "output_type": "stream",
          "text": [
            "<ipython-input-75-430e4c51e82a>:39: UserWarning: To copy construct from a tensor, it is recommended to use sourceTensor.clone().detach() or sourceTensor.clone().detach().requires_grad_(True), rather than torch.tensor(sourceTensor).\n",
            "  \"labels\": torch.tensor(label, dtype=torch.long)\n",
            "<ipython-input-75-430e4c51e82a>:39: UserWarning: To copy construct from a tensor, it is recommended to use sourceTensor.clone().detach() or sourceTensor.clone().detach().requires_grad_(True), rather than torch.tensor(sourceTensor).\n",
            "  \"labels\": torch.tensor(label, dtype=torch.long)\n"
          ]
        },
        {
          "data": {
            "application/vnd.jupyter.widget-view+json": {
              "model_id": "29658a9508a64922a5d94cf8ad4dcf02",
              "version_major": 2,
              "version_minor": 0
            },
            "text/plain": [
              "Validation: 0it [00:00, ?it/s]"
            ]
          },
          "metadata": {},
          "output_type": "display_data"
        },
        {
          "name": "stderr",
          "output_type": "stream",
          "text": [
            "<ipython-input-75-430e4c51e82a>:39: UserWarning: To copy construct from a tensor, it is recommended to use sourceTensor.clone().detach() or sourceTensor.clone().detach().requires_grad_(True), rather than torch.tensor(sourceTensor).\n",
            "  \"labels\": torch.tensor(label, dtype=torch.long)\n",
            "<ipython-input-75-430e4c51e82a>:39: UserWarning: To copy construct from a tensor, it is recommended to use sourceTensor.clone().detach() or sourceTensor.clone().detach().requires_grad_(True), rather than torch.tensor(sourceTensor).\n",
            "  \"labels\": torch.tensor(label, dtype=torch.long)\n"
          ]
        },
        {
          "name": "stdout",
          "output_type": "stream",
          "text": [
            "Validation Accuracy: 0.8291\n"
          ]
        },
        {
          "name": "stderr",
          "output_type": "stream",
          "text": [
            "<ipython-input-75-430e4c51e82a>:39: UserWarning: To copy construct from a tensor, it is recommended to use sourceTensor.clone().detach() or sourceTensor.clone().detach().requires_grad_(True), rather than torch.tensor(sourceTensor).\n",
            "  \"labels\": torch.tensor(label, dtype=torch.long)\n",
            "<ipython-input-75-430e4c51e82a>:39: UserWarning: To copy construct from a tensor, it is recommended to use sourceTensor.clone().detach() or sourceTensor.clone().detach().requires_grad_(True), rather than torch.tensor(sourceTensor).\n",
            "  \"labels\": torch.tensor(label, dtype=torch.long)\n"
          ]
        },
        {
          "data": {
            "application/vnd.jupyter.widget-view+json": {
              "model_id": "c9df89c45141480681a5476bdb5d4896",
              "version_major": 2,
              "version_minor": 0
            },
            "text/plain": [
              "Validation: 0it [00:00, ?it/s]"
            ]
          },
          "metadata": {},
          "output_type": "display_data"
        },
        {
          "name": "stderr",
          "output_type": "stream",
          "text": [
            "<ipython-input-75-430e4c51e82a>:39: UserWarning: To copy construct from a tensor, it is recommended to use sourceTensor.clone().detach() or sourceTensor.clone().detach().requires_grad_(True), rather than torch.tensor(sourceTensor).\n",
            "  \"labels\": torch.tensor(label, dtype=torch.long)\n",
            "<ipython-input-75-430e4c51e82a>:39: UserWarning: To copy construct from a tensor, it is recommended to use sourceTensor.clone().detach() or sourceTensor.clone().detach().requires_grad_(True), rather than torch.tensor(sourceTensor).\n",
            "  \"labels\": torch.tensor(label, dtype=torch.long)\n"
          ]
        },
        {
          "name": "stdout",
          "output_type": "stream",
          "text": [
            "Validation Accuracy: 0.8608\n"
          ]
        },
        {
          "name": "stderr",
          "output_type": "stream",
          "text": [
            "<ipython-input-75-430e4c51e82a>:39: UserWarning: To copy construct from a tensor, it is recommended to use sourceTensor.clone().detach() or sourceTensor.clone().detach().requires_grad_(True), rather than torch.tensor(sourceTensor).\n",
            "  \"labels\": torch.tensor(label, dtype=torch.long)\n",
            "<ipython-input-75-430e4c51e82a>:39: UserWarning: To copy construct from a tensor, it is recommended to use sourceTensor.clone().detach() or sourceTensor.clone().detach().requires_grad_(True), rather than torch.tensor(sourceTensor).\n",
            "  \"labels\": torch.tensor(label, dtype=torch.long)\n"
          ]
        },
        {
          "data": {
            "application/vnd.jupyter.widget-view+json": {
              "model_id": "fa2d2047d22f4bf78bc3239a280915df",
              "version_major": 2,
              "version_minor": 0
            },
            "text/plain": [
              "Validation: 0it [00:00, ?it/s]"
            ]
          },
          "metadata": {},
          "output_type": "display_data"
        },
        {
          "name": "stderr",
          "output_type": "stream",
          "text": [
            "<ipython-input-75-430e4c51e82a>:39: UserWarning: To copy construct from a tensor, it is recommended to use sourceTensor.clone().detach() or sourceTensor.clone().detach().requires_grad_(True), rather than torch.tensor(sourceTensor).\n",
            "  \"labels\": torch.tensor(label, dtype=torch.long)\n",
            "<ipython-input-75-430e4c51e82a>:39: UserWarning: To copy construct from a tensor, it is recommended to use sourceTensor.clone().detach() or sourceTensor.clone().detach().requires_grad_(True), rather than torch.tensor(sourceTensor).\n",
            "  \"labels\": torch.tensor(label, dtype=torch.long)\n"
          ]
        },
        {
          "name": "stdout",
          "output_type": "stream",
          "text": [
            "Validation Accuracy: 0.8797\n"
          ]
        },
        {
          "name": "stderr",
          "output_type": "stream",
          "text": [
            "<ipython-input-75-430e4c51e82a>:39: UserWarning: To copy construct from a tensor, it is recommended to use sourceTensor.clone().detach() or sourceTensor.clone().detach().requires_grad_(True), rather than torch.tensor(sourceTensor).\n",
            "  \"labels\": torch.tensor(label, dtype=torch.long)\n",
            "<ipython-input-75-430e4c51e82a>:39: UserWarning: To copy construct from a tensor, it is recommended to use sourceTensor.clone().detach() or sourceTensor.clone().detach().requires_grad_(True), rather than torch.tensor(sourceTensor).\n",
            "  \"labels\": torch.tensor(label, dtype=torch.long)\n"
          ]
        },
        {
          "data": {
            "application/vnd.jupyter.widget-view+json": {
              "model_id": "7db1034dd0f84c1da0aa32283ebe9fb8",
              "version_major": 2,
              "version_minor": 0
            },
            "text/plain": [
              "Validation: 0it [00:00, ?it/s]"
            ]
          },
          "metadata": {},
          "output_type": "display_data"
        },
        {
          "name": "stderr",
          "output_type": "stream",
          "text": [
            "<ipython-input-75-430e4c51e82a>:39: UserWarning: To copy construct from a tensor, it is recommended to use sourceTensor.clone().detach() or sourceTensor.clone().detach().requires_grad_(True), rather than torch.tensor(sourceTensor).\n",
            "  \"labels\": torch.tensor(label, dtype=torch.long)\n",
            "<ipython-input-75-430e4c51e82a>:39: UserWarning: To copy construct from a tensor, it is recommended to use sourceTensor.clone().detach() or sourceTensor.clone().detach().requires_grad_(True), rather than torch.tensor(sourceTensor).\n",
            "  \"labels\": torch.tensor(label, dtype=torch.long)\n"
          ]
        },
        {
          "name": "stdout",
          "output_type": "stream",
          "text": [
            "Validation Accuracy: 0.8797\n"
          ]
        },
        {
          "name": "stderr",
          "output_type": "stream",
          "text": [
            "INFO:pytorch_lightning.utilities.rank_zero:`Trainer.fit` stopped: `max_epochs=5` reached.\n"
          ]
        }
      ],
      "source": [
        "# Train the model\n",
        "trainer.fit(model_module, train_data_loader, test_data_loader)"
      ]
    },
    {
      "cell_type": "markdown",
      "metadata": {
        "id": "gKrQCouQlvSv"
      },
      "source": [
        "# Evaluation\n",
        "Loading the best trained model and uploading it to the HuggingFace Hub"
      ]
    },
    {
      "cell_type": "code",
      "execution_count": null,
      "metadata": {
        "colab": {
          "base_uri": "https://localhost:8080/"
        },
        "id": "OL-IYC00tUQ3",
        "outputId": "a3a5ad4c-a2f6-406f-a4fe-cbb1a4a9b656"
      },
      "outputs": [
        {
          "name": "stderr",
          "output_type": "stream",
          "text": [
            "Some weights of LayoutLMv3ForSequenceClassification were not initialized from the model checkpoint at microsoft/layoutlmv3-base and are newly initialized: ['classifier.dense.weight', 'classifier.dense.bias', 'classifier.out_proj.bias', 'classifier.out_proj.weight']\n",
            "You should probably TRAIN this model on a down-stream task to be able to use it for predictions and inference.\n"
          ]
        }
      ],
      "source": [
        "trained_model = ModelModule.load_from_checkpoint(\n",
        "    model_checkpoint.best_model_path,\n",
        "    n_classes=len(DOCUMENT_CLASSES),\n",
        "    local_files_only=True\n",
        ")"
      ]
    },
    {
      "cell_type": "code",
      "execution_count": null,
      "metadata": {
        "id": "g94I8fUeE7g2"
      },
      "outputs": [],
      "source": [
        "trained_model.model.save_pretrained(Path(\"/content/drive/MyDrive/best-model\"))"
      ]
    },
    {
      "cell_type": "code",
      "execution_count": null,
      "metadata": {
        "id": "s1YqItGMEUpl"
      },
      "outputs": [],
      "source": [
        "DEVICE = \"cuda:0\" if torch.cuda.is_available() else \"cpu\"\n",
        "model = model.eval().to(DEVICE)"
      ]
    },
    {
      "cell_type": "code",
      "execution_count": null,
      "metadata": {
        "id": "Wd8mDVTZunJm"
      },
      "outputs": [],
      "source": [
        "def scale_bounding_box(bounding_box, width_scale, height_scale):\n",
        "    # Function to scale and clamp the bounding box coordinates to the valid range\n",
        "    scaled_bbox = [\n",
        "        max(0, min(int(bounding_box[0] * width_scale), 1000)),\n",
        "        max(0, min(int(bounding_box[1] * height_scale), 1000)),\n",
        "        max(0, min(int(bounding_box[2] * width_scale), 1000)),\n",
        "        max(0, min(int(bounding_box[3] * height_scale), 1000))\n",
        "    ]\n",
        "    return scaled_bbox\n",
        "\n",
        "# Define a function to do inference\n",
        "def predict_document_image(image_path: Path, model: LayoutLMv3ForSequenceClassification, processor: LayoutLMv3Processor):\n",
        "    json_path = image_path.with_suffix(\".json\")\n",
        "    with json_path.open(\"r\") as f:\n",
        "        ocr_result = json.load(f)\n",
        "\n",
        "    with Image.open(image_path).convert(\"RGB\") as image:\n",
        "        width, height = image.size\n",
        "        width_scale = 1000 / width\n",
        "        height_scale = 1000 / height\n",
        "\n",
        "        words = []\n",
        "        boxes = []\n",
        "        for row in ocr_result:\n",
        "            boxes.append(\n",
        "                scale_bounding_box(\n",
        "                    row[\"bounding_box\"],\n",
        "                    width_scale,\n",
        "                    height_scale\n",
        "                )\n",
        "            )\n",
        "            words.append(row[\"word\"])\n",
        "\n",
        "        encoding = processor(\n",
        "            image,\n",
        "            words,\n",
        "            boxes=boxes,\n",
        "            max_length=512,\n",
        "            padding=\"max_length\",\n",
        "            truncation=True,\n",
        "            return_tensors=\"pt\"\n",
        "        )\n",
        "\n",
        "    with torch.inference_mode():\n",
        "        output = model(\n",
        "            input_ids=encoding[\"input_ids\"].to(DEVICE),\n",
        "            attention_mask=encoding[\"attention_mask\"].to(DEVICE),\n",
        "            bbox=encoding[\"bbox\"].to(DEVICE),\n",
        "            pixel_values=encoding[\"pixel_values\"].to(DEVICE)\n",
        "        )\n",
        "\n",
        "    predicted_class = output.logits.argmax()\n",
        "    return model.config.id2label[predicted_class.item()]\n"
      ]
    },
    {
      "cell_type": "code",
      "execution_count": null,
      "metadata": {
        "colab": {
          "base_uri": "https://localhost:8080/"
        },
        "id": "RNqPzLZDunFt",
        "outputId": "fa9b2182-c732-4b99-b6d3-467d16720de4"
      },
      "outputs": [
        {
          "name": "stderr",
          "output_type": "stream",
          "text": [
            "0it [00:00, ?it/s]/usr/local/lib/python3.10/dist-packages/transformers/modeling_utils.py:830: FutureWarning: The `device` argument is deprecated and will be removed in v5 of Transformers.\n",
            "  warnings.warn(\n",
            "158it [00:14, 10.55it/s]\n"
          ]
        }
      ],
      "source": [
        "labels = []\n",
        "predictions = []\n",
        "# Get the prediction labels for test set\n",
        "for image_path in tqdm(Path(test_save_dir).glob(\"*/*.jpg\")):\n",
        "    labels.append(image_path.parent.name)\n",
        "    predictions.append(predict_document_image(image_path, model, processor))\n"
      ]
    },
    {
      "cell_type": "code",
      "execution_count": null,
      "metadata": {
        "colab": {
          "base_uri": "https://localhost:8080/"
        },
        "id": "4CGXBraNwu0T",
        "outputId": "9c4c9bac-6b38-40f6-aaa2-f65de8392c1f"
      },
      "outputs": [
        {
          "name": "stdout",
          "output_type": "stream",
          "text": [
            "                           precision    recall  f1-score   support\n",
            "\n",
            "                  Cannula       1.00      0.50      0.67         4\n",
            "      Daily Record Sheets       0.80      1.00      0.89         4\n",
            "            Fluid Balance       0.95      1.00      0.97        19\n",
            "       Nursing Care Forms       0.82      0.79      0.81        29\n",
            "            Prescriptions       0.85      0.95      0.90        60\n",
            "Pressure Ulcer Prevention       1.00      0.25      0.40         4\n",
            "     Repositioning Charts       1.00      1.00      1.00         4\n",
            "         Risk Assessments       0.67      0.55      0.60        11\n",
            "             Stool Charts       1.00      0.67      0.80         3\n",
            "              Vital Signs       0.95      0.95      0.95        20\n",
            "\n",
            "                 accuracy                           0.87       158\n",
            "                macro avg       0.90      0.77      0.80       158\n",
            "             weighted avg       0.87      0.87      0.86       158\n",
            "\n"
          ]
        }
      ],
      "source": [
        "from sklearn.metrics import classification_report\n",
        "\n",
        "# Generate the classification report\n",
        "report = classification_report(labels, predictions, target_names=DOCUMENT_CLASSES)\n",
        "\n",
        "# Print the classification report\n",
        "print(report)\n"
      ]
    },
    {
      "cell_type": "code",
      "execution_count": null,
      "metadata": {
        "colab": {
          "base_uri": "https://localhost:8080/",
          "height": 818
        },
        "id": "IYjci9hDBGlT",
        "outputId": "1fec1855-9abd-485d-a45d-c45dfc5e21d8"
      },
      "outputs": [
        {
          "data": {
            "image/png": "[encoded data removed]",
            "text/plain": [
              "<Figure size 1600x800 with 2 Axes>"
            ]
          },
          "metadata": {},
          "output_type": "display_data"
        }
      ],
      "source": [
        "cm = confusion_matrix(labels, predictions, labels=DOCUMENT_CLASSES)\n",
        "cm_display = ConfusionMatrixDisplay(\n",
        "    confusion_matrix=cm,\n",
        "    display_labels=DOCUMENT_CLASSES\n",
        ")\n",
        "\n",
        "cm_display.plot()\n",
        "cm_display.ax_.set_xticklabels(DOCUMENT_CLASSES, rotation=90)\n",
        "cm_display.figure_.set_size_inches(16, 8)\n",
        "\n",
        "plt.show();"
      ]
    },
    {
      "cell_type": "code",
      "execution_count": null,
      "metadata": {
        "colab": {
          "base_uri": "https://localhost:8080/"
        },
        "id": "qoq7dpgXunDU",
        "outputId": "3add8bd9-c16e-419e-93e8-d8bf8189901e"
      },
      "outputs": [
        {
          "name": "stdout",
          "output_type": "stream",
          "text": [
            "Accuracy: 0.8670886075949367\n",
            "Precision: 0.869933784963069\n",
            "Recall: 0.8670886075949367\n",
            "F1 score: 0.8582077166044809\n"
          ]
        }
      ],
      "source": [
        "# Calculate accuracy\n",
        "accuracy = accuracy_score(labels, predictions)\n",
        "# Calculate precision\n",
        "precision = precision_score(labels, predictions, average='weighted')\n",
        "# Calculate recall\n",
        "recall = recall_score(labels, predictions, average='weighted')\n",
        "# Calculate F1 score\n",
        "f1 = f1_score(labels, predictions, average='weighted')\n",
        "\n",
        "print(\"Accuracy:\", accuracy)\n",
        "print(\"Precision:\", precision)\n",
        "print(\"Recall:\", recall)\n",
        "print(\"F1 score:\", f1)"
      ]
    },
    {
      "cell_type": "code",
      "execution_count": null,
      "metadata": {
        "id": "FmZ8sJyGu_2g"
      },
      "outputs": [],
      "source": []
    }
  ],
  "metadata": {
    "colab": {
      "machine_shape": "hm",
      "provenance": [],
      "toc_visible": true,
      "gpuType": "V100"
    },
    "kernelspec": {
      "display_name": "Python 3",
      "name": "python3"
    },
    "language_info": {
      "name": "python"
    },
    "widgets": {
      "application/vnd.jupyter.widget-state+json": {
        "072fa60139744c3db76e428cdbd70e75": {
          "model_module": "@jupyter-widgets/base",
          "model_module_version": "1.2.0",
          "model_name": "LayoutModel",
          "state": {
            "_model_module": "@jupyter-widgets/base",
            "_model_module_version": "1.2.0",
            "_model_name": "LayoutModel",
            "_view_count": null,
            "_view_module": "@jupyter-widgets/base",
            "_view_module_version": "1.2.0",
            "_view_name": "LayoutView",
            "align_content": null,
            "align_items": null,
            "align_self": null,
            "border": null,
            "bottom": null,
            "display": null,
            "flex": "2",
            "flex_flow": null,
            "grid_area": null,
            "grid_auto_columns": null,
            "grid_auto_flow": null,
            "grid_auto_rows": null,
            "grid_column": null,
            "grid_gap": null,
            "grid_row": null,
            "grid_template_areas": null,
            "grid_template_columns": null,
            "grid_template_rows": null,
            "height": null,
            "justify_content": null,
            "justify_items": null,
            "left": null,
            "margin": null,
            "max_height": null,
            "max_width": null,
            "min_height": null,
            "min_width": null,
            "object_fit": null,
            "object_position": null,
            "order": null,
            "overflow": null,
            "overflow_x": null,
            "overflow_y": null,
            "padding": null,
            "right": null,
            "top": null,
            "visibility": null,
            "width": null
          }
        },
        "07bbe41bcfcb4147bc5b8eac123c88d3": {
          "model_module": "@jupyter-widgets/base",
          "model_module_version": "1.2.0",
          "model_name": "LayoutModel",
          "state": {
            "_model_module": "@jupyter-widgets/base",
            "_model_module_version": "1.2.0",
            "_model_name": "LayoutModel",
            "_view_count": null,
            "_view_module": "@jupyter-widgets/base",
            "_view_module_version": "1.2.0",
            "_view_name": "LayoutView",
            "align_content": null,
            "align_items": null,
            "align_self": null,
            "border": null,
            "bottom": null,
            "display": null,
            "flex": "2",
            "flex_flow": null,
            "grid_area": null,
            "grid_auto_columns": null,
            "grid_auto_flow": null,
            "grid_auto_rows": null,
            "grid_column": null,
            "grid_gap": null,
            "grid_row": null,
            "grid_template_areas": null,
            "grid_template_columns": null,
            "grid_template_rows": null,
            "height": null,
            "justify_content": null,
            "justify_items": null,
            "left": null,
            "margin": null,
            "max_height": null,
            "max_width": null,
            "min_height": null,
            "min_width": null,
            "object_fit": null,
            "object_position": null,
            "order": null,
            "overflow": null,
            "overflow_x": null,
            "overflow_y": null,
            "padding": null,
            "right": null,
            "top": null,
            "visibility": null,
            "width": null
          }
        },
        "11e233ba031f4b4dbf03d40588f2b22f": {
          "model_module": "@jupyter-widgets/controls",
          "model_module_version": "1.5.0",
          "model_name": "DescriptionStyleModel",
          "state": {
            "_model_module": "@jupyter-widgets/controls",
            "_model_module_version": "1.5.0",
            "_model_name": "DescriptionStyleModel",
            "_view_count": null,
            "_view_module": "@jupyter-widgets/base",
            "_view_module_version": "1.2.0",
            "_view_name": "StyleView",
            "description_width": ""
          }
        },
        "16739eabb21e4b12b4482cfd101bce85": {
          "model_module": "@jupyter-widgets/controls",
          "model_module_version": "1.5.0",
          "model_name": "FloatProgressModel",
          "state": {
            "_dom_classes": [],
            "_model_module": "@jupyter-widgets/controls",
            "_model_module_version": "1.5.0",
            "_model_name": "FloatProgressModel",
            "_view_count": null,
            "_view_module": "@jupyter-widgets/controls",
            "_view_module_version": "1.5.0",
            "_view_name": "ProgressView",
            "bar_style": "",
            "description": "",
            "description_tooltip": null,
            "layout": "IPY_MODEL_cb703cfd707d47689eaaf279ad972335",
            "max": 40,
            "min": 0,
            "orientation": "horizontal",
            "style": "IPY_MODEL_562392e271ee4a81a0f5b978f0c78c7d",
            "value": 40
          }
        },
        "186d7d47f9344ed1a2b9a634fd181f12": {
          "model_module": "@jupyter-widgets/controls",
          "model_module_version": "1.5.0",
          "model_name": "ProgressStyleModel",
          "state": {
            "_model_module": "@jupyter-widgets/controls",
            "_model_module_version": "1.5.0",
            "_model_name": "ProgressStyleModel",
            "_view_count": null,
            "_view_module": "@jupyter-widgets/base",
            "_view_module_version": "1.2.0",
            "_view_name": "StyleView",
            "bar_color": null,
            "description_width": ""
          }
        },
        "186df1c78c9e467ebe76fe019f5e9901": {
          "model_module": "@jupyter-widgets/controls",
          "model_module_version": "1.5.0",
          "model_name": "ProgressStyleModel",
          "state": {
            "_model_module": "@jupyter-widgets/controls",
            "_model_module_version": "1.5.0",
            "_model_name": "ProgressStyleModel",
            "_view_count": null,
            "_view_module": "@jupyter-widgets/base",
            "_view_module_version": "1.2.0",
            "_view_name": "StyleView",
            "bar_color": null,
            "description_width": ""
          }
        },
        "1e51750bf14e4870a332ed9157c4d53b": {
          "model_module": "@jupyter-widgets/controls",
          "model_module_version": "1.5.0",
          "model_name": "DescriptionStyleModel",
          "state": {
            "_model_module": "@jupyter-widgets/controls",
            "_model_module_version": "1.5.0",
            "_model_name": "DescriptionStyleModel",
            "_view_count": null,
            "_view_module": "@jupyter-widgets/base",
            "_view_module_version": "1.2.0",
            "_view_name": "StyleView",
            "description_width": ""
          }
        },
        "21d2503035604b84ae6a91bf0cc89a47": {
          "model_module": "@jupyter-widgets/base",
          "model_module_version": "1.2.0",
          "model_name": "LayoutModel",
          "state": {
            "_model_module": "@jupyter-widgets/base",
            "_model_module_version": "1.2.0",
            "_model_name": "LayoutModel",
            "_view_count": null,
            "_view_module": "@jupyter-widgets/base",
            "_view_module_version": "1.2.0",
            "_view_name": "LayoutView",
            "align_content": null,
            "align_items": null,
            "align_self": null,
            "border": null,
            "bottom": null,
            "display": null,
            "flex": null,
            "flex_flow": null,
            "grid_area": null,
            "grid_auto_columns": null,
            "grid_auto_flow": null,
            "grid_auto_rows": null,
            "grid_column": null,
            "grid_gap": null,
            "grid_row": null,
            "grid_template_areas": null,
            "grid_template_columns": null,
            "grid_template_rows": null,
            "height": null,
            "justify_content": null,
            "justify_items": null,
            "left": null,
            "margin": null,
            "max_height": null,
            "max_width": null,
            "min_height": null,
            "min_width": null,
            "object_fit": null,
            "object_position": null,
            "order": null,
            "overflow": null,
            "overflow_x": null,
            "overflow_y": null,
            "padding": null,
            "right": null,
            "top": null,
            "visibility": null,
            "width": null
          }
        },
        "27ca7d4d24f5402b8a134876a4f189e7": {
          "model_module": "@jupyter-widgets/base",
          "model_module_version": "1.2.0",
          "model_name": "LayoutModel",
          "state": {
            "_model_module": "@jupyter-widgets/base",
            "_model_module_version": "1.2.0",
            "_model_name": "LayoutModel",
            "_view_count": null,
            "_view_module": "@jupyter-widgets/base",
            "_view_module_version": "1.2.0",
            "_view_name": "LayoutView",
            "align_content": null,
            "align_items": null,
            "align_self": null,
            "border": null,
            "bottom": null,
            "display": null,
            "flex": null,
            "flex_flow": null,
            "grid_area": null,
            "grid_auto_columns": null,
            "grid_auto_flow": null,
            "grid_auto_rows": null,
            "grid_column": null,
            "grid_gap": null,
            "grid_row": null,
            "grid_template_areas": null,
            "grid_template_columns": null,
            "grid_template_rows": null,
            "height": null,
            "justify_content": null,
            "justify_items": null,
            "left": null,
            "margin": null,
            "max_height": null,
            "max_width": null,
            "min_height": null,
            "min_width": null,
            "object_fit": null,
            "object_position": null,
            "order": null,
            "overflow": null,
            "overflow_x": null,
            "overflow_y": null,
            "padding": null,
            "right": null,
            "top": null,
            "visibility": null,
            "width": null
          }
        },
        "29658a9508a64922a5d94cf8ad4dcf02": {
          "model_module": "@jupyter-widgets/controls",
          "model_module_version": "1.5.0",
          "model_name": "HBoxModel",
          "state": {
            "_dom_classes": [],
            "_model_module": "@jupyter-widgets/controls",
            "_model_module_version": "1.5.0",
            "_model_name": "HBoxModel",
            "_view_count": null,
            "_view_module": "@jupyter-widgets/controls",
            "_view_module_version": "1.5.0",
            "_view_name": "HBoxView",
            "box_style": "",
            "children": [
              "IPY_MODEL_7986d666638543b18fa2b3ac6b91d31b",
              "IPY_MODEL_6990da3f9b3e446b8a75ace3895e43af",
              "IPY_MODEL_54041dc7c53c41ba9281a12ed118597c"
            ],
            "layout": "IPY_MODEL_4956e711e2384390a9a61de3c3f1337e"
          }
        },
        "2987316141934d39af51cf532b3e5322": {
          "model_module": "@jupyter-widgets/base",
          "model_module_version": "1.2.0",
          "model_name": "LayoutModel",
          "state": {
            "_model_module": "@jupyter-widgets/base",
            "_model_module_version": "1.2.0",
            "_model_name": "LayoutModel",
            "_view_count": null,
            "_view_module": "@jupyter-widgets/base",
            "_view_module_version": "1.2.0",
            "_view_name": "LayoutView",
            "align_content": null,
            "align_items": null,
            "align_self": null,
            "border": null,
            "bottom": null,
            "display": null,
            "flex": null,
            "flex_flow": null,
            "grid_area": null,
            "grid_auto_columns": null,
            "grid_auto_flow": null,
            "grid_auto_rows": null,
            "grid_column": null,
            "grid_gap": null,
            "grid_row": null,
            "grid_template_areas": null,
            "grid_template_columns": null,
            "grid_template_rows": null,
            "height": null,
            "justify_content": null,
            "justify_items": null,
            "left": null,
            "margin": null,
            "max_height": null,
            "max_width": null,
            "min_height": null,
            "min_width": null,
            "object_fit": null,
            "object_position": null,
            "order": null,
            "overflow": null,
            "overflow_x": null,
            "overflow_y": null,
            "padding": null,
            "right": null,
            "top": null,
            "visibility": null,
            "width": null
          }
        },
        "2ca250c084904734a9f611790f1b005d": {
          "model_module": "@jupyter-widgets/base",
          "model_module_version": "1.2.0",
          "model_name": "LayoutModel",
          "state": {
            "_model_module": "@jupyter-widgets/base",
            "_model_module_version": "1.2.0",
            "_model_name": "LayoutModel",
            "_view_count": null,
            "_view_module": "@jupyter-widgets/base",
            "_view_module_version": "1.2.0",
            "_view_name": "LayoutView",
            "align_content": null,
            "align_items": null,
            "align_self": null,
            "border": null,
            "bottom": null,
            "display": null,
            "flex": null,
            "flex_flow": null,
            "grid_area": null,
            "grid_auto_columns": null,
            "grid_auto_flow": null,
            "grid_auto_rows": null,
            "grid_column": null,
            "grid_gap": null,
            "grid_row": null,
            "grid_template_areas": null,
            "grid_template_columns": null,
            "grid_template_rows": null,
            "height": null,
            "justify_content": null,
            "justify_items": null,
            "left": null,
            "margin": null,
            "max_height": null,
            "max_width": null,
            "min_height": null,
            "min_width": null,
            "object_fit": null,
            "object_position": null,
            "order": null,
            "overflow": null,
            "overflow_x": null,
            "overflow_y": null,
            "padding": null,
            "right": null,
            "top": null,
            "visibility": null,
            "width": null
          }
        },
        "32aac1ec0c1347c0a7356b8308057b35": {
          "model_module": "@jupyter-widgets/controls",
          "model_module_version": "1.5.0",
          "model_name": "HBoxModel",
          "state": {
            "_dom_classes": [],
            "_model_module": "@jupyter-widgets/controls",
            "_model_module_version": "1.5.0",
            "_model_name": "HBoxModel",
            "_view_count": null,
            "_view_module": "@jupyter-widgets/controls",
            "_view_module_version": "1.5.0",
            "_view_name": "HBoxView",
            "box_style": "",
            "children": [
              "IPY_MODEL_48bfb96ed0ad441092125f9d7764f329",
              "IPY_MODEL_5e00c3398b7344058b664463547657c8",
              "IPY_MODEL_4821cc1e5d224d0698299d1f352b448c"
            ],
            "layout": "IPY_MODEL_f9faa5896a9c49d38f47c649fa6e3bf2"
          }
        },
        "32fad92974714903aa4ce5d83f7b8186": {
          "model_module": "@jupyter-widgets/controls",
          "model_module_version": "1.5.0",
          "model_name": "DescriptionStyleModel",
          "state": {
            "_model_module": "@jupyter-widgets/controls",
            "_model_module_version": "1.5.0",
            "_model_name": "DescriptionStyleModel",
            "_view_count": null,
            "_view_module": "@jupyter-widgets/base",
            "_view_module_version": "1.2.0",
            "_view_name": "StyleView",
            "description_width": ""
          }
        },
        "3711687317bb459fa6f8ab4d6d14be78": {
          "model_module": "@jupyter-widgets/base",
          "model_module_version": "1.2.0",
          "model_name": "LayoutModel",
          "state": {
            "_model_module": "@jupyter-widgets/base",
            "_model_module_version": "1.2.0",
            "_model_name": "LayoutModel",
            "_view_count": null,
            "_view_module": "@jupyter-widgets/base",
            "_view_module_version": "1.2.0",
            "_view_name": "LayoutView",
            "align_content": null,
            "align_items": null,
            "align_self": null,
            "border": null,
            "bottom": null,
            "display": "inline-flex",
            "flex": null,
            "flex_flow": "row wrap",
            "grid_area": null,
            "grid_auto_columns": null,
            "grid_auto_flow": null,
            "grid_auto_rows": null,
            "grid_column": null,
            "grid_gap": null,
            "grid_row": null,
            "grid_template_areas": null,
            "grid_template_columns": null,
            "grid_template_rows": null,
            "height": null,
            "justify_content": null,
            "justify_items": null,
            "left": null,
            "margin": null,
            "max_height": null,
            "max_width": null,
            "min_height": null,
            "min_width": null,
            "object_fit": null,
            "object_position": null,
            "order": null,
            "overflow": null,
            "overflow_x": null,
            "overflow_y": null,
            "padding": null,
            "right": null,
            "top": null,
            "visibility": "hidden",
            "width": "100%"
          }
        },
        "37cedb543ed84c48b7111af0a64d2904": {
          "model_module": "@jupyter-widgets/base",
          "model_module_version": "1.2.0",
          "model_name": "LayoutModel",
          "state": {
            "_model_module": "@jupyter-widgets/base",
            "_model_module_version": "1.2.0",
            "_model_name": "LayoutModel",
            "_view_count": null,
            "_view_module": "@jupyter-widgets/base",
            "_view_module_version": "1.2.0",
            "_view_name": "LayoutView",
            "align_content": null,
            "align_items": null,
            "align_self": null,
            "border": null,
            "bottom": null,
            "display": null,
            "flex": null,
            "flex_flow": null,
            "grid_area": null,
            "grid_auto_columns": null,
            "grid_auto_flow": null,
            "grid_auto_rows": null,
            "grid_column": null,
            "grid_gap": null,
            "grid_row": null,
            "grid_template_areas": null,
            "grid_template_columns": null,
            "grid_template_rows": null,
            "height": null,
            "justify_content": null,
            "justify_items": null,
            "left": null,
            "margin": null,
            "max_height": null,
            "max_width": null,
            "min_height": null,
            "min_width": null,
            "object_fit": null,
            "object_position": null,
            "order": null,
            "overflow": null,
            "overflow_x": null,
            "overflow_y": null,
            "padding": null,
            "right": null,
            "top": null,
            "visibility": null,
            "width": null
          }
        },
        "384d127d1a994ad5a7cd5f7f059a0a70": {
          "model_module": "@jupyter-widgets/base",
          "model_module_version": "1.2.0",
          "model_name": "LayoutModel",
          "state": {
            "_model_module": "@jupyter-widgets/base",
            "_model_module_version": "1.2.0",
            "_model_name": "LayoutModel",
            "_view_count": null,
            "_view_module": "@jupyter-widgets/base",
            "_view_module_version": "1.2.0",
            "_view_name": "LayoutView",
            "align_content": null,
            "align_items": null,
            "align_self": null,
            "border": null,
            "bottom": null,
            "display": "inline-flex",
            "flex": null,
            "flex_flow": "row wrap",
            "grid_area": null,
            "grid_auto_columns": null,
            "grid_auto_flow": null,
            "grid_auto_rows": null,
            "grid_column": null,
            "grid_gap": null,
            "grid_row": null,
            "grid_template_areas": null,
            "grid_template_columns": null,
            "grid_template_rows": null,
            "height": null,
            "justify_content": null,
            "justify_items": null,
            "left": null,
            "margin": null,
            "max_height": null,
            "max_width": null,
            "min_height": null,
            "min_width": null,
            "object_fit": null,
            "object_position": null,
            "order": null,
            "overflow": null,
            "overflow_x": null,
            "overflow_y": null,
            "padding": null,
            "right": null,
            "top": null,
            "visibility": null,
            "width": "100%"
          }
        },
        "38623be8e35c4046933b209f710fbd77": {
          "model_module": "@jupyter-widgets/controls",
          "model_module_version": "1.5.0",
          "model_name": "HTMLModel",
          "state": {
            "_dom_classes": [],
            "_model_module": "@jupyter-widgets/controls",
            "_model_module_version": "1.5.0",
            "_model_name": "HTMLModel",
            "_view_count": null,
            "_view_module": "@jupyter-widgets/controls",
            "_view_module_version": "1.5.0",
            "_view_name": "HTMLView",
            "description": "",
            "description_tooltip": null,
            "layout": "IPY_MODEL_b3042ebbdab741419228ebe3b3e74366",
            "placeholder": "​",
            "style": "IPY_MODEL_58ac90f510db45388d45afdfa57a6c82",
            "value": " 40/40 [00:05&lt;00:00,  7.67it/s]"
          }
        },
        "3955fe670aaf4774a1470cff611646d9": {
          "model_module": "@jupyter-widgets/base",
          "model_module_version": "1.2.0",
          "model_name": "LayoutModel",
          "state": {
            "_model_module": "@jupyter-widgets/base",
            "_model_module_version": "1.2.0",
            "_model_name": "LayoutModel",
            "_view_count": null,
            "_view_module": "@jupyter-widgets/base",
            "_view_module_version": "1.2.0",
            "_view_name": "LayoutView",
            "align_content": null,
            "align_items": null,
            "align_self": null,
            "border": null,
            "bottom": null,
            "display": null,
            "flex": "2",
            "flex_flow": null,
            "grid_area": null,
            "grid_auto_columns": null,
            "grid_auto_flow": null,
            "grid_auto_rows": null,
            "grid_column": null,
            "grid_gap": null,
            "grid_row": null,
            "grid_template_areas": null,
            "grid_template_columns": null,
            "grid_template_rows": null,
            "height": null,
            "justify_content": null,
            "justify_items": null,
            "left": null,
            "margin": null,
            "max_height": null,
            "max_width": null,
            "min_height": null,
            "min_width": null,
            "object_fit": null,
            "object_position": null,
            "order": null,
            "overflow": null,
            "overflow_x": null,
            "overflow_y": null,
            "padding": null,
            "right": null,
            "top": null,
            "visibility": null,
            "width": null
          }
        },
        "3c2444ea700447d3acf55f431b5e34ed": {
          "model_module": "@jupyter-widgets/base",
          "model_module_version": "1.2.0",
          "model_name": "LayoutModel",
          "state": {
            "_model_module": "@jupyter-widgets/base",
            "_model_module_version": "1.2.0",
            "_model_name": "LayoutModel",
            "_view_count": null,
            "_view_module": "@jupyter-widgets/base",
            "_view_module_version": "1.2.0",
            "_view_name": "LayoutView",
            "align_content": null,
            "align_items": null,
            "align_self": null,
            "border": null,
            "bottom": null,
            "display": "inline-flex",
            "flex": null,
            "flex_flow": "row wrap",
            "grid_area": null,
            "grid_auto_columns": null,
            "grid_auto_flow": null,
            "grid_auto_rows": null,
            "grid_column": null,
            "grid_gap": null,
            "grid_row": null,
            "grid_template_areas": null,
            "grid_template_columns": null,
            "grid_template_rows": null,
            "height": null,
            "justify_content": null,
            "justify_items": null,
            "left": null,
            "margin": null,
            "max_height": null,
            "max_width": null,
            "min_height": null,
            "min_width": null,
            "object_fit": null,
            "object_position": null,
            "order": null,
            "overflow": null,
            "overflow_x": null,
            "overflow_y": null,
            "padding": null,
            "right": null,
            "top": null,
            "visibility": "hidden",
            "width": "100%"
          }
        },
        "3dbc40039701445b939dedbf7001921e": {
          "model_module": "@jupyter-widgets/base",
          "model_module_version": "1.2.0",
          "model_name": "LayoutModel",
          "state": {
            "_model_module": "@jupyter-widgets/base",
            "_model_module_version": "1.2.0",
            "_model_name": "LayoutModel",
            "_view_count": null,
            "_view_module": "@jupyter-widgets/base",
            "_view_module_version": "1.2.0",
            "_view_name": "LayoutView",
            "align_content": null,
            "align_items": null,
            "align_self": null,
            "border": null,
            "bottom": null,
            "display": null,
            "flex": "2",
            "flex_flow": null,
            "grid_area": null,
            "grid_auto_columns": null,
            "grid_auto_flow": null,
            "grid_auto_rows": null,
            "grid_column": null,
            "grid_gap": null,
            "grid_row": null,
            "grid_template_areas": null,
            "grid_template_columns": null,
            "grid_template_rows": null,
            "height": null,
            "justify_content": null,
            "justify_items": null,
            "left": null,
            "margin": null,
            "max_height": null,
            "max_width": null,
            "min_height": null,
            "min_width": null,
            "object_fit": null,
            "object_position": null,
            "order": null,
            "overflow": null,
            "overflow_x": null,
            "overflow_y": null,
            "padding": null,
            "right": null,
            "top": null,
            "visibility": null,
            "width": null
          }
        },
        "3ee4a8c8b0c445cb880ec21d75b40c87": {
          "model_module": "@jupyter-widgets/base",
          "model_module_version": "1.2.0",
          "model_name": "LayoutModel",
          "state": {
            "_model_module": "@jupyter-widgets/base",
            "_model_module_version": "1.2.0",
            "_model_name": "LayoutModel",
            "_view_count": null,
            "_view_module": "@jupyter-widgets/base",
            "_view_module_version": "1.2.0",
            "_view_name": "LayoutView",
            "align_content": null,
            "align_items": null,
            "align_self": null,
            "border": null,
            "bottom": null,
            "display": null,
            "flex": null,
            "flex_flow": null,
            "grid_area": null,
            "grid_auto_columns": null,
            "grid_auto_flow": null,
            "grid_auto_rows": null,
            "grid_column": null,
            "grid_gap": null,
            "grid_row": null,
            "grid_template_areas": null,
            "grid_template_columns": null,
            "grid_template_rows": null,
            "height": null,
            "justify_content": null,
            "justify_items": null,
            "left": null,
            "margin": null,
            "max_height": null,
            "max_width": null,
            "min_height": null,
            "min_width": null,
            "object_fit": null,
            "object_position": null,
            "order": null,
            "overflow": null,
            "overflow_x": null,
            "overflow_y": null,
            "padding": null,
            "right": null,
            "top": null,
            "visibility": null,
            "width": null
          }
        },
        "4821cc1e5d224d0698299d1f352b448c": {
          "model_module": "@jupyter-widgets/controls",
          "model_module_version": "1.5.0",
          "model_name": "HTMLModel",
          "state": {
            "_dom_classes": [],
            "_model_module": "@jupyter-widgets/controls",
            "_model_module_version": "1.5.0",
            "_model_name": "HTMLModel",
            "_view_count": null,
            "_view_module": "@jupyter-widgets/controls",
            "_view_module_version": "1.5.0",
            "_view_name": "HTMLView",
            "description": "",
            "description_tooltip": null,
            "layout": "IPY_MODEL_27ca7d4d24f5402b8a134876a4f189e7",
            "placeholder": "​",
            "style": "IPY_MODEL_8109b758b317412fa51a31e32bc1dc4c",
            "value": " 2/2 [00:00&lt;00:00, 12.51it/s]"
          }
        },
        "4848e8cf8b474a508d261ec3734d268f": {
          "model_module": "@jupyter-widgets/controls",
          "model_module_version": "1.5.0",
          "model_name": "HTMLModel",
          "state": {
            "_dom_classes": [],
            "_model_module": "@jupyter-widgets/controls",
            "_model_module_version": "1.5.0",
            "_model_name": "HTMLModel",
            "_view_count": null,
            "_view_module": "@jupyter-widgets/controls",
            "_view_module_version": "1.5.0",
            "_view_name": "HTMLView",
            "description": "",
            "description_tooltip": null,
            "layout": "IPY_MODEL_21d2503035604b84ae6a91bf0cc89a47",
            "placeholder": "​",
            "style": "IPY_MODEL_4db88d69637b4fa7b136186b025ba5df",
            "value": " 40/40 [00:05&lt;00:00,  7.90it/s]"
          }
        },
        "48bfb96ed0ad441092125f9d7764f329": {
          "model_module": "@jupyter-widgets/controls",
          "model_module_version": "1.5.0",
          "model_name": "HTMLModel",
          "state": {
            "_dom_classes": [],
            "_model_module": "@jupyter-widgets/controls",
            "_model_module_version": "1.5.0",
            "_model_name": "HTMLModel",
            "_view_count": null,
            "_view_module": "@jupyter-widgets/controls",
            "_view_module_version": "1.5.0",
            "_view_name": "HTMLView",
            "description": "",
            "description_tooltip": null,
            "layout": "IPY_MODEL_aceccdfa4628437ab03d4b77a258b17b",
            "placeholder": "​",
            "style": "IPY_MODEL_7f463fe80cc143129a0a56bbb4c9b468",
            "value": "Sanity Checking DataLoader 0: 100%"
          }
        },
        "4956e711e2384390a9a61de3c3f1337e": {
          "model_module": "@jupyter-widgets/base",
          "model_module_version": "1.2.0",
          "model_name": "LayoutModel",
          "state": {
            "_model_module": "@jupyter-widgets/base",
            "_model_module_version": "1.2.0",
            "_model_name": "LayoutModel",
            "_view_count": null,
            "_view_module": "@jupyter-widgets/base",
            "_view_module_version": "1.2.0",
            "_view_name": "LayoutView",
            "align_content": null,
            "align_items": null,
            "align_self": null,
            "border": null,
            "bottom": null,
            "display": "inline-flex",
            "flex": null,
            "flex_flow": "row wrap",
            "grid_area": null,
            "grid_auto_columns": null,
            "grid_auto_flow": null,
            "grid_auto_rows": null,
            "grid_column": null,
            "grid_gap": null,
            "grid_row": null,
            "grid_template_areas": null,
            "grid_template_columns": null,
            "grid_template_rows": null,
            "height": null,
            "justify_content": null,
            "justify_items": null,
            "left": null,
            "margin": null,
            "max_height": null,
            "max_width": null,
            "min_height": null,
            "min_width": null,
            "object_fit": null,
            "object_position": null,
            "order": null,
            "overflow": null,
            "overflow_x": null,
            "overflow_y": null,
            "padding": null,
            "right": null,
            "top": null,
            "visibility": "hidden",
            "width": "100%"
          }
        },
        "4db88d69637b4fa7b136186b025ba5df": {
          "model_module": "@jupyter-widgets/controls",
          "model_module_version": "1.5.0",
          "model_name": "DescriptionStyleModel",
          "state": {
            "_model_module": "@jupyter-widgets/controls",
            "_model_module_version": "1.5.0",
            "_model_name": "DescriptionStyleModel",
            "_view_count": null,
            "_view_module": "@jupyter-widgets/base",
            "_view_module_version": "1.2.0",
            "_view_name": "StyleView",
            "description_width": ""
          }
        },
        "4f18d7090e1b4ab09e6dc7e038f17108": {
          "model_module": "@jupyter-widgets/base",
          "model_module_version": "1.2.0",
          "model_name": "LayoutModel",
          "state": {
            "_model_module": "@jupyter-widgets/base",
            "_model_module_version": "1.2.0",
            "_model_name": "LayoutModel",
            "_view_count": null,
            "_view_module": "@jupyter-widgets/base",
            "_view_module_version": "1.2.0",
            "_view_name": "LayoutView",
            "align_content": null,
            "align_items": null,
            "align_self": null,
            "border": null,
            "bottom": null,
            "display": "inline-flex",
            "flex": null,
            "flex_flow": "row wrap",
            "grid_area": null,
            "grid_auto_columns": null,
            "grid_auto_flow": null,
            "grid_auto_rows": null,
            "grid_column": null,
            "grid_gap": null,
            "grid_row": null,
            "grid_template_areas": null,
            "grid_template_columns": null,
            "grid_template_rows": null,
            "height": null,
            "justify_content": null,
            "justify_items": null,
            "left": null,
            "margin": null,
            "max_height": null,
            "max_width": null,
            "min_height": null,
            "min_width": null,
            "object_fit": null,
            "object_position": null,
            "order": null,
            "overflow": null,
            "overflow_x": null,
            "overflow_y": null,
            "padding": null,
            "right": null,
            "top": null,
            "visibility": "hidden",
            "width": "100%"
          }
        },
        "54041dc7c53c41ba9281a12ed118597c": {
          "model_module": "@jupyter-widgets/controls",
          "model_module_version": "1.5.0",
          "model_name": "HTMLModel",
          "state": {
            "_dom_classes": [],
            "_model_module": "@jupyter-widgets/controls",
            "_model_module_version": "1.5.0",
            "_model_name": "HTMLModel",
            "_view_count": null,
            "_view_module": "@jupyter-widgets/controls",
            "_view_module_version": "1.5.0",
            "_view_name": "HTMLView",
            "description": "",
            "description_tooltip": null,
            "layout": "IPY_MODEL_639c7217d823464eaffb1bd5f8e356d9",
            "placeholder": "​",
            "style": "IPY_MODEL_32fad92974714903aa4ce5d83f7b8186",
            "value": " 40/40 [00:04&lt;00:00,  8.03it/s]"
          }
        },
        "562392e271ee4a81a0f5b978f0c78c7d": {
          "model_module": "@jupyter-widgets/controls",
          "model_module_version": "1.5.0",
          "model_name": "ProgressStyleModel",
          "state": {
            "_model_module": "@jupyter-widgets/controls",
            "_model_module_version": "1.5.0",
            "_model_name": "ProgressStyleModel",
            "_view_count": null,
            "_view_module": "@jupyter-widgets/base",
            "_view_module_version": "1.2.0",
            "_view_name": "StyleView",
            "bar_color": null,
            "description_width": ""
          }
        },
        "57761d842e3241119f20de91ac48a64a": {
          "model_module": "@jupyter-widgets/base",
          "model_module_version": "1.2.0",
          "model_name": "LayoutModel",
          "state": {
            "_model_module": "@jupyter-widgets/base",
            "_model_module_version": "1.2.0",
            "_model_name": "LayoutModel",
            "_view_count": null,
            "_view_module": "@jupyter-widgets/base",
            "_view_module_version": "1.2.0",
            "_view_name": "LayoutView",
            "align_content": null,
            "align_items": null,
            "align_self": null,
            "border": null,
            "bottom": null,
            "display": null,
            "flex": null,
            "flex_flow": null,
            "grid_area": null,
            "grid_auto_columns": null,
            "grid_auto_flow": null,
            "grid_auto_rows": null,
            "grid_column": null,
            "grid_gap": null,
            "grid_row": null,
            "grid_template_areas": null,
            "grid_template_columns": null,
            "grid_template_rows": null,
            "height": null,
            "justify_content": null,
            "justify_items": null,
            "left": null,
            "margin": null,
            "max_height": null,
            "max_width": null,
            "min_height": null,
            "min_width": null,
            "object_fit": null,
            "object_position": null,
            "order": null,
            "overflow": null,
            "overflow_x": null,
            "overflow_y": null,
            "padding": null,
            "right": null,
            "top": null,
            "visibility": null,
            "width": null
          }
        },
        "58ac90f510db45388d45afdfa57a6c82": {
          "model_module": "@jupyter-widgets/controls",
          "model_module_version": "1.5.0",
          "model_name": "DescriptionStyleModel",
          "state": {
            "_model_module": "@jupyter-widgets/controls",
            "_model_module_version": "1.5.0",
            "_model_name": "DescriptionStyleModel",
            "_view_count": null,
            "_view_module": "@jupyter-widgets/base",
            "_view_module_version": "1.2.0",
            "_view_name": "StyleView",
            "description_width": ""
          }
        },
        "5b81558c64ab48f684f44dfa4a5df765": {
          "model_module": "@jupyter-widgets/controls",
          "model_module_version": "1.5.0",
          "model_name": "ProgressStyleModel",
          "state": {
            "_model_module": "@jupyter-widgets/controls",
            "_model_module_version": "1.5.0",
            "_model_name": "ProgressStyleModel",
            "_view_count": null,
            "_view_module": "@jupyter-widgets/base",
            "_view_module_version": "1.2.0",
            "_view_name": "StyleView",
            "bar_color": null,
            "description_width": ""
          }
        },
        "5d763c66745f4517b80be933cf83b262": {
          "model_module": "@jupyter-widgets/controls",
          "model_module_version": "1.5.0",
          "model_name": "HBoxModel",
          "state": {
            "_dom_classes": [],
            "_model_module": "@jupyter-widgets/controls",
            "_model_module_version": "1.5.0",
            "_model_name": "HBoxModel",
            "_view_count": null,
            "_view_module": "@jupyter-widgets/controls",
            "_view_module_version": "1.5.0",
            "_view_name": "HBoxView",
            "box_style": "",
            "children": [
              "IPY_MODEL_8be0d798059840b0b4f6240161a32343",
              "IPY_MODEL_aa3e52ca73f44fb4bc4607addd81f3ae",
              "IPY_MODEL_9ba52db6a29d4963ab64606154a6cb95"
            ],
            "layout": "IPY_MODEL_384d127d1a994ad5a7cd5f7f059a0a70"
          }
        },
        "5e00c3398b7344058b664463547657c8": {
          "model_module": "@jupyter-widgets/controls",
          "model_module_version": "1.5.0",
          "model_name": "FloatProgressModel",
          "state": {
            "_dom_classes": [],
            "_model_module": "@jupyter-widgets/controls",
            "_model_module_version": "1.5.0",
            "_model_name": "FloatProgressModel",
            "_view_count": null,
            "_view_module": "@jupyter-widgets/controls",
            "_view_module_version": "1.5.0",
            "_view_name": "ProgressView",
            "bar_style": "",
            "description": "",
            "description_tooltip": null,
            "layout": "IPY_MODEL_3955fe670aaf4774a1470cff611646d9",
            "max": 2,
            "min": 0,
            "orientation": "horizontal",
            "style": "IPY_MODEL_5b81558c64ab48f684f44dfa4a5df765",
            "value": 2
          }
        },
        "639c7217d823464eaffb1bd5f8e356d9": {
          "model_module": "@jupyter-widgets/base",
          "model_module_version": "1.2.0",
          "model_name": "LayoutModel",
          "state": {
            "_model_module": "@jupyter-widgets/base",
            "_model_module_version": "1.2.0",
            "_model_name": "LayoutModel",
            "_view_count": null,
            "_view_module": "@jupyter-widgets/base",
            "_view_module_version": "1.2.0",
            "_view_name": "LayoutView",
            "align_content": null,
            "align_items": null,
            "align_self": null,
            "border": null,
            "bottom": null,
            "display": null,
            "flex": null,
            "flex_flow": null,
            "grid_area": null,
            "grid_auto_columns": null,
            "grid_auto_flow": null,
            "grid_auto_rows": null,
            "grid_column": null,
            "grid_gap": null,
            "grid_row": null,
            "grid_template_areas": null,
            "grid_template_columns": null,
            "grid_template_rows": null,
            "height": null,
            "justify_content": null,
            "justify_items": null,
            "left": null,
            "margin": null,
            "max_height": null,
            "max_width": null,
            "min_height": null,
            "min_width": null,
            "object_fit": null,
            "object_position": null,
            "order": null,
            "overflow": null,
            "overflow_x": null,
            "overflow_y": null,
            "padding": null,
            "right": null,
            "top": null,
            "visibility": null,
            "width": null
          }
        },
        "6990da3f9b3e446b8a75ace3895e43af": {
          "model_module": "@jupyter-widgets/controls",
          "model_module_version": "1.5.0",
          "model_name": "FloatProgressModel",
          "state": {
            "_dom_classes": [],
            "_model_module": "@jupyter-widgets/controls",
            "_model_module_version": "1.5.0",
            "_model_name": "FloatProgressModel",
            "_view_count": null,
            "_view_module": "@jupyter-widgets/controls",
            "_view_module_version": "1.5.0",
            "_view_name": "ProgressView",
            "bar_style": "",
            "description": "",
            "description_tooltip": null,
            "layout": "IPY_MODEL_ff79b97c5b044868b3d6e81b1e6eb98c",
            "max": 40,
            "min": 0,
            "orientation": "horizontal",
            "style": "IPY_MODEL_186d7d47f9344ed1a2b9a634fd181f12",
            "value": 40
          }
        },
        "74506c18610c49b69113b55747a6bb60": {
          "model_module": "@jupyter-widgets/base",
          "model_module_version": "1.2.0",
          "model_name": "LayoutModel",
          "state": {
            "_model_module": "@jupyter-widgets/base",
            "_model_module_version": "1.2.0",
            "_model_name": "LayoutModel",
            "_view_count": null,
            "_view_module": "@jupyter-widgets/base",
            "_view_module_version": "1.2.0",
            "_view_name": "LayoutView",
            "align_content": null,
            "align_items": null,
            "align_self": null,
            "border": null,
            "bottom": null,
            "display": null,
            "flex": null,
            "flex_flow": null,
            "grid_area": null,
            "grid_auto_columns": null,
            "grid_auto_flow": null,
            "grid_auto_rows": null,
            "grid_column": null,
            "grid_gap": null,
            "grid_row": null,
            "grid_template_areas": null,
            "grid_template_columns": null,
            "grid_template_rows": null,
            "height": null,
            "justify_content": null,
            "justify_items": null,
            "left": null,
            "margin": null,
            "max_height": null,
            "max_width": null,
            "min_height": null,
            "min_width": null,
            "object_fit": null,
            "object_position": null,
            "order": null,
            "overflow": null,
            "overflow_x": null,
            "overflow_y": null,
            "padding": null,
            "right": null,
            "top": null,
            "visibility": null,
            "width": null
          }
        },
        "797e962fd94d4fdb921fefe7284e501f": {
          "model_module": "@jupyter-widgets/controls",
          "model_module_version": "1.5.0",
          "model_name": "HTMLModel",
          "state": {
            "_dom_classes": [],
            "_model_module": "@jupyter-widgets/controls",
            "_model_module_version": "1.5.0",
            "_model_name": "HTMLModel",
            "_view_count": null,
            "_view_module": "@jupyter-widgets/controls",
            "_view_module_version": "1.5.0",
            "_view_name": "HTMLView",
            "description": "",
            "description_tooltip": null,
            "layout": "IPY_MODEL_57761d842e3241119f20de91ac48a64a",
            "placeholder": "​",
            "style": "IPY_MODEL_d205c8b649d44a179cdf99df6708e571",
            "value": "Validation DataLoader 0: 100%"
          }
        },
        "7986d666638543b18fa2b3ac6b91d31b": {
          "model_module": "@jupyter-widgets/controls",
          "model_module_version": "1.5.0",
          "model_name": "HTMLModel",
          "state": {
            "_dom_classes": [],
            "_model_module": "@jupyter-widgets/controls",
            "_model_module_version": "1.5.0",
            "_model_name": "HTMLModel",
            "_view_count": null,
            "_view_module": "@jupyter-widgets/controls",
            "_view_module_version": "1.5.0",
            "_view_name": "HTMLView",
            "description": "",
            "description_tooltip": null,
            "layout": "IPY_MODEL_ed414105a9cd4361b0ce5dd0ac434836",
            "placeholder": "​",
            "style": "IPY_MODEL_11e233ba031f4b4dbf03d40588f2b22f",
            "value": "Validation DataLoader 0: 100%"
          }
        },
        "7a527aa1fe38467b997f272e3d78c199": {
          "model_module": "@jupyter-widgets/controls",
          "model_module_version": "1.5.0",
          "model_name": "ProgressStyleModel",
          "state": {
            "_model_module": "@jupyter-widgets/controls",
            "_model_module_version": "1.5.0",
            "_model_name": "ProgressStyleModel",
            "_view_count": null,
            "_view_module": "@jupyter-widgets/base",
            "_view_module_version": "1.2.0",
            "_view_name": "StyleView",
            "bar_color": null,
            "description_width": ""
          }
        },
        "7db1034dd0f84c1da0aa32283ebe9fb8": {
          "model_module": "@jupyter-widgets/controls",
          "model_module_version": "1.5.0",
          "model_name": "HBoxModel",
          "state": {
            "_dom_classes": [],
            "_model_module": "@jupyter-widgets/controls",
            "_model_module_version": "1.5.0",
            "_model_name": "HBoxModel",
            "_view_count": null,
            "_view_module": "@jupyter-widgets/controls",
            "_view_module_version": "1.5.0",
            "_view_name": "HBoxView",
            "box_style": "",
            "children": [
              "IPY_MODEL_c5d3767f3ab144e5bd38665267acf920",
              "IPY_MODEL_cde6543a6f974309b00744b4ed52f056",
              "IPY_MODEL_38623be8e35c4046933b209f710fbd77"
            ],
            "layout": "IPY_MODEL_dfcc0a89b162477d9e8635b15d68da43"
          }
        },
        "7f463fe80cc143129a0a56bbb4c9b468": {
          "model_module": "@jupyter-widgets/controls",
          "model_module_version": "1.5.0",
          "model_name": "DescriptionStyleModel",
          "state": {
            "_model_module": "@jupyter-widgets/controls",
            "_model_module_version": "1.5.0",
            "_model_name": "DescriptionStyleModel",
            "_view_count": null,
            "_view_module": "@jupyter-widgets/base",
            "_view_module_version": "1.2.0",
            "_view_name": "StyleView",
            "description_width": ""
          }
        },
        "8109b758b317412fa51a31e32bc1dc4c": {
          "model_module": "@jupyter-widgets/controls",
          "model_module_version": "1.5.0",
          "model_name": "DescriptionStyleModel",
          "state": {
            "_model_module": "@jupyter-widgets/controls",
            "_model_module_version": "1.5.0",
            "_model_name": "DescriptionStyleModel",
            "_view_count": null,
            "_view_module": "@jupyter-widgets/base",
            "_view_module_version": "1.2.0",
            "_view_name": "StyleView",
            "description_width": ""
          }
        },
        "8be0d798059840b0b4f6240161a32343": {
          "model_module": "@jupyter-widgets/controls",
          "model_module_version": "1.5.0",
          "model_name": "HTMLModel",
          "state": {
            "_dom_classes": [],
            "_model_module": "@jupyter-widgets/controls",
            "_model_module_version": "1.5.0",
            "_model_name": "HTMLModel",
            "_view_count": null,
            "_view_module": "@jupyter-widgets/controls",
            "_view_module_version": "1.5.0",
            "_view_name": "HTMLView",
            "description": "",
            "description_tooltip": null,
            "layout": "IPY_MODEL_3ee4a8c8b0c445cb880ec21d75b40c87",
            "placeholder": "​",
            "style": "IPY_MODEL_a0eabea8a94247d991d6c17ff6bce79f",
            "value": "Epoch 4: 100%"
          }
        },
        "92a22fb9ced4459aa8cdbd74966308b0": {
          "model_module": "@jupyter-widgets/controls",
          "model_module_version": "1.5.0",
          "model_name": "HTMLModel",
          "state": {
            "_dom_classes": [],
            "_model_module": "@jupyter-widgets/controls",
            "_model_module_version": "1.5.0",
            "_model_name": "HTMLModel",
            "_view_count": null,
            "_view_module": "@jupyter-widgets/controls",
            "_view_module_version": "1.5.0",
            "_view_name": "HTMLView",
            "description": "",
            "description_tooltip": null,
            "layout": "IPY_MODEL_74506c18610c49b69113b55747a6bb60",
            "placeholder": "​",
            "style": "IPY_MODEL_1e51750bf14e4870a332ed9157c4d53b",
            "value": " 40/40 [00:05&lt;00:00,  7.66it/s]"
          }
        },
        "9ba52db6a29d4963ab64606154a6cb95": {
          "model_module": "@jupyter-widgets/controls",
          "model_module_version": "1.5.0",
          "model_name": "HTMLModel",
          "state": {
            "_dom_classes": [],
            "_model_module": "@jupyter-widgets/controls",
            "_model_module_version": "1.5.0",
            "_model_name": "HTMLModel",
            "_view_count": null,
            "_view_module": "@jupyter-widgets/controls",
            "_view_module_version": "1.5.0",
            "_view_name": "HTMLView",
            "description": "",
            "description_tooltip": null,
            "layout": "IPY_MODEL_2987316141934d39af51cf532b3e5322",
            "placeholder": "​",
            "style": "IPY_MODEL_b172f7766c304f648eccc89a0d3e696b",
            "value": " 640/640 [02:04&lt;00:00,  5.15it/s, loss=0.00688, v_num=1]"
          }
        },
        "a0eabea8a94247d991d6c17ff6bce79f": {
          "model_module": "@jupyter-widgets/controls",
          "model_module_version": "1.5.0",
          "model_name": "DescriptionStyleModel",
          "state": {
            "_model_module": "@jupyter-widgets/controls",
            "_model_module_version": "1.5.0",
            "_model_name": "DescriptionStyleModel",
            "_view_count": null,
            "_view_module": "@jupyter-widgets/base",
            "_view_module_version": "1.2.0",
            "_view_name": "StyleView",
            "description_width": ""
          }
        },
        "a79f0cde40c644ff8195d68362987f45": {
          "model_module": "@jupyter-widgets/base",
          "model_module_version": "1.2.0",
          "model_name": "LayoutModel",
          "state": {
            "_model_module": "@jupyter-widgets/base",
            "_model_module_version": "1.2.0",
            "_model_name": "LayoutModel",
            "_view_count": null,
            "_view_module": "@jupyter-widgets/base",
            "_view_module_version": "1.2.0",
            "_view_name": "LayoutView",
            "align_content": null,
            "align_items": null,
            "align_self": null,
            "border": null,
            "bottom": null,
            "display": null,
            "flex": null,
            "flex_flow": null,
            "grid_area": null,
            "grid_auto_columns": null,
            "grid_auto_flow": null,
            "grid_auto_rows": null,
            "grid_column": null,
            "grid_gap": null,
            "grid_row": null,
            "grid_template_areas": null,
            "grid_template_columns": null,
            "grid_template_rows": null,
            "height": null,
            "justify_content": null,
            "justify_items": null,
            "left": null,
            "margin": null,
            "max_height": null,
            "max_width": null,
            "min_height": null,
            "min_width": null,
            "object_fit": null,
            "object_position": null,
            "order": null,
            "overflow": null,
            "overflow_x": null,
            "overflow_y": null,
            "padding": null,
            "right": null,
            "top": null,
            "visibility": null,
            "width": null
          }
        },
        "aa3e52ca73f44fb4bc4607addd81f3ae": {
          "model_module": "@jupyter-widgets/controls",
          "model_module_version": "1.5.0",
          "model_name": "FloatProgressModel",
          "state": {
            "_dom_classes": [],
            "_model_module": "@jupyter-widgets/controls",
            "_model_module_version": "1.5.0",
            "_model_name": "FloatProgressModel",
            "_view_count": null,
            "_view_module": "@jupyter-widgets/controls",
            "_view_module_version": "1.5.0",
            "_view_name": "ProgressView",
            "bar_style": "success",
            "description": "",
            "description_tooltip": null,
            "layout": "IPY_MODEL_072fa60139744c3db76e428cdbd70e75",
            "max": 640,
            "min": 0,
            "orientation": "horizontal",
            "style": "IPY_MODEL_aeef713a622146efaa692d8bb58d8f74",
            "value": 640
          }
        },
        "aceccdfa4628437ab03d4b77a258b17b": {
          "model_module": "@jupyter-widgets/base",
          "model_module_version": "1.2.0",
          "model_name": "LayoutModel",
          "state": {
            "_model_module": "@jupyter-widgets/base",
            "_model_module_version": "1.2.0",
            "_model_name": "LayoutModel",
            "_view_count": null,
            "_view_module": "@jupyter-widgets/base",
            "_view_module_version": "1.2.0",
            "_view_name": "LayoutView",
            "align_content": null,
            "align_items": null,
            "align_self": null,
            "border": null,
            "bottom": null,
            "display": null,
            "flex": null,
            "flex_flow": null,
            "grid_area": null,
            "grid_auto_columns": null,
            "grid_auto_flow": null,
            "grid_auto_rows": null,
            "grid_column": null,
            "grid_gap": null,
            "grid_row": null,
            "grid_template_areas": null,
            "grid_template_columns": null,
            "grid_template_rows": null,
            "height": null,
            "justify_content": null,
            "justify_items": null,
            "left": null,
            "margin": null,
            "max_height": null,
            "max_width": null,
            "min_height": null,
            "min_width": null,
            "object_fit": null,
            "object_position": null,
            "order": null,
            "overflow": null,
            "overflow_x": null,
            "overflow_y": null,
            "padding": null,
            "right": null,
            "top": null,
            "visibility": null,
            "width": null
          }
        },
        "aeef713a622146efaa692d8bb58d8f74": {
          "model_module": "@jupyter-widgets/controls",
          "model_module_version": "1.5.0",
          "model_name": "ProgressStyleModel",
          "state": {
            "_model_module": "@jupyter-widgets/controls",
            "_model_module_version": "1.5.0",
            "_model_name": "ProgressStyleModel",
            "_view_count": null,
            "_view_module": "@jupyter-widgets/base",
            "_view_module_version": "1.2.0",
            "_view_name": "StyleView",
            "bar_color": null,
            "description_width": ""
          }
        },
        "b0225a0e540b4e6b914ecf786fcc52b5": {
          "model_module": "@jupyter-widgets/controls",
          "model_module_version": "1.5.0",
          "model_name": "DescriptionStyleModel",
          "state": {
            "_model_module": "@jupyter-widgets/controls",
            "_model_module_version": "1.5.0",
            "_model_name": "DescriptionStyleModel",
            "_view_count": null,
            "_view_module": "@jupyter-widgets/base",
            "_view_module_version": "1.2.0",
            "_view_name": "StyleView",
            "description_width": ""
          }
        },
        "b172f7766c304f648eccc89a0d3e696b": {
          "model_module": "@jupyter-widgets/controls",
          "model_module_version": "1.5.0",
          "model_name": "DescriptionStyleModel",
          "state": {
            "_model_module": "@jupyter-widgets/controls",
            "_model_module_version": "1.5.0",
            "_model_name": "DescriptionStyleModel",
            "_view_count": null,
            "_view_module": "@jupyter-widgets/base",
            "_view_module_version": "1.2.0",
            "_view_name": "StyleView",
            "description_width": ""
          }
        },
        "b3042ebbdab741419228ebe3b3e74366": {
          "model_module": "@jupyter-widgets/base",
          "model_module_version": "1.2.0",
          "model_name": "LayoutModel",
          "state": {
            "_model_module": "@jupyter-widgets/base",
            "_model_module_version": "1.2.0",
            "_model_name": "LayoutModel",
            "_view_count": null,
            "_view_module": "@jupyter-widgets/base",
            "_view_module_version": "1.2.0",
            "_view_name": "LayoutView",
            "align_content": null,
            "align_items": null,
            "align_self": null,
            "border": null,
            "bottom": null,
            "display": null,
            "flex": null,
            "flex_flow": null,
            "grid_area": null,
            "grid_auto_columns": null,
            "grid_auto_flow": null,
            "grid_auto_rows": null,
            "grid_column": null,
            "grid_gap": null,
            "grid_row": null,
            "grid_template_areas": null,
            "grid_template_columns": null,
            "grid_template_rows": null,
            "height": null,
            "justify_content": null,
            "justify_items": null,
            "left": null,
            "margin": null,
            "max_height": null,
            "max_width": null,
            "min_height": null,
            "min_width": null,
            "object_fit": null,
            "object_position": null,
            "order": null,
            "overflow": null,
            "overflow_x": null,
            "overflow_y": null,
            "padding": null,
            "right": null,
            "top": null,
            "visibility": null,
            "width": null
          }
        },
        "bc0494b326f94efaad0df93b434a991b": {
          "model_module": "@jupyter-widgets/controls",
          "model_module_version": "1.5.0",
          "model_name": "HTMLModel",
          "state": {
            "_dom_classes": [],
            "_model_module": "@jupyter-widgets/controls",
            "_model_module_version": "1.5.0",
            "_model_name": "HTMLModel",
            "_view_count": null,
            "_view_module": "@jupyter-widgets/controls",
            "_view_module_version": "1.5.0",
            "_view_name": "HTMLView",
            "description": "",
            "description_tooltip": null,
            "layout": "IPY_MODEL_37cedb543ed84c48b7111af0a64d2904",
            "placeholder": "​",
            "style": "IPY_MODEL_f1e41cd7442f41d8ae86e7a577b37c8a",
            "value": " 40/40 [00:05&lt;00:00,  7.80it/s]"
          }
        },
        "c0af3b8d9d294e8e9041506c8a88b47b": {
          "model_module": "@jupyter-widgets/controls",
          "model_module_version": "1.5.0",
          "model_name": "FloatProgressModel",
          "state": {
            "_dom_classes": [],
            "_model_module": "@jupyter-widgets/controls",
            "_model_module_version": "1.5.0",
            "_model_name": "FloatProgressModel",
            "_view_count": null,
            "_view_module": "@jupyter-widgets/controls",
            "_view_module_version": "1.5.0",
            "_view_name": "ProgressView",
            "bar_style": "",
            "description": "",
            "description_tooltip": null,
            "layout": "IPY_MODEL_dab6e1bfd45740fd987aedbffcec0cb2",
            "max": 40,
            "min": 0,
            "orientation": "horizontal",
            "style": "IPY_MODEL_7a527aa1fe38467b997f272e3d78c199",
            "value": 40
          }
        },
        "c1450eae8f6f4385a0ef087924faa7db": {
          "model_module": "@jupyter-widgets/base",
          "model_module_version": "1.2.0",
          "model_name": "LayoutModel",
          "state": {
            "_model_module": "@jupyter-widgets/base",
            "_model_module_version": "1.2.0",
            "_model_name": "LayoutModel",
            "_view_count": null,
            "_view_module": "@jupyter-widgets/base",
            "_view_module_version": "1.2.0",
            "_view_name": "LayoutView",
            "align_content": null,
            "align_items": null,
            "align_self": null,
            "border": null,
            "bottom": null,
            "display": null,
            "flex": null,
            "flex_flow": null,
            "grid_area": null,
            "grid_auto_columns": null,
            "grid_auto_flow": null,
            "grid_auto_rows": null,
            "grid_column": null,
            "grid_gap": null,
            "grid_row": null,
            "grid_template_areas": null,
            "grid_template_columns": null,
            "grid_template_rows": null,
            "height": null,
            "justify_content": null,
            "justify_items": null,
            "left": null,
            "margin": null,
            "max_height": null,
            "max_width": null,
            "min_height": null,
            "min_width": null,
            "object_fit": null,
            "object_position": null,
            "order": null,
            "overflow": null,
            "overflow_x": null,
            "overflow_y": null,
            "padding": null,
            "right": null,
            "top": null,
            "visibility": null,
            "width": null
          }
        },
        "c5d3767f3ab144e5bd38665267acf920": {
          "model_module": "@jupyter-widgets/controls",
          "model_module_version": "1.5.0",
          "model_name": "HTMLModel",
          "state": {
            "_dom_classes": [],
            "_model_module": "@jupyter-widgets/controls",
            "_model_module_version": "1.5.0",
            "_model_name": "HTMLModel",
            "_view_count": null,
            "_view_module": "@jupyter-widgets/controls",
            "_view_module_version": "1.5.0",
            "_view_name": "HTMLView",
            "description": "",
            "description_tooltip": null,
            "layout": "IPY_MODEL_a79f0cde40c644ff8195d68362987f45",
            "placeholder": "​",
            "style": "IPY_MODEL_b0225a0e540b4e6b914ecf786fcc52b5",
            "value": "Validation DataLoader 0: 100%"
          }
        },
        "c9df89c45141480681a5476bdb5d4896": {
          "model_module": "@jupyter-widgets/controls",
          "model_module_version": "1.5.0",
          "model_name": "HBoxModel",
          "state": {
            "_dom_classes": [],
            "_model_module": "@jupyter-widgets/controls",
            "_model_module_version": "1.5.0",
            "_model_name": "HBoxModel",
            "_view_count": null,
            "_view_module": "@jupyter-widgets/controls",
            "_view_module_version": "1.5.0",
            "_view_name": "HBoxView",
            "box_style": "",
            "children": [
              "IPY_MODEL_797e962fd94d4fdb921fefe7284e501f",
              "IPY_MODEL_f73da8a6433c4a63abecbbdccf145b2c",
              "IPY_MODEL_92a22fb9ced4459aa8cdbd74966308b0"
            ],
            "layout": "IPY_MODEL_4f18d7090e1b4ab09e6dc7e038f17108"
          }
        },
        "cb703cfd707d47689eaaf279ad972335": {
          "model_module": "@jupyter-widgets/base",
          "model_module_version": "1.2.0",
          "model_name": "LayoutModel",
          "state": {
            "_model_module": "@jupyter-widgets/base",
            "_model_module_version": "1.2.0",
            "_model_name": "LayoutModel",
            "_view_count": null,
            "_view_module": "@jupyter-widgets/base",
            "_view_module_version": "1.2.0",
            "_view_name": "LayoutView",
            "align_content": null,
            "align_items": null,
            "align_self": null,
            "border": null,
            "bottom": null,
            "display": null,
            "flex": "2",
            "flex_flow": null,
            "grid_area": null,
            "grid_auto_columns": null,
            "grid_auto_flow": null,
            "grid_auto_rows": null,
            "grid_column": null,
            "grid_gap": null,
            "grid_row": null,
            "grid_template_areas": null,
            "grid_template_columns": null,
            "grid_template_rows": null,
            "height": null,
            "justify_content": null,
            "justify_items": null,
            "left": null,
            "margin": null,
            "max_height": null,
            "max_width": null,
            "min_height": null,
            "min_width": null,
            "object_fit": null,
            "object_position": null,
            "order": null,
            "overflow": null,
            "overflow_x": null,
            "overflow_y": null,
            "padding": null,
            "right": null,
            "top": null,
            "visibility": null,
            "width": null
          }
        },
        "cde6543a6f974309b00744b4ed52f056": {
          "model_module": "@jupyter-widgets/controls",
          "model_module_version": "1.5.0",
          "model_name": "FloatProgressModel",
          "state": {
            "_dom_classes": [],
            "_model_module": "@jupyter-widgets/controls",
            "_model_module_version": "1.5.0",
            "_model_name": "FloatProgressModel",
            "_view_count": null,
            "_view_module": "@jupyter-widgets/controls",
            "_view_module_version": "1.5.0",
            "_view_name": "ProgressView",
            "bar_style": "",
            "description": "",
            "description_tooltip": null,
            "layout": "IPY_MODEL_3dbc40039701445b939dedbf7001921e",
            "max": 40,
            "min": 0,
            "orientation": "horizontal",
            "style": "IPY_MODEL_186df1c78c9e467ebe76fe019f5e9901",
            "value": 40
          }
        },
        "d205c8b649d44a179cdf99df6708e571": {
          "model_module": "@jupyter-widgets/controls",
          "model_module_version": "1.5.0",
          "model_name": "DescriptionStyleModel",
          "state": {
            "_model_module": "@jupyter-widgets/controls",
            "_model_module_version": "1.5.0",
            "_model_name": "DescriptionStyleModel",
            "_view_count": null,
            "_view_module": "@jupyter-widgets/base",
            "_view_module_version": "1.2.0",
            "_view_name": "StyleView",
            "description_width": ""
          }
        },
        "daae6575824b4019a8a5fb22b98d20a0": {
          "model_module": "@jupyter-widgets/controls",
          "model_module_version": "1.5.0",
          "model_name": "DescriptionStyleModel",
          "state": {
            "_model_module": "@jupyter-widgets/controls",
            "_model_module_version": "1.5.0",
            "_model_name": "DescriptionStyleModel",
            "_view_count": null,
            "_view_module": "@jupyter-widgets/base",
            "_view_module_version": "1.2.0",
            "_view_name": "StyleView",
            "description_width": ""
          }
        },
        "dab6e1bfd45740fd987aedbffcec0cb2": {
          "model_module": "@jupyter-widgets/base",
          "model_module_version": "1.2.0",
          "model_name": "LayoutModel",
          "state": {
            "_model_module": "@jupyter-widgets/base",
            "_model_module_version": "1.2.0",
            "_model_name": "LayoutModel",
            "_view_count": null,
            "_view_module": "@jupyter-widgets/base",
            "_view_module_version": "1.2.0",
            "_view_name": "LayoutView",
            "align_content": null,
            "align_items": null,
            "align_self": null,
            "border": null,
            "bottom": null,
            "display": null,
            "flex": "2",
            "flex_flow": null,
            "grid_area": null,
            "grid_auto_columns": null,
            "grid_auto_flow": null,
            "grid_auto_rows": null,
            "grid_column": null,
            "grid_gap": null,
            "grid_row": null,
            "grid_template_areas": null,
            "grid_template_columns": null,
            "grid_template_rows": null,
            "height": null,
            "justify_content": null,
            "justify_items": null,
            "left": null,
            "margin": null,
            "max_height": null,
            "max_width": null,
            "min_height": null,
            "min_width": null,
            "object_fit": null,
            "object_position": null,
            "order": null,
            "overflow": null,
            "overflow_x": null,
            "overflow_y": null,
            "padding": null,
            "right": null,
            "top": null,
            "visibility": null,
            "width": null
          }
        },
        "dfcc0a89b162477d9e8635b15d68da43": {
          "model_module": "@jupyter-widgets/base",
          "model_module_version": "1.2.0",
          "model_name": "LayoutModel",
          "state": {
            "_model_module": "@jupyter-widgets/base",
            "_model_module_version": "1.2.0",
            "_model_name": "LayoutModel",
            "_view_count": null,
            "_view_module": "@jupyter-widgets/base",
            "_view_module_version": "1.2.0",
            "_view_name": "LayoutView",
            "align_content": null,
            "align_items": null,
            "align_self": null,
            "border": null,
            "bottom": null,
            "display": "inline-flex",
            "flex": null,
            "flex_flow": "row wrap",
            "grid_area": null,
            "grid_auto_columns": null,
            "grid_auto_flow": null,
            "grid_auto_rows": null,
            "grid_column": null,
            "grid_gap": null,
            "grid_row": null,
            "grid_template_areas": null,
            "grid_template_columns": null,
            "grid_template_rows": null,
            "height": null,
            "justify_content": null,
            "justify_items": null,
            "left": null,
            "margin": null,
            "max_height": null,
            "max_width": null,
            "min_height": null,
            "min_width": null,
            "object_fit": null,
            "object_position": null,
            "order": null,
            "overflow": null,
            "overflow_x": null,
            "overflow_y": null,
            "padding": null,
            "right": null,
            "top": null,
            "visibility": "hidden",
            "width": "100%"
          }
        },
        "e0cb5f6bc3ca4a6baa811fcd30a1fdd6": {
          "model_module": "@jupyter-widgets/controls",
          "model_module_version": "1.5.0",
          "model_name": "HBoxModel",
          "state": {
            "_dom_classes": [],
            "_model_module": "@jupyter-widgets/controls",
            "_model_module_version": "1.5.0",
            "_model_name": "HBoxModel",
            "_view_count": null,
            "_view_module": "@jupyter-widgets/controls",
            "_view_module_version": "1.5.0",
            "_view_name": "HBoxView",
            "box_style": "",
            "children": [
              "IPY_MODEL_f468741c26474cdab46946dd3c15e75e",
              "IPY_MODEL_c0af3b8d9d294e8e9041506c8a88b47b",
              "IPY_MODEL_bc0494b326f94efaad0df93b434a991b"
            ],
            "layout": "IPY_MODEL_3711687317bb459fa6f8ab4d6d14be78"
          }
        },
        "e301a90f6094412ebe6ea3c690e6ac36": {
          "model_module": "@jupyter-widgets/controls",
          "model_module_version": "1.5.0",
          "model_name": "DescriptionStyleModel",
          "state": {
            "_model_module": "@jupyter-widgets/controls",
            "_model_module_version": "1.5.0",
            "_model_name": "DescriptionStyleModel",
            "_view_count": null,
            "_view_module": "@jupyter-widgets/base",
            "_view_module_version": "1.2.0",
            "_view_name": "StyleView",
            "description_width": ""
          }
        },
        "ed414105a9cd4361b0ce5dd0ac434836": {
          "model_module": "@jupyter-widgets/base",
          "model_module_version": "1.2.0",
          "model_name": "LayoutModel",
          "state": {
            "_model_module": "@jupyter-widgets/base",
            "_model_module_version": "1.2.0",
            "_model_name": "LayoutModel",
            "_view_count": null,
            "_view_module": "@jupyter-widgets/base",
            "_view_module_version": "1.2.0",
            "_view_name": "LayoutView",
            "align_content": null,
            "align_items": null,
            "align_self": null,
            "border": null,
            "bottom": null,
            "display": null,
            "flex": null,
            "flex_flow": null,
            "grid_area": null,
            "grid_auto_columns": null,
            "grid_auto_flow": null,
            "grid_auto_rows": null,
            "grid_column": null,
            "grid_gap": null,
            "grid_row": null,
            "grid_template_areas": null,
            "grid_template_columns": null,
            "grid_template_rows": null,
            "height": null,
            "justify_content": null,
            "justify_items": null,
            "left": null,
            "margin": null,
            "max_height": null,
            "max_width": null,
            "min_height": null,
            "min_width": null,
            "object_fit": null,
            "object_position": null,
            "order": null,
            "overflow": null,
            "overflow_x": null,
            "overflow_y": null,
            "padding": null,
            "right": null,
            "top": null,
            "visibility": null,
            "width": null
          }
        },
        "f1e41cd7442f41d8ae86e7a577b37c8a": {
          "model_module": "@jupyter-widgets/controls",
          "model_module_version": "1.5.0",
          "model_name": "DescriptionStyleModel",
          "state": {
            "_model_module": "@jupyter-widgets/controls",
            "_model_module_version": "1.5.0",
            "_model_name": "DescriptionStyleModel",
            "_view_count": null,
            "_view_module": "@jupyter-widgets/base",
            "_view_module_version": "1.2.0",
            "_view_name": "StyleView",
            "description_width": ""
          }
        },
        "f223c317dd144a19bfe43f6074e67614": {
          "model_module": "@jupyter-widgets/controls",
          "model_module_version": "1.5.0",
          "model_name": "HTMLModel",
          "state": {
            "_dom_classes": [],
            "_model_module": "@jupyter-widgets/controls",
            "_model_module_version": "1.5.0",
            "_model_name": "HTMLModel",
            "_view_count": null,
            "_view_module": "@jupyter-widgets/controls",
            "_view_module_version": "1.5.0",
            "_view_name": "HTMLView",
            "description": "",
            "description_tooltip": null,
            "layout": "IPY_MODEL_c1450eae8f6f4385a0ef087924faa7db",
            "placeholder": "​",
            "style": "IPY_MODEL_daae6575824b4019a8a5fb22b98d20a0",
            "value": "Validation DataLoader 0: 100%"
          }
        },
        "f468741c26474cdab46946dd3c15e75e": {
          "model_module": "@jupyter-widgets/controls",
          "model_module_version": "1.5.0",
          "model_name": "HTMLModel",
          "state": {
            "_dom_classes": [],
            "_model_module": "@jupyter-widgets/controls",
            "_model_module_version": "1.5.0",
            "_model_name": "HTMLModel",
            "_view_count": null,
            "_view_module": "@jupyter-widgets/controls",
            "_view_module_version": "1.5.0",
            "_view_name": "HTMLView",
            "description": "",
            "description_tooltip": null,
            "layout": "IPY_MODEL_2ca250c084904734a9f611790f1b005d",
            "placeholder": "​",
            "style": "IPY_MODEL_e301a90f6094412ebe6ea3c690e6ac36",
            "value": "Validation DataLoader 0: 100%"
          }
        },
        "f73da8a6433c4a63abecbbdccf145b2c": {
          "model_module": "@jupyter-widgets/controls",
          "model_module_version": "1.5.0",
          "model_name": "FloatProgressModel",
          "state": {
            "_dom_classes": [],
            "_model_module": "@jupyter-widgets/controls",
            "_model_module_version": "1.5.0",
            "_model_name": "FloatProgressModel",
            "_view_count": null,
            "_view_module": "@jupyter-widgets/controls",
            "_view_module_version": "1.5.0",
            "_view_name": "ProgressView",
            "bar_style": "",
            "description": "",
            "description_tooltip": null,
            "layout": "IPY_MODEL_07bbe41bcfcb4147bc5b8eac123c88d3",
            "max": 40,
            "min": 0,
            "orientation": "horizontal",
            "style": "IPY_MODEL_f78464de64a640fab24e3170007d742b",
            "value": 40
          }
        },
        "f78464de64a640fab24e3170007d742b": {
          "model_module": "@jupyter-widgets/controls",
          "model_module_version": "1.5.0",
          "model_name": "ProgressStyleModel",
          "state": {
            "_model_module": "@jupyter-widgets/controls",
            "_model_module_version": "1.5.0",
            "_model_name": "ProgressStyleModel",
            "_view_count": null,
            "_view_module": "@jupyter-widgets/base",
            "_view_module_version": "1.2.0",
            "_view_name": "StyleView",
            "bar_color": null,
            "description_width": ""
          }
        },
        "f9faa5896a9c49d38f47c649fa6e3bf2": {
          "model_module": "@jupyter-widgets/base",
          "model_module_version": "1.2.0",
          "model_name": "LayoutModel",
          "state": {
            "_model_module": "@jupyter-widgets/base",
            "_model_module_version": "1.2.0",
            "_model_name": "LayoutModel",
            "_view_count": null,
            "_view_module": "@jupyter-widgets/base",
            "_view_module_version": "1.2.0",
            "_view_name": "LayoutView",
            "align_content": null,
            "align_items": null,
            "align_self": null,
            "border": null,
            "bottom": null,
            "display": "inline-flex",
            "flex": null,
            "flex_flow": "row wrap",
            "grid_area": null,
            "grid_auto_columns": null,
            "grid_auto_flow": null,
            "grid_auto_rows": null,
            "grid_column": null,
            "grid_gap": null,
            "grid_row": null,
            "grid_template_areas": null,
            "grid_template_columns": null,
            "grid_template_rows": null,
            "height": null,
            "justify_content": null,
            "justify_items": null,
            "left": null,
            "margin": null,
            "max_height": null,
            "max_width": null,
            "min_height": null,
            "min_width": null,
            "object_fit": null,
            "object_position": null,
            "order": null,
            "overflow": null,
            "overflow_x": null,
            "overflow_y": null,
            "padding": null,
            "right": null,
            "top": null,
            "visibility": "hidden",
            "width": "100%"
          }
        },
        "fa2d2047d22f4bf78bc3239a280915df": {
          "model_module": "@jupyter-widgets/controls",
          "model_module_version": "1.5.0",
          "model_name": "HBoxModel",
          "state": {
            "_dom_classes": [],
            "_model_module": "@jupyter-widgets/controls",
            "_model_module_version": "1.5.0",
            "_model_name": "HBoxModel",
            "_view_count": null,
            "_view_module": "@jupyter-widgets/controls",
            "_view_module_version": "1.5.0",
            "_view_name": "HBoxView",
            "box_style": "",
            "children": [
              "IPY_MODEL_f223c317dd144a19bfe43f6074e67614",
              "IPY_MODEL_16739eabb21e4b12b4482cfd101bce85",
              "IPY_MODEL_4848e8cf8b474a508d261ec3734d268f"
            ],
            "layout": "IPY_MODEL_3c2444ea700447d3acf55f431b5e34ed"
          }
        },
        "ff79b97c5b044868b3d6e81b1e6eb98c": {
          "model_module": "@jupyter-widgets/base",
          "model_module_version": "1.2.0",
          "model_name": "LayoutModel",
          "state": {
            "_model_module": "@jupyter-widgets/base",
            "_model_module_version": "1.2.0",
            "_model_name": "LayoutModel",
            "_view_count": null,
            "_view_module": "@jupyter-widgets/base",
            "_view_module_version": "1.2.0",
            "_view_name": "LayoutView",
            "align_content": null,
            "align_items": null,
            "align_self": null,
            "border": null,
            "bottom": null,
            "display": null,
            "flex": "2",
            "flex_flow": null,
            "grid_area": null,
            "grid_auto_columns": null,
            "grid_auto_flow": null,
            "grid_auto_rows": null,
            "grid_column": null,
            "grid_gap": null,
            "grid_row": null,
            "grid_template_areas": null,
            "grid_template_columns": null,
            "grid_template_rows": null,
            "height": null,
            "justify_content": null,
            "justify_items": null,
            "left": null,
            "margin": null,
            "max_height": null,
            "max_width": null,
            "min_height": null,
            "min_width": null,
            "object_fit": null,
            "object_position": null,
            "order": null,
            "overflow": null,
            "overflow_x": null,
            "overflow_y": null,
            "padding": null,
            "right": null,
            "top": null,
            "visibility": null,
            "width": null
          }
        },
        "ff064dae70ea431aa7f9c97f04f96e6c": {
          "model_module": "@jupyter-widgets/controls",
          "model_name": "HBoxModel",
          "model_module_version": "1.5.0",
          "state": {
            "_dom_classes": [],
            "_model_module": "@jupyter-widgets/controls",
            "_model_module_version": "1.5.0",
            "_model_name": "HBoxModel",
            "_view_count": null,
            "_view_module": "@jupyter-widgets/controls",
            "_view_module_version": "1.5.0",
            "_view_name": "HBoxView",
            "box_style": "",
            "children": [
              "IPY_MODEL_cd73ed8fa100429c9b7013a5dda72042",
              "IPY_MODEL_2c279395f0fb4f67908e5e69b03449a1",
              "IPY_MODEL_bc11f8e9a9b24a4ab094dcdb8e744f24"
            ],
            "layout": "IPY_MODEL_c9bb10bb35404ba58bd830e05b3d1f78"
          }
        },
        "cd73ed8fa100429c9b7013a5dda72042": {
          "model_module": "@jupyter-widgets/controls",
          "model_name": "HTMLModel",
          "model_module_version": "1.5.0",
          "state": {
            "_dom_classes": [],
            "_model_module": "@jupyter-widgets/controls",
            "_model_module_version": "1.5.0",
            "_model_name": "HTMLModel",
            "_view_count": null,
            "_view_module": "@jupyter-widgets/controls",
            "_view_module_version": "1.5.0",
            "_view_name": "HTMLView",
            "description": "",
            "description_tooltip": null,
            "layout": "IPY_MODEL_9f3d220ab0f54b5f9c0ba0f774f082de",
            "placeholder": "​",
            "style": "IPY_MODEL_91ec7d4301a84d82a0cca4448c24711a",
            "value": "Downloading: 100%"
          }
        },
        "2c279395f0fb4f67908e5e69b03449a1": {
          "model_module": "@jupyter-widgets/controls",
          "model_name": "FloatProgressModel",
          "model_module_version": "1.5.0",
          "state": {
            "_dom_classes": [],
            "_model_module": "@jupyter-widgets/controls",
            "_model_module_version": "1.5.0",
            "_model_name": "FloatProgressModel",
            "_view_count": null,
            "_view_module": "@jupyter-widgets/controls",
            "_view_module_version": "1.5.0",
            "_view_name": "ProgressView",
            "bar_style": "success",
            "description": "",
            "description_tooltip": null,
            "layout": "IPY_MODEL_6c84889b1c524bfbac152bec0a6e1308",
            "max": 1144,
            "min": 0,
            "orientation": "horizontal",
            "style": "IPY_MODEL_7d05fc106ee440a596167beca4ab450b",
            "value": 1144
          }
        },
        "bc11f8e9a9b24a4ab094dcdb8e744f24": {
          "model_module": "@jupyter-widgets/controls",
          "model_name": "HTMLModel",
          "model_module_version": "1.5.0",
          "state": {
            "_dom_classes": [],
            "_model_module": "@jupyter-widgets/controls",
            "_model_module_version": "1.5.0",
            "_model_name": "HTMLModel",
            "_view_count": null,
            "_view_module": "@jupyter-widgets/controls",
            "_view_module_version": "1.5.0",
            "_view_name": "HTMLView",
            "description": "",
            "description_tooltip": null,
            "layout": "IPY_MODEL_a48bfc6ebad74012a971fa344f53bc15",
            "placeholder": "​",
            "style": "IPY_MODEL_3b997dbbcd7245fdbfc45005821a496e",
            "value": " 1.14k/1.14k [00:00&lt;00:00, 96.8kB/s]"
          }
        },
        "c9bb10bb35404ba58bd830e05b3d1f78": {
          "model_module": "@jupyter-widgets/base",
          "model_name": "LayoutModel",
          "model_module_version": "1.2.0",
          "state": {
            "_model_module": "@jupyter-widgets/base",
            "_model_module_version": "1.2.0",
            "_model_name": "LayoutModel",
            "_view_count": null,
            "_view_module": "@jupyter-widgets/base",
            "_view_module_version": "1.2.0",
            "_view_name": "LayoutView",
            "align_content": null,
            "align_items": null,
            "align_self": null,
            "border": null,
            "bottom": null,
            "display": null,
            "flex": null,
            "flex_flow": null,
            "grid_area": null,
            "grid_auto_columns": null,
            "grid_auto_flow": null,
            "grid_auto_rows": null,
            "grid_column": null,
            "grid_gap": null,
            "grid_row": null,
            "grid_template_areas": null,
            "grid_template_columns": null,
            "grid_template_rows": null,
            "height": null,
            "justify_content": null,
            "justify_items": null,
            "left": null,
            "margin": null,
            "max_height": null,
            "max_width": null,
            "min_height": null,
            "min_width": null,
            "object_fit": null,
            "object_position": null,
            "order": null,
            "overflow": null,
            "overflow_x": null,
            "overflow_y": null,
            "padding": null,
            "right": null,
            "top": null,
            "visibility": null,
            "width": null
          }
        },
        "9f3d220ab0f54b5f9c0ba0f774f082de": {
          "model_module": "@jupyter-widgets/base",
          "model_name": "LayoutModel",
          "model_module_version": "1.2.0",
          "state": {
            "_model_module": "@jupyter-widgets/base",
            "_model_module_version": "1.2.0",
            "_model_name": "LayoutModel",
            "_view_count": null,
            "_view_module": "@jupyter-widgets/base",
            "_view_module_version": "1.2.0",
            "_view_name": "LayoutView",
            "align_content": null,
            "align_items": null,
            "align_self": null,
            "border": null,
            "bottom": null,
            "display": null,
            "flex": null,
            "flex_flow": null,
            "grid_area": null,
            "grid_auto_columns": null,
            "grid_auto_flow": null,
            "grid_auto_rows": null,
            "grid_column": null,
            "grid_gap": null,
            "grid_row": null,
            "grid_template_areas": null,
            "grid_template_columns": null,
            "grid_template_rows": null,
            "height": null,
            "justify_content": null,
            "justify_items": null,
            "left": null,
            "margin": null,
            "max_height": null,
            "max_width": null,
            "min_height": null,
            "min_width": null,
            "object_fit": null,
            "object_position": null,
            "order": null,
            "overflow": null,
            "overflow_x": null,
            "overflow_y": null,
            "padding": null,
            "right": null,
            "top": null,
            "visibility": null,
            "width": null
          }
        },
        "91ec7d4301a84d82a0cca4448c24711a": {
          "model_module": "@jupyter-widgets/controls",
          "model_name": "DescriptionStyleModel",
          "model_module_version": "1.5.0",
          "state": {
            "_model_module": "@jupyter-widgets/controls",
            "_model_module_version": "1.5.0",
            "_model_name": "DescriptionStyleModel",
            "_view_count": null,
            "_view_module": "@jupyter-widgets/base",
            "_view_module_version": "1.2.0",
            "_view_name": "StyleView",
            "description_width": ""
          }
        },
        "6c84889b1c524bfbac152bec0a6e1308": {
          "model_module": "@jupyter-widgets/base",
          "model_name": "LayoutModel",
          "model_module_version": "1.2.0",
          "state": {
            "_model_module": "@jupyter-widgets/base",
            "_model_module_version": "1.2.0",
            "_model_name": "LayoutModel",
            "_view_count": null,
            "_view_module": "@jupyter-widgets/base",
            "_view_module_version": "1.2.0",
            "_view_name": "LayoutView",
            "align_content": null,
            "align_items": null,
            "align_self": null,
            "border": null,
            "bottom": null,
            "display": null,
            "flex": null,
            "flex_flow": null,
            "grid_area": null,
            "grid_auto_columns": null,
            "grid_auto_flow": null,
            "grid_auto_rows": null,
            "grid_column": null,
            "grid_gap": null,
            "grid_row": null,
            "grid_template_areas": null,
            "grid_template_columns": null,
            "grid_template_rows": null,
            "height": null,
            "justify_content": null,
            "justify_items": null,
            "left": null,
            "margin": null,
            "max_height": null,
            "max_width": null,
            "min_height": null,
            "min_width": null,
            "object_fit": null,
            "object_position": null,
            "order": null,
            "overflow": null,
            "overflow_x": null,
            "overflow_y": null,
            "padding": null,
            "right": null,
            "top": null,
            "visibility": null,
            "width": null
          }
        },
        "7d05fc106ee440a596167beca4ab450b": {
          "model_module": "@jupyter-widgets/controls",
          "model_name": "ProgressStyleModel",
          "model_module_version": "1.5.0",
          "state": {
            "_model_module": "@jupyter-widgets/controls",
            "_model_module_version": "1.5.0",
            "_model_name": "ProgressStyleModel",
            "_view_count": null,
            "_view_module": "@jupyter-widgets/base",
            "_view_module_version": "1.2.0",
            "_view_name": "StyleView",
            "bar_color": null,
            "description_width": ""
          }
        },
        "a48bfc6ebad74012a971fa344f53bc15": {
          "model_module": "@jupyter-widgets/base",
          "model_name": "LayoutModel",
          "model_module_version": "1.2.0",
          "state": {
            "_model_module": "@jupyter-widgets/base",
            "_model_module_version": "1.2.0",
            "_model_name": "LayoutModel",
            "_view_count": null,
            "_view_module": "@jupyter-widgets/base",
            "_view_module_version": "1.2.0",
            "_view_name": "LayoutView",
            "align_content": null,
            "align_items": null,
            "align_self": null,
            "border": null,
            "bottom": null,
            "display": null,
            "flex": null,
            "flex_flow": null,
            "grid_area": null,
            "grid_auto_columns": null,
            "grid_auto_flow": null,
            "grid_auto_rows": null,
            "grid_column": null,
            "grid_gap": null,
            "grid_row": null,
            "grid_template_areas": null,
            "grid_template_columns": null,
            "grid_template_rows": null,
            "height": null,
            "justify_content": null,
            "justify_items": null,
            "left": null,
            "margin": null,
            "max_height": null,
            "max_width": null,
            "min_height": null,
            "min_width": null,
            "object_fit": null,
            "object_position": null,
            "order": null,
            "overflow": null,
            "overflow_x": null,
            "overflow_y": null,
            "padding": null,
            "right": null,
            "top": null,
            "visibility": null,
            "width": null
          }
        },
        "3b997dbbcd7245fdbfc45005821a496e": {
          "model_module": "@jupyter-widgets/controls",
          "model_name": "DescriptionStyleModel",
          "model_module_version": "1.5.0",
          "state": {
            "_model_module": "@jupyter-widgets/controls",
            "_model_module_version": "1.5.0",
            "_model_name": "DescriptionStyleModel",
            "_view_count": null,
            "_view_module": "@jupyter-widgets/base",
            "_view_module_version": "1.2.0",
            "_view_name": "StyleView",
            "description_width": ""
          }
        },
        "c03661a37c2548269e30dce8793f1b02": {
          "model_module": "@jupyter-widgets/controls",
          "model_name": "HBoxModel",
          "model_module_version": "1.5.0",
          "state": {
            "_dom_classes": [],
            "_model_module": "@jupyter-widgets/controls",
            "_model_module_version": "1.5.0",
            "_model_name": "HBoxModel",
            "_view_count": null,
            "_view_module": "@jupyter-widgets/controls",
            "_view_module_version": "1.5.0",
            "_view_name": "HBoxView",
            "box_style": "",
            "children": [
              "IPY_MODEL_5f60972b14394633b537525d919d0e83",
              "IPY_MODEL_016d5e01112543a497641e7ef7218d10",
              "IPY_MODEL_1062254dfb3044ee86d5a9052df025a5"
            ],
            "layout": "IPY_MODEL_f112b3abf3fe4e499709f48295290c5e"
          }
        },
        "5f60972b14394633b537525d919d0e83": {
          "model_module": "@jupyter-widgets/controls",
          "model_name": "HTMLModel",
          "model_module_version": "1.5.0",
          "state": {
            "_dom_classes": [],
            "_model_module": "@jupyter-widgets/controls",
            "_model_module_version": "1.5.0",
            "_model_name": "HTMLModel",
            "_view_count": null,
            "_view_module": "@jupyter-widgets/controls",
            "_view_module_version": "1.5.0",
            "_view_name": "HTMLView",
            "description": "",
            "description_tooltip": null,
            "layout": "IPY_MODEL_2c97ec320b3c460fb51cb1fb10a91757",
            "placeholder": "​",
            "style": "IPY_MODEL_fedb707ee5aa4a879ad47c08d1a434f9",
            "value": "Downloading: 100%"
          }
        },
        "016d5e01112543a497641e7ef7218d10": {
          "model_module": "@jupyter-widgets/controls",
          "model_name": "FloatProgressModel",
          "model_module_version": "1.5.0",
          "state": {
            "_dom_classes": [],
            "_model_module": "@jupyter-widgets/controls",
            "_model_module_version": "1.5.0",
            "_model_name": "FloatProgressModel",
            "_view_count": null,
            "_view_module": "@jupyter-widgets/controls",
            "_view_module_version": "1.5.0",
            "_view_name": "ProgressView",
            "bar_style": "success",
            "description": "",
            "description_tooltip": null,
            "layout": "IPY_MODEL_fe20e13be6d84b329563015540afac88",
            "max": 898822,
            "min": 0,
            "orientation": "horizontal",
            "style": "IPY_MODEL_f0506f488faa4601bd05bc87f68e69e5",
            "value": 898822
          }
        },
        "1062254dfb3044ee86d5a9052df025a5": {
          "model_module": "@jupyter-widgets/controls",
          "model_name": "HTMLModel",
          "model_module_version": "1.5.0",
          "state": {
            "_dom_classes": [],
            "_model_module": "@jupyter-widgets/controls",
            "_model_module_version": "1.5.0",
            "_model_name": "HTMLModel",
            "_view_count": null,
            "_view_module": "@jupyter-widgets/controls",
            "_view_module_version": "1.5.0",
            "_view_name": "HTMLView",
            "description": "",
            "description_tooltip": null,
            "layout": "IPY_MODEL_df8e1a17f2204e7780bff845d5d4905a",
            "placeholder": "​",
            "style": "IPY_MODEL_4d94fa1abc874e26a189ca7987bf1cf9",
            "value": " 899k/899k [00:00&lt;00:00, 1.82MB/s]"
          }
        },
        "f112b3abf3fe4e499709f48295290c5e": {
          "model_module": "@jupyter-widgets/base",
          "model_name": "LayoutModel",
          "model_module_version": "1.2.0",
          "state": {
            "_model_module": "@jupyter-widgets/base",
            "_model_module_version": "1.2.0",
            "_model_name": "LayoutModel",
            "_view_count": null,
            "_view_module": "@jupyter-widgets/base",
            "_view_module_version": "1.2.0",
            "_view_name": "LayoutView",
            "align_content": null,
            "align_items": null,
            "align_self": null,
            "border": null,
            "bottom": null,
            "display": null,
            "flex": null,
            "flex_flow": null,
            "grid_area": null,
            "grid_auto_columns": null,
            "grid_auto_flow": null,
            "grid_auto_rows": null,
            "grid_column": null,
            "grid_gap": null,
            "grid_row": null,
            "grid_template_areas": null,
            "grid_template_columns": null,
            "grid_template_rows": null,
            "height": null,
            "justify_content": null,
            "justify_items": null,
            "left": null,
            "margin": null,
            "max_height": null,
            "max_width": null,
            "min_height": null,
            "min_width": null,
            "object_fit": null,
            "object_position": null,
            "order": null,
            "overflow": null,
            "overflow_x": null,
            "overflow_y": null,
            "padding": null,
            "right": null,
            "top": null,
            "visibility": null,
            "width": null
          }
        },
        "2c97ec320b3c460fb51cb1fb10a91757": {
          "model_module": "@jupyter-widgets/base",
          "model_name": "LayoutModel",
          "model_module_version": "1.2.0",
          "state": {
            "_model_module": "@jupyter-widgets/base",
            "_model_module_version": "1.2.0",
            "_model_name": "LayoutModel",
            "_view_count": null,
            "_view_module": "@jupyter-widgets/base",
            "_view_module_version": "1.2.0",
            "_view_name": "LayoutView",
            "align_content": null,
            "align_items": null,
            "align_self": null,
            "border": null,
            "bottom": null,
            "display": null,
            "flex": null,
            "flex_flow": null,
            "grid_area": null,
            "grid_auto_columns": null,
            "grid_auto_flow": null,
            "grid_auto_rows": null,
            "grid_column": null,
            "grid_gap": null,
            "grid_row": null,
            "grid_template_areas": null,
            "grid_template_columns": null,
            "grid_template_rows": null,
            "height": null,
            "justify_content": null,
            "justify_items": null,
            "left": null,
            "margin": null,
            "max_height": null,
            "max_width": null,
            "min_height": null,
            "min_width": null,
            "object_fit": null,
            "object_position": null,
            "order": null,
            "overflow": null,
            "overflow_x": null,
            "overflow_y": null,
            "padding": null,
            "right": null,
            "top": null,
            "visibility": null,
            "width": null
          }
        },
        "fedb707ee5aa4a879ad47c08d1a434f9": {
          "model_module": "@jupyter-widgets/controls",
          "model_name": "DescriptionStyleModel",
          "model_module_version": "1.5.0",
          "state": {
            "_model_module": "@jupyter-widgets/controls",
            "_model_module_version": "1.5.0",
            "_model_name": "DescriptionStyleModel",
            "_view_count": null,
            "_view_module": "@jupyter-widgets/base",
            "_view_module_version": "1.2.0",
            "_view_name": "StyleView",
            "description_width": ""
          }
        },
        "fe20e13be6d84b329563015540afac88": {
          "model_module": "@jupyter-widgets/base",
          "model_name": "LayoutModel",
          "model_module_version": "1.2.0",
          "state": {
            "_model_module": "@jupyter-widgets/base",
            "_model_module_version": "1.2.0",
            "_model_name": "LayoutModel",
            "_view_count": null,
            "_view_module": "@jupyter-widgets/base",
            "_view_module_version": "1.2.0",
            "_view_name": "LayoutView",
            "align_content": null,
            "align_items": null,
            "align_self": null,
            "border": null,
            "bottom": null,
            "display": null,
            "flex": null,
            "flex_flow": null,
            "grid_area": null,
            "grid_auto_columns": null,
            "grid_auto_flow": null,
            "grid_auto_rows": null,
            "grid_column": null,
            "grid_gap": null,
            "grid_row": null,
            "grid_template_areas": null,
            "grid_template_columns": null,
            "grid_template_rows": null,
            "height": null,
            "justify_content": null,
            "justify_items": null,
            "left": null,
            "margin": null,
            "max_height": null,
            "max_width": null,
            "min_height": null,
            "min_width": null,
            "object_fit": null,
            "object_position": null,
            "order": null,
            "overflow": null,
            "overflow_x": null,
            "overflow_y": null,
            "padding": null,
            "right": null,
            "top": null,
            "visibility": null,
            "width": null
          }
        },
        "f0506f488faa4601bd05bc87f68e69e5": {
          "model_module": "@jupyter-widgets/controls",
          "model_name": "ProgressStyleModel",
          "model_module_version": "1.5.0",
          "state": {
            "_model_module": "@jupyter-widgets/controls",
            "_model_module_version": "1.5.0",
            "_model_name": "ProgressStyleModel",
            "_view_count": null,
            "_view_module": "@jupyter-widgets/base",
            "_view_module_version": "1.2.0",
            "_view_name": "StyleView",
            "bar_color": null,
            "description_width": ""
          }
        },
        "df8e1a17f2204e7780bff845d5d4905a": {
          "model_module": "@jupyter-widgets/base",
          "model_name": "LayoutModel",
          "model_module_version": "1.2.0",
          "state": {
            "_model_module": "@jupyter-widgets/base",
            "_model_module_version": "1.2.0",
            "_model_name": "LayoutModel",
            "_view_count": null,
            "_view_module": "@jupyter-widgets/base",
            "_view_module_version": "1.2.0",
            "_view_name": "LayoutView",
            "align_content": null,
            "align_items": null,
            "align_self": null,
            "border": null,
            "bottom": null,
            "display": null,
            "flex": null,
            "flex_flow": null,
            "grid_area": null,
            "grid_auto_columns": null,
            "grid_auto_flow": null,
            "grid_auto_rows": null,
            "grid_column": null,
            "grid_gap": null,
            "grid_row": null,
            "grid_template_areas": null,
            "grid_template_columns": null,
            "grid_template_rows": null,
            "height": null,
            "justify_content": null,
            "justify_items": null,
            "left": null,
            "margin": null,
            "max_height": null,
            "max_width": null,
            "min_height": null,
            "min_width": null,
            "object_fit": null,
            "object_position": null,
            "order": null,
            "overflow": null,
            "overflow_x": null,
            "overflow_y": null,
            "padding": null,
            "right": null,
            "top": null,
            "visibility": null,
            "width": null
          }
        },
        "4d94fa1abc874e26a189ca7987bf1cf9": {
          "model_module": "@jupyter-widgets/controls",
          "model_name": "DescriptionStyleModel",
          "model_module_version": "1.5.0",
          "state": {
            "_model_module": "@jupyter-widgets/controls",
            "_model_module_version": "1.5.0",
            "_model_name": "DescriptionStyleModel",
            "_view_count": null,
            "_view_module": "@jupyter-widgets/base",
            "_view_module_version": "1.2.0",
            "_view_name": "StyleView",
            "description_width": ""
          }
        },
        "292eca7441bb490b813b8997445c7f9c": {
          "model_module": "@jupyter-widgets/controls",
          "model_name": "HBoxModel",
          "model_module_version": "1.5.0",
          "state": {
            "_dom_classes": [],
            "_model_module": "@jupyter-widgets/controls",
            "_model_module_version": "1.5.0",
            "_model_name": "HBoxModel",
            "_view_count": null,
            "_view_module": "@jupyter-widgets/controls",
            "_view_module_version": "1.5.0",
            "_view_name": "HBoxView",
            "box_style": "",
            "children": [
              "IPY_MODEL_470892ae07d34c7f94f614f4de947d2c",
              "IPY_MODEL_52ee836f932e47f5861e5d2a7228b7a5",
              "IPY_MODEL_085dc494df604723ab8c700f33d97763"
            ],
            "layout": "IPY_MODEL_d3dac0b74e944158a861dd9a2716c9b0"
          }
        },
        "470892ae07d34c7f94f614f4de947d2c": {
          "model_module": "@jupyter-widgets/controls",
          "model_name": "HTMLModel",
          "model_module_version": "1.5.0",
          "state": {
            "_dom_classes": [],
            "_model_module": "@jupyter-widgets/controls",
            "_model_module_version": "1.5.0",
            "_model_name": "HTMLModel",
            "_view_count": null,
            "_view_module": "@jupyter-widgets/controls",
            "_view_module_version": "1.5.0",
            "_view_name": "HTMLView",
            "description": "",
            "description_tooltip": null,
            "layout": "IPY_MODEL_2e25e2f2b8f545d4b851c4474ade2e08",
            "placeholder": "​",
            "style": "IPY_MODEL_90cd40c6ebf445669a42896d5f9d0d19",
            "value": "Downloading: 100%"
          }
        },
        "52ee836f932e47f5861e5d2a7228b7a5": {
          "model_module": "@jupyter-widgets/controls",
          "model_name": "FloatProgressModel",
          "model_module_version": "1.5.0",
          "state": {
            "_dom_classes": [],
            "_model_module": "@jupyter-widgets/controls",
            "_model_module_version": "1.5.0",
            "_model_name": "FloatProgressModel",
            "_view_count": null,
            "_view_module": "@jupyter-widgets/controls",
            "_view_module_version": "1.5.0",
            "_view_name": "ProgressView",
            "bar_style": "success",
            "description": "",
            "description_tooltip": null,
            "layout": "IPY_MODEL_c5fe0b437b5240dd91a2184407d81290",
            "max": 456318,
            "min": 0,
            "orientation": "horizontal",
            "style": "IPY_MODEL_43c5b95e070045bab9ad29f069a89431",
            "value": 456318
          }
        },
        "085dc494df604723ab8c700f33d97763": {
          "model_module": "@jupyter-widgets/controls",
          "model_name": "HTMLModel",
          "model_module_version": "1.5.0",
          "state": {
            "_dom_classes": [],
            "_model_module": "@jupyter-widgets/controls",
            "_model_module_version": "1.5.0",
            "_model_name": "HTMLModel",
            "_view_count": null,
            "_view_module": "@jupyter-widgets/controls",
            "_view_module_version": "1.5.0",
            "_view_name": "HTMLView",
            "description": "",
            "description_tooltip": null,
            "layout": "IPY_MODEL_4facd8ca1e7c4400aaf4b9074a0cf2ad",
            "placeholder": "​",
            "style": "IPY_MODEL_35bd2dad16b746639ecf14dec48dd93f",
            "value": " 456k/456k [00:00&lt;00:00, 13.4MB/s]"
          }
        },
        "d3dac0b74e944158a861dd9a2716c9b0": {
          "model_module": "@jupyter-widgets/base",
          "model_name": "LayoutModel",
          "model_module_version": "1.2.0",
          "state": {
            "_model_module": "@jupyter-widgets/base",
            "_model_module_version": "1.2.0",
            "_model_name": "LayoutModel",
            "_view_count": null,
            "_view_module": "@jupyter-widgets/base",
            "_view_module_version": "1.2.0",
            "_view_name": "LayoutView",
            "align_content": null,
            "align_items": null,
            "align_self": null,
            "border": null,
            "bottom": null,
            "display": null,
            "flex": null,
            "flex_flow": null,
            "grid_area": null,
            "grid_auto_columns": null,
            "grid_auto_flow": null,
            "grid_auto_rows": null,
            "grid_column": null,
            "grid_gap": null,
            "grid_row": null,
            "grid_template_areas": null,
            "grid_template_columns": null,
            "grid_template_rows": null,
            "height": null,
            "justify_content": null,
            "justify_items": null,
            "left": null,
            "margin": null,
            "max_height": null,
            "max_width": null,
            "min_height": null,
            "min_width": null,
            "object_fit": null,
            "object_position": null,
            "order": null,
            "overflow": null,
            "overflow_x": null,
            "overflow_y": null,
            "padding": null,
            "right": null,
            "top": null,
            "visibility": null,
            "width": null
          }
        },
        "2e25e2f2b8f545d4b851c4474ade2e08": {
          "model_module": "@jupyter-widgets/base",
          "model_name": "LayoutModel",
          "model_module_version": "1.2.0",
          "state": {
            "_model_module": "@jupyter-widgets/base",
            "_model_module_version": "1.2.0",
            "_model_name": "LayoutModel",
            "_view_count": null,
            "_view_module": "@jupyter-widgets/base",
            "_view_module_version": "1.2.0",
            "_view_name": "LayoutView",
            "align_content": null,
            "align_items": null,
            "align_self": null,
            "border": null,
            "bottom": null,
            "display": null,
            "flex": null,
            "flex_flow": null,
            "grid_area": null,
            "grid_auto_columns": null,
            "grid_auto_flow": null,
            "grid_auto_rows": null,
            "grid_column": null,
            "grid_gap": null,
            "grid_row": null,
            "grid_template_areas": null,
            "grid_template_columns": null,
            "grid_template_rows": null,
            "height": null,
            "justify_content": null,
            "justify_items": null,
            "left": null,
            "margin": null,
            "max_height": null,
            "max_width": null,
            "min_height": null,
            "min_width": null,
            "object_fit": null,
            "object_position": null,
            "order": null,
            "overflow": null,
            "overflow_x": null,
            "overflow_y": null,
            "padding": null,
            "right": null,
            "top": null,
            "visibility": null,
            "width": null
          }
        },
        "90cd40c6ebf445669a42896d5f9d0d19": {
          "model_module": "@jupyter-widgets/controls",
          "model_name": "DescriptionStyleModel",
          "model_module_version": "1.5.0",
          "state": {
            "_model_module": "@jupyter-widgets/controls",
            "_model_module_version": "1.5.0",
            "_model_name": "DescriptionStyleModel",
            "_view_count": null,
            "_view_module": "@jupyter-widgets/base",
            "_view_module_version": "1.2.0",
            "_view_name": "StyleView",
            "description_width": ""
          }
        },
        "c5fe0b437b5240dd91a2184407d81290": {
          "model_module": "@jupyter-widgets/base",
          "model_name": "LayoutModel",
          "model_module_version": "1.2.0",
          "state": {
            "_model_module": "@jupyter-widgets/base",
            "_model_module_version": "1.2.0",
            "_model_name": "LayoutModel",
            "_view_count": null,
            "_view_module": "@jupyter-widgets/base",
            "_view_module_version": "1.2.0",
            "_view_name": "LayoutView",
            "align_content": null,
            "align_items": null,
            "align_self": null,
            "border": null,
            "bottom": null,
            "display": null,
            "flex": null,
            "flex_flow": null,
            "grid_area": null,
            "grid_auto_columns": null,
            "grid_auto_flow": null,
            "grid_auto_rows": null,
            "grid_column": null,
            "grid_gap": null,
            "grid_row": null,
            "grid_template_areas": null,
            "grid_template_columns": null,
            "grid_template_rows": null,
            "height": null,
            "justify_content": null,
            "justify_items": null,
            "left": null,
            "margin": null,
            "max_height": null,
            "max_width": null,
            "min_height": null,
            "min_width": null,
            "object_fit": null,
            "object_position": null,
            "order": null,
            "overflow": null,
            "overflow_x": null,
            "overflow_y": null,
            "padding": null,
            "right": null,
            "top": null,
            "visibility": null,
            "width": null
          }
        },
        "43c5b95e070045bab9ad29f069a89431": {
          "model_module": "@jupyter-widgets/controls",
          "model_name": "ProgressStyleModel",
          "model_module_version": "1.5.0",
          "state": {
            "_model_module": "@jupyter-widgets/controls",
            "_model_module_version": "1.5.0",
            "_model_name": "ProgressStyleModel",
            "_view_count": null,
            "_view_module": "@jupyter-widgets/base",
            "_view_module_version": "1.2.0",
            "_view_name": "StyleView",
            "bar_color": null,
            "description_width": ""
          }
        },
        "4facd8ca1e7c4400aaf4b9074a0cf2ad": {
          "model_module": "@jupyter-widgets/base",
          "model_name": "LayoutModel",
          "model_module_version": "1.2.0",
          "state": {
            "_model_module": "@jupyter-widgets/base",
            "_model_module_version": "1.2.0",
            "_model_name": "LayoutModel",
            "_view_count": null,
            "_view_module": "@jupyter-widgets/base",
            "_view_module_version": "1.2.0",
            "_view_name": "LayoutView",
            "align_content": null,
            "align_items": null,
            "align_self": null,
            "border": null,
            "bottom": null,
            "display": null,
            "flex": null,
            "flex_flow": null,
            "grid_area": null,
            "grid_auto_columns": null,
            "grid_auto_flow": null,
            "grid_auto_rows": null,
            "grid_column": null,
            "grid_gap": null,
            "grid_row": null,
            "grid_template_areas": null,
            "grid_template_columns": null,
            "grid_template_rows": null,
            "height": null,
            "justify_content": null,
            "justify_items": null,
            "left": null,
            "margin": null,
            "max_height": null,
            "max_width": null,
            "min_height": null,
            "min_width": null,
            "object_fit": null,
            "object_position": null,
            "order": null,
            "overflow": null,
            "overflow_x": null,
            "overflow_y": null,
            "padding": null,
            "right": null,
            "top": null,
            "visibility": null,
            "width": null
          }
        },
        "35bd2dad16b746639ecf14dec48dd93f": {
          "model_module": "@jupyter-widgets/controls",
          "model_name": "DescriptionStyleModel",
          "model_module_version": "1.5.0",
          "state": {
            "_model_module": "@jupyter-widgets/controls",
            "_model_module_version": "1.5.0",
            "_model_name": "DescriptionStyleModel",
            "_view_count": null,
            "_view_module": "@jupyter-widgets/base",
            "_view_module_version": "1.2.0",
            "_view_name": "StyleView",
            "description_width": ""
          }
        },
        "8fe6bfa28a474e59ac205231adb54813": {
          "model_module": "@jupyter-widgets/controls",
          "model_name": "HBoxModel",
          "model_module_version": "1.5.0",
          "state": {
            "_dom_classes": [],
            "_model_module": "@jupyter-widgets/controls",
            "_model_module_version": "1.5.0",
            "_model_name": "HBoxModel",
            "_view_count": null,
            "_view_module": "@jupyter-widgets/controls",
            "_view_module_version": "1.5.0",
            "_view_name": "HBoxView",
            "box_style": "",
            "children": [
              "IPY_MODEL_f7d38bf878774d1c8d2a03ccb373c101",
              "IPY_MODEL_7fd757bc70e3443983e4cda3fb175510",
              "IPY_MODEL_5caabd6c4c684b2d9e578f4bfa7a4008"
            ],
            "layout": "IPY_MODEL_175d7d69af134ba2a06cc986e96ddefe"
          }
        },
        "f7d38bf878774d1c8d2a03ccb373c101": {
          "model_module": "@jupyter-widgets/controls",
          "model_name": "HTMLModel",
          "model_module_version": "1.5.0",
          "state": {
            "_dom_classes": [],
            "_model_module": "@jupyter-widgets/controls",
            "_model_module_version": "1.5.0",
            "_model_name": "HTMLModel",
            "_view_count": null,
            "_view_module": "@jupyter-widgets/controls",
            "_view_module_version": "1.5.0",
            "_view_name": "HTMLView",
            "description": "",
            "description_tooltip": null,
            "layout": "IPY_MODEL_ec8ace0357b14b3ca2f33282924e55f7",
            "placeholder": "​",
            "style": "IPY_MODEL_18f11484939c4269bda9e2a5540c517d",
            "value": "Downloading: 100%"
          }
        },
        "7fd757bc70e3443983e4cda3fb175510": {
          "model_module": "@jupyter-widgets/controls",
          "model_name": "FloatProgressModel",
          "model_module_version": "1.5.0",
          "state": {
            "_dom_classes": [],
            "_model_module": "@jupyter-widgets/controls",
            "_model_module_version": "1.5.0",
            "_model_name": "FloatProgressModel",
            "_view_count": null,
            "_view_module": "@jupyter-widgets/controls",
            "_view_module_version": "1.5.0",
            "_view_name": "ProgressView",
            "bar_style": "success",
            "description": "",
            "description_tooltip": null,
            "layout": "IPY_MODEL_b32e10d781104628bdc8c116123bf3c0",
            "max": 856,
            "min": 0,
            "orientation": "horizontal",
            "style": "IPY_MODEL_30f902b72175441989be2873a616c338",
            "value": 856
          }
        },
        "5caabd6c4c684b2d9e578f4bfa7a4008": {
          "model_module": "@jupyter-widgets/controls",
          "model_name": "HTMLModel",
          "model_module_version": "1.5.0",
          "state": {
            "_dom_classes": [],
            "_model_module": "@jupyter-widgets/controls",
            "_model_module_version": "1.5.0",
            "_model_name": "HTMLModel",
            "_view_count": null,
            "_view_module": "@jupyter-widgets/controls",
            "_view_module_version": "1.5.0",
            "_view_name": "HTMLView",
            "description": "",
            "description_tooltip": null,
            "layout": "IPY_MODEL_232ee595cbe5405397fca40ee858bf7e",
            "placeholder": "​",
            "style": "IPY_MODEL_e6d53ef07b48499490bf4dd1c66681d5",
            "value": " 856/856 [00:00&lt;00:00, 80.4kB/s]"
          }
        },
        "175d7d69af134ba2a06cc986e96ddefe": {
          "model_module": "@jupyter-widgets/base",
          "model_name": "LayoutModel",
          "model_module_version": "1.2.0",
          "state": {
            "_model_module": "@jupyter-widgets/base",
            "_model_module_version": "1.2.0",
            "_model_name": "LayoutModel",
            "_view_count": null,
            "_view_module": "@jupyter-widgets/base",
            "_view_module_version": "1.2.0",
            "_view_name": "LayoutView",
            "align_content": null,
            "align_items": null,
            "align_self": null,
            "border": null,
            "bottom": null,
            "display": null,
            "flex": null,
            "flex_flow": null,
            "grid_area": null,
            "grid_auto_columns": null,
            "grid_auto_flow": null,
            "grid_auto_rows": null,
            "grid_column": null,
            "grid_gap": null,
            "grid_row": null,
            "grid_template_areas": null,
            "grid_template_columns": null,
            "grid_template_rows": null,
            "height": null,
            "justify_content": null,
            "justify_items": null,
            "left": null,
            "margin": null,
            "max_height": null,
            "max_width": null,
            "min_height": null,
            "min_width": null,
            "object_fit": null,
            "object_position": null,
            "order": null,
            "overflow": null,
            "overflow_x": null,
            "overflow_y": null,
            "padding": null,
            "right": null,
            "top": null,
            "visibility": null,
            "width": null
          }
        },
        "ec8ace0357b14b3ca2f33282924e55f7": {
          "model_module": "@jupyter-widgets/base",
          "model_name": "LayoutModel",
          "model_module_version": "1.2.0",
          "state": {
            "_model_module": "@jupyter-widgets/base",
            "_model_module_version": "1.2.0",
            "_model_name": "LayoutModel",
            "_view_count": null,
            "_view_module": "@jupyter-widgets/base",
            "_view_module_version": "1.2.0",
            "_view_name": "LayoutView",
            "align_content": null,
            "align_items": null,
            "align_self": null,
            "border": null,
            "bottom": null,
            "display": null,
            "flex": null,
            "flex_flow": null,
            "grid_area": null,
            "grid_auto_columns": null,
            "grid_auto_flow": null,
            "grid_auto_rows": null,
            "grid_column": null,
            "grid_gap": null,
            "grid_row": null,
            "grid_template_areas": null,
            "grid_template_columns": null,
            "grid_template_rows": null,
            "height": null,
            "justify_content": null,
            "justify_items": null,
            "left": null,
            "margin": null,
            "max_height": null,
            "max_width": null,
            "min_height": null,
            "min_width": null,
            "object_fit": null,
            "object_position": null,
            "order": null,
            "overflow": null,
            "overflow_x": null,
            "overflow_y": null,
            "padding": null,
            "right": null,
            "top": null,
            "visibility": null,
            "width": null
          }
        },
        "18f11484939c4269bda9e2a5540c517d": {
          "model_module": "@jupyter-widgets/controls",
          "model_name": "DescriptionStyleModel",
          "model_module_version": "1.5.0",
          "state": {
            "_model_module": "@jupyter-widgets/controls",
            "_model_module_version": "1.5.0",
            "_model_name": "DescriptionStyleModel",
            "_view_count": null,
            "_view_module": "@jupyter-widgets/base",
            "_view_module_version": "1.2.0",
            "_view_name": "StyleView",
            "description_width": ""
          }
        },
        "b32e10d781104628bdc8c116123bf3c0": {
          "model_module": "@jupyter-widgets/base",
          "model_name": "LayoutModel",
          "model_module_version": "1.2.0",
          "state": {
            "_model_module": "@jupyter-widgets/base",
            "_model_module_version": "1.2.0",
            "_model_name": "LayoutModel",
            "_view_count": null,
            "_view_module": "@jupyter-widgets/base",
            "_view_module_version": "1.2.0",
            "_view_name": "LayoutView",
            "align_content": null,
            "align_items": null,
            "align_self": null,
            "border": null,
            "bottom": null,
            "display": null,
            "flex": null,
            "flex_flow": null,
            "grid_area": null,
            "grid_auto_columns": null,
            "grid_auto_flow": null,
            "grid_auto_rows": null,
            "grid_column": null,
            "grid_gap": null,
            "grid_row": null,
            "grid_template_areas": null,
            "grid_template_columns": null,
            "grid_template_rows": null,
            "height": null,
            "justify_content": null,
            "justify_items": null,
            "left": null,
            "margin": null,
            "max_height": null,
            "max_width": null,
            "min_height": null,
            "min_width": null,
            "object_fit": null,
            "object_position": null,
            "order": null,
            "overflow": null,
            "overflow_x": null,
            "overflow_y": null,
            "padding": null,
            "right": null,
            "top": null,
            "visibility": null,
            "width": null
          }
        },
        "30f902b72175441989be2873a616c338": {
          "model_module": "@jupyter-widgets/controls",
          "model_name": "ProgressStyleModel",
          "model_module_version": "1.5.0",
          "state": {
            "_model_module": "@jupyter-widgets/controls",
            "_model_module_version": "1.5.0",
            "_model_name": "ProgressStyleModel",
            "_view_count": null,
            "_view_module": "@jupyter-widgets/base",
            "_view_module_version": "1.2.0",
            "_view_name": "StyleView",
            "bar_color": null,
            "description_width": ""
          }
        },
        "232ee595cbe5405397fca40ee858bf7e": {
          "model_module": "@jupyter-widgets/base",
          "model_name": "LayoutModel",
          "model_module_version": "1.2.0",
          "state": {
            "_model_module": "@jupyter-widgets/base",
            "_model_module_version": "1.2.0",
            "_model_name": "LayoutModel",
            "_view_count": null,
            "_view_module": "@jupyter-widgets/base",
            "_view_module_version": "1.2.0",
            "_view_name": "LayoutView",
            "align_content": null,
            "align_items": null,
            "align_self": null,
            "border": null,
            "bottom": null,
            "display": null,
            "flex": null,
            "flex_flow": null,
            "grid_area": null,
            "grid_auto_columns": null,
            "grid_auto_flow": null,
            "grid_auto_rows": null,
            "grid_column": null,
            "grid_gap": null,
            "grid_row": null,
            "grid_template_areas": null,
            "grid_template_columns": null,
            "grid_template_rows": null,
            "height": null,
            "justify_content": null,
            "justify_items": null,
            "left": null,
            "margin": null,
            "max_height": null,
            "max_width": null,
            "min_height": null,
            "min_width": null,
            "object_fit": null,
            "object_position": null,
            "order": null,
            "overflow": null,
            "overflow_x": null,
            "overflow_y": null,
            "padding": null,
            "right": null,
            "top": null,
            "visibility": null,
            "width": null
          }
        },
        "e6d53ef07b48499490bf4dd1c66681d5": {
          "model_module": "@jupyter-widgets/controls",
          "model_name": "DescriptionStyleModel",
          "model_module_version": "1.5.0",
          "state": {
            "_model_module": "@jupyter-widgets/controls",
            "_model_module_version": "1.5.0",
            "_model_name": "DescriptionStyleModel",
            "_view_count": null,
            "_view_module": "@jupyter-widgets/base",
            "_view_module_version": "1.2.0",
            "_view_name": "StyleView",
            "description_width": ""
          }
        },
        "f59bf79f5d414fe7b6c2efb42dede674": {
          "model_module": "@jupyter-widgets/controls",
          "model_name": "HBoxModel",
          "model_module_version": "1.5.0",
          "state": {
            "_dom_classes": [],
            "_model_module": "@jupyter-widgets/controls",
            "_model_module_version": "1.5.0",
            "_model_name": "HBoxModel",
            "_view_count": null,
            "_view_module": "@jupyter-widgets/controls",
            "_view_module_version": "1.5.0",
            "_view_name": "HBoxView",
            "box_style": "",
            "children": [
              "IPY_MODEL_04c28746c8eb4dd9880386215c1d5b09",
              "IPY_MODEL_c864e88bebb34de585d88773915bcf2c",
              "IPY_MODEL_421d1c69accf44beb7b4f9da924f024b"
            ],
            "layout": "IPY_MODEL_13ea5536b1f0499395cfdb7608157058"
          }
        },
        "04c28746c8eb4dd9880386215c1d5b09": {
          "model_module": "@jupyter-widgets/controls",
          "model_name": "HTMLModel",
          "model_module_version": "1.5.0",
          "state": {
            "_dom_classes": [],
            "_model_module": "@jupyter-widgets/controls",
            "_model_module_version": "1.5.0",
            "_model_name": "HTMLModel",
            "_view_count": null,
            "_view_module": "@jupyter-widgets/controls",
            "_view_module_version": "1.5.0",
            "_view_name": "HTMLView",
            "description": "",
            "description_tooltip": null,
            "layout": "IPY_MODEL_103466bcdb2f40f487fce989024192a1",
            "placeholder": "​",
            "style": "IPY_MODEL_9c80295840c6418385667ef9dbbcfa51",
            "value": "Downloading: 100%"
          }
        },
        "c864e88bebb34de585d88773915bcf2c": {
          "model_module": "@jupyter-widgets/controls",
          "model_name": "FloatProgressModel",
          "model_module_version": "1.5.0",
          "state": {
            "_dom_classes": [],
            "_model_module": "@jupyter-widgets/controls",
            "_model_module_version": "1.5.0",
            "_model_name": "FloatProgressModel",
            "_view_count": null,
            "_view_module": "@jupyter-widgets/controls",
            "_view_module_version": "1.5.0",
            "_view_name": "ProgressView",
            "bar_style": "success",
            "description": "",
            "description_tooltip": null,
            "layout": "IPY_MODEL_e44693771bf346a2821c6c17bf8e46e1",
            "max": 501380823,
            "min": 0,
            "orientation": "horizontal",
            "style": "IPY_MODEL_8ce7338c1ae14918be5cb259c385f28f",
            "value": 501380823
          }
        },
        "421d1c69accf44beb7b4f9da924f024b": {
          "model_module": "@jupyter-widgets/controls",
          "model_name": "HTMLModel",
          "model_module_version": "1.5.0",
          "state": {
            "_dom_classes": [],
            "_model_module": "@jupyter-widgets/controls",
            "_model_module_version": "1.5.0",
            "_model_name": "HTMLModel",
            "_view_count": null,
            "_view_module": "@jupyter-widgets/controls",
            "_view_module_version": "1.5.0",
            "_view_name": "HTMLView",
            "description": "",
            "description_tooltip": null,
            "layout": "IPY_MODEL_27c304db254549b0abe276395e41a518",
            "placeholder": "​",
            "style": "IPY_MODEL_bef851a75bee47ada87bf65e967196b9",
            "value": " 501M/501M [00:04&lt;00:00, 109MB/s]"
          }
        },
        "13ea5536b1f0499395cfdb7608157058": {
          "model_module": "@jupyter-widgets/base",
          "model_name": "LayoutModel",
          "model_module_version": "1.2.0",
          "state": {
            "_model_module": "@jupyter-widgets/base",
            "_model_module_version": "1.2.0",
            "_model_name": "LayoutModel",
            "_view_count": null,
            "_view_module": "@jupyter-widgets/base",
            "_view_module_version": "1.2.0",
            "_view_name": "LayoutView",
            "align_content": null,
            "align_items": null,
            "align_self": null,
            "border": null,
            "bottom": null,
            "display": null,
            "flex": null,
            "flex_flow": null,
            "grid_area": null,
            "grid_auto_columns": null,
            "grid_auto_flow": null,
            "grid_auto_rows": null,
            "grid_column": null,
            "grid_gap": null,
            "grid_row": null,
            "grid_template_areas": null,
            "grid_template_columns": null,
            "grid_template_rows": null,
            "height": null,
            "justify_content": null,
            "justify_items": null,
            "left": null,
            "margin": null,
            "max_height": null,
            "max_width": null,
            "min_height": null,
            "min_width": null,
            "object_fit": null,
            "object_position": null,
            "order": null,
            "overflow": null,
            "overflow_x": null,
            "overflow_y": null,
            "padding": null,
            "right": null,
            "top": null,
            "visibility": null,
            "width": null
          }
        },
        "103466bcdb2f40f487fce989024192a1": {
          "model_module": "@jupyter-widgets/base",
          "model_name": "LayoutModel",
          "model_module_version": "1.2.0",
          "state": {
            "_model_module": "@jupyter-widgets/base",
            "_model_module_version": "1.2.0",
            "_model_name": "LayoutModel",
            "_view_count": null,
            "_view_module": "@jupyter-widgets/base",
            "_view_module_version": "1.2.0",
            "_view_name": "LayoutView",
            "align_content": null,
            "align_items": null,
            "align_self": null,
            "border": null,
            "bottom": null,
            "display": null,
            "flex": null,
            "flex_flow": null,
            "grid_area": null,
            "grid_auto_columns": null,
            "grid_auto_flow": null,
            "grid_auto_rows": null,
            "grid_column": null,
            "grid_gap": null,
            "grid_row": null,
            "grid_template_areas": null,
            "grid_template_columns": null,
            "grid_template_rows": null,
            "height": null,
            "justify_content": null,
            "justify_items": null,
            "left": null,
            "margin": null,
            "max_height": null,
            "max_width": null,
            "min_height": null,
            "min_width": null,
            "object_fit": null,
            "object_position": null,
            "order": null,
            "overflow": null,
            "overflow_x": null,
            "overflow_y": null,
            "padding": null,
            "right": null,
            "top": null,
            "visibility": null,
            "width": null
          }
        },
        "9c80295840c6418385667ef9dbbcfa51": {
          "model_module": "@jupyter-widgets/controls",
          "model_name": "DescriptionStyleModel",
          "model_module_version": "1.5.0",
          "state": {
            "_model_module": "@jupyter-widgets/controls",
            "_model_module_version": "1.5.0",
            "_model_name": "DescriptionStyleModel",
            "_view_count": null,
            "_view_module": "@jupyter-widgets/base",
            "_view_module_version": "1.2.0",
            "_view_name": "StyleView",
            "description_width": ""
          }
        },
        "e44693771bf346a2821c6c17bf8e46e1": {
          "model_module": "@jupyter-widgets/base",
          "model_name": "LayoutModel",
          "model_module_version": "1.2.0",
          "state": {
            "_model_module": "@jupyter-widgets/base",
            "_model_module_version": "1.2.0",
            "_model_name": "LayoutModel",
            "_view_count": null,
            "_view_module": "@jupyter-widgets/base",
            "_view_module_version": "1.2.0",
            "_view_name": "LayoutView",
            "align_content": null,
            "align_items": null,
            "align_self": null,
            "border": null,
            "bottom": null,
            "display": null,
            "flex": null,
            "flex_flow": null,
            "grid_area": null,
            "grid_auto_columns": null,
            "grid_auto_flow": null,
            "grid_auto_rows": null,
            "grid_column": null,
            "grid_gap": null,
            "grid_row": null,
            "grid_template_areas": null,
            "grid_template_columns": null,
            "grid_template_rows": null,
            "height": null,
            "justify_content": null,
            "justify_items": null,
            "left": null,
            "margin": null,
            "max_height": null,
            "max_width": null,
            "min_height": null,
            "min_width": null,
            "object_fit": null,
            "object_position": null,
            "order": null,
            "overflow": null,
            "overflow_x": null,
            "overflow_y": null,
            "padding": null,
            "right": null,
            "top": null,
            "visibility": null,
            "width": null
          }
        },
        "8ce7338c1ae14918be5cb259c385f28f": {
          "model_module": "@jupyter-widgets/controls",
          "model_name": "ProgressStyleModel",
          "model_module_version": "1.5.0",
          "state": {
            "_model_module": "@jupyter-widgets/controls",
            "_model_module_version": "1.5.0",
            "_model_name": "ProgressStyleModel",
            "_view_count": null,
            "_view_module": "@jupyter-widgets/base",
            "_view_module_version": "1.2.0",
            "_view_name": "StyleView",
            "bar_color": null,
            "description_width": ""
          }
        },
        "27c304db254549b0abe276395e41a518": {
          "model_module": "@jupyter-widgets/base",
          "model_name": "LayoutModel",
          "model_module_version": "1.2.0",
          "state": {
            "_model_module": "@jupyter-widgets/base",
            "_model_module_version": "1.2.0",
            "_model_name": "LayoutModel",
            "_view_count": null,
            "_view_module": "@jupyter-widgets/base",
            "_view_module_version": "1.2.0",
            "_view_name": "LayoutView",
            "align_content": null,
            "align_items": null,
            "align_self": null,
            "border": null,
            "bottom": null,
            "display": null,
            "flex": null,
            "flex_flow": null,
            "grid_area": null,
            "grid_auto_columns": null,
            "grid_auto_flow": null,
            "grid_auto_rows": null,
            "grid_column": null,
            "grid_gap": null,
            "grid_row": null,
            "grid_template_areas": null,
            "grid_template_columns": null,
            "grid_template_rows": null,
            "height": null,
            "justify_content": null,
            "justify_items": null,
            "left": null,
            "margin": null,
            "max_height": null,
            "max_width": null,
            "min_height": null,
            "min_width": null,
            "object_fit": null,
            "object_position": null,
            "order": null,
            "overflow": null,
            "overflow_x": null,
            "overflow_y": null,
            "padding": null,
            "right": null,
            "top": null,
            "visibility": null,
            "width": null
          }
        },
        "bef851a75bee47ada87bf65e967196b9": {
          "model_module": "@jupyter-widgets/controls",
          "model_name": "DescriptionStyleModel",
          "model_module_version": "1.5.0",
          "state": {
            "_model_module": "@jupyter-widgets/controls",
            "_model_module_version": "1.5.0",
            "_model_name": "DescriptionStyleModel",
            "_view_count": null,
            "_view_module": "@jupyter-widgets/base",
            "_view_module_version": "1.2.0",
            "_view_name": "StyleView",
            "description_width": ""
          }
        }
      }
    },
    "accelerator": "GPU"
  },
  "nbformat": 4,
  "nbformat_minor": 0
}